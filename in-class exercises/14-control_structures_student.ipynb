{
  "cells": [
    {
      "cell_type": "markdown",
      "metadata": {
        "id": "view-in-github",
        "colab_type": "text"
      },
      "source": [
        "<a href=\"https://colab.research.google.com/github/qfx4yk/ds1002-qfx4yk/blob/main/in-class%20exercises/14-control_structures_student.ipynb\" target=\"_parent\"><img src=\"https://colab.research.google.com/assets/colab-badge.svg\" alt=\"Open In Colab\"/></a>"
      ]
    },
    {
      "cell_type": "markdown",
      "metadata": {
        "id": "SnRjJOWFV-CD"
      },
      "source": [
        "# Control Structures\n",
        "\n",
        "```\n",
        "  University of Virginia\n",
        "  DS 1002: Programming for Data Science\n",
        "  Last updated: 10/04/2023\n",
        "```\n",
        "\n",
        "### PREREQUISITES\n",
        "- variables\n",
        "- data types\n",
        "- conditional operators\n",
        "\n",
        "### SOURCES\n",
        "\n",
        "- conditional statements  \n",
        "https://www.w3schools.com/python/python_conditions.asp\n",
        "\n",
        "- `while-loop`  \n",
        "https://www.w3schools.com/python/python_while_loops.asp\n",
        "\n",
        "### OBJECTIVES\n",
        "- Introduce the essential control structures\n",
        "\n",
        "### CONCEPTS\n",
        "\n",
        "- conditional statements\n",
        "- if, else, elif\n",
        "- for-loop\n",
        "- while-loop\n",
        "- break\n",
        "- continue\n",
        "- iteration\n",
        "\n",
        "---\n",
        "### **A Note on Indentation**\n",
        "\n",
        "This is where Python differs from most languages. To define control structures, \\\n",
        "and functional blocks of code in general, most languages use either characters like braces `{` and `}` or key words like `IF ... END IF`.\n",
        "\n",
        "Python uses tabs -- spaces, actually -- to signify logical blocks off code.\n",
        "\n",
        "It is therefore imperative to understand and get a feel for indentation.\n",
        "\n",
        "## I. Introducing Control Structures\n",
        "\n",
        "Python includes structures to control the flow of a program:\n",
        "\n",
        "- `conditions` (if, else)\n",
        "- `loops`\n",
        "  - `while-loop`    \n",
        "  Execute statements while a condition is true\n",
        "  - `for-loop`    \n",
        "  Iterates over a iterable object (list, tuple, dict, set, string)\n",
        "  \n",
        "Note: as always, proper indentation is essential."
      ]
    },
    {
      "cell_type": "code",
      "source": [
        "# this \"while\" loop will keep running until the condition is met; in other words, until the word \"password\" is typed\n",
        "passw = ''\n",
        "while passw != 'password':\n",
        "  print(\"What is the pw?\")\n",
        "  passw = input()"
      ],
      "metadata": {
        "id": "C9hOQtUPGE9U",
        "outputId": "87a935ea-5de3-4b14-c8b6-ee72b4e89954",
        "colab": {
          "base_uri": "https://localhost:8080/"
        }
      },
      "execution_count": 2,
      "outputs": [
        {
          "name": "stdout",
          "output_type": "stream",
          "text": [
            "What is the pw?\n",
            "ddd\n",
            "What is the pw?\n",
            "dddd\n",
            "What is the pw?\n",
            "password\n"
          ]
        }
      ]
    },
    {
      "cell_type": "markdown",
      "metadata": {
        "id": "KsMWyr1zV-CF"
      },
      "source": [
        "## II. Conditions\n",
        "\n"
      ]
    },
    {
      "cell_type": "markdown",
      "metadata": {
        "id": "9s9bVhTzV-CG"
      },
      "source": [
        "### `if` and `else` can be used for conditional processing.\n",
        "\n",
        "`if` conditon:  \n",
        "&nbsp;&nbsp;&nbsp;&nbsp;expression"
      ]
    },
    {
      "cell_type": "code",
      "execution_count": null,
      "metadata": {
        "id": "QjqwZG3qV-CG"
      },
      "outputs": [],
      "source": [
        "val = -2\n",
        "\n",
        "if val >=0:\n",
        "    print(val)\n",
        "else:\n",
        "    print(-val)"
      ]
    },
    {
      "cell_type": "markdown",
      "metadata": {
        "id": "0wGMZLdIV-CH"
      },
      "source": [
        "### TRY FOR YOURSELF (UNGRADED EXERCISES)\n",
        "\n",
        "1. if `z=4` write an `if` statement that evaluates if `z` is odd or even and then print \"z is even\"\n"
      ]
    },
    {
      "cell_type": "code",
      "execution_count": null,
      "metadata": {
        "id": "CzGM3DyiV-CH"
      },
      "outputs": [],
      "source": []
    },
    {
      "cell_type": "markdown",
      "metadata": {
        "id": "59uVzaedV-CH"
      },
      "source": [
        "2. Add and `else` statement to the above code to print \"z is odd\""
      ]
    },
    {
      "cell_type": "code",
      "execution_count": null,
      "metadata": {
        "id": "cXzqi0Q_V-CH"
      },
      "outputs": [],
      "source": []
    },
    {
      "cell_type": "markdown",
      "metadata": {
        "id": "7PJ4GVIFV-CH"
      },
      "source": [
        "3. Imagine we had a long list of numbers we were checking, within the `if, else` statement print what number is being checked by the condition. (Hint: use string arthimetic)"
      ]
    },
    {
      "cell_type": "code",
      "execution_count": null,
      "metadata": {
        "id": "zwmEbQ4tV-CH"
      },
      "outputs": [],
      "source": []
    },
    {
      "cell_type": "markdown",
      "metadata": {
        "id": "xS8VNpvrV-CI"
      },
      "source": [
        "### using `if`, `elif`\n",
        "\n",
        "`elif` is reached when the previous statements are not."
      ]
    },
    {
      "cell_type": "code",
      "execution_count": null,
      "metadata": {
        "id": "2VbvD5ZHV-CI"
      },
      "outputs": [],
      "source": [
        "val = -2\n",
        "\n",
        "if -10 < val < -5:\n",
        "    print('bucket 1')\n",
        "if -5 <= val < -2:\n",
        "    print('bucket 2')\n",
        "elif val == -2:\n",
        "    print('bucket 3')"
      ]
    },
    {
      "cell_type": "markdown",
      "metadata": {
        "id": "BcxzdwmtV-CI"
      },
      "source": [
        "### TRY FOR YOURSELF (UNGRADED EXERCISES)"
      ]
    },
    {
      "cell_type": "markdown",
      "metadata": {
        "id": "TFJz1NraV-CI"
      },
      "source": [
        "4. What prints in the above `if`, `elif` example if val = 5?  \n",
        "Copy the code in the cell below and run it"
      ]
    },
    {
      "cell_type": "code",
      "execution_count": null,
      "metadata": {
        "id": "vVPI-hEcV-CI"
      },
      "outputs": [],
      "source": []
    },
    {
      "cell_type": "markdown",
      "metadata": {
        "id": "I738rQh0V-CI"
      },
      "source": [
        "### using `if`, `elif`, `else`\n",
        "\n",
        "`else` can be used as a catchall"
      ]
    },
    {
      "cell_type": "code",
      "execution_count": null,
      "metadata": {
        "id": "orKYvBcTV-CI"
      },
      "outputs": [],
      "source": [
        "val = 5\n",
        "\n",
        "if -10 < val < -5:\n",
        "    print('bucket 1')\n",
        "elif -5 <= val < -2:\n",
        "    print('bucket 2')\n",
        "elif val == -2:\n",
        "    print('bucket 3')\n",
        "else:\n",
        "    print('bucket 4')"
      ]
    },
    {
      "cell_type": "markdown",
      "metadata": {
        "id": "ibkGlgdnV-CI"
      },
      "source": [
        "### TRY FOR YOURSELF (UNGRADED EXERCISES)\n",
        "5. Write a statement that evaluates if a number is a number is divisble by 2, divisble by 3, or divisble by both numbers. If there is a number that is not divisable by either number, make sure to include a statement for that case. *Test the numbers: 4, 6, 9, 13*"
      ]
    },
    {
      "cell_type": "code",
      "execution_count": null,
      "metadata": {
        "id": "YpMgr9EiV-CI"
      },
      "outputs": [],
      "source": []
    },
    {
      "cell_type": "markdown",
      "metadata": {
        "id": "qsHE03OMV-CI"
      },
      "source": [
        "### writing `if` and `else` as one-liners"
      ]
    },
    {
      "cell_type": "code",
      "execution_count": null,
      "metadata": {
        "id": "qNKbq_6WV-CI"
      },
      "outputs": [],
      "source": [
        "x = 3\n",
        "print('odd') if x % 2 == 1 else print('even')"
      ]
    },
    {
      "cell_type": "markdown",
      "metadata": {
        "id": "kCwRt1SyV-CI"
      },
      "source": [
        "Notice `==` for checking the condition  x % 2 == 1.\n",
        "\n",
        "both `if` and `else` are required. this breaks:"
      ]
    },
    {
      "cell_type": "code",
      "execution_count": null,
      "metadata": {
        "id": "G0fY6YgYV-CI"
      },
      "outputs": [],
      "source": [
        "print('odd') if x % 2 == 1"
      ]
    },
    {
      "cell_type": "markdown",
      "metadata": {
        "id": "xcBGd6LhV-CJ"
      },
      "source": [
        "### Using multiple conditions\n",
        "\n",
        "Can build complex statements. Use parentheses carefully, to keep order of operations correct."
      ]
    },
    {
      "cell_type": "code",
      "execution_count": null,
      "metadata": {
        "id": "pbr5ewzUV-CJ"
      },
      "outputs": [],
      "source": [
        "# correct\n",
        "\n",
        "val = 2\n",
        "\n",
        "if (-2 < val < 2) or (val > 10):\n",
        "    print('bucket 1')\n",
        "else:\n",
        "    print('bucket 2')"
      ]
    },
    {
      "cell_type": "code",
      "execution_count": null,
      "metadata": {
        "id": "Rs898QdRV-CJ"
      },
      "outputs": [],
      "source": [
        "# incorrect - misplaced parenthesis\n",
        "\n",
        "if (-2 < val) < 2 or val > 10:\n",
        "    print('bucket 1')\n",
        "else:\n",
        "    print('bucket 2')"
      ]
    },
    {
      "cell_type": "markdown",
      "metadata": {
        "id": "6StoSx5GV-CJ"
      },
      "source": [
        "and this is because True < 2, as True is cast to integer value 1"
      ]
    },
    {
      "cell_type": "markdown",
      "metadata": {
        "id": "bqS93BhaV-CJ"
      },
      "source": [
        "this is not the desired result...but does it make sense?"
      ]
    },
    {
      "cell_type": "markdown",
      "metadata": {
        "id": "KtYlyiCaV-CJ"
      },
      "source": [
        "## III. Loops"
      ]
    },
    {
      "cell_type": "markdown",
      "metadata": {
        "id": "SE73cQEHV-CJ"
      },
      "source": [
        "### `while-loop`  \n",
        "\n",
        "`while` condition :  \n",
        "&nbsp;&nbsp;&nbsp;&nbsp;expression  \n",
        "\n",
        "* Numerically calculating model\n",
        "* 'repeating action until condition is met'\n",
        "\n",
        "\n",
        "What does this print?"
      ]
    },
    {
      "cell_type": "code",
      "execution_count": 7,
      "metadata": {
        "id": "YVA3_jaaV-CJ",
        "outputId": "edb55ac3-e4a5-48e5-95b0-8c8e81126ccc",
        "colab": {
          "base_uri": "https://localhost:8080/"
        }
      },
      "outputs": [
        {
          "output_type": "stream",
          "name": "stdout",
          "text": [
            "2\n",
            "4\n",
            "8\n",
            "16\n"
          ]
        }
      ],
      "source": [
        "ix = 1\n",
        "while ix < 10:\n",
        "    ix = ix * 2\n",
        "    print(ix)"
      ]
    },
    {
      "cell_type": "code",
      "source": [
        "zy = 0\n",
        "\n",
        "while zy < 15:\n",
        "  print(zy)\n",
        "  zy += 1"
      ],
      "metadata": {
        "id": "2rrCC6jaHxiA",
        "outputId": "a809589d-d32c-4a0a-efcb-026f485c1c62",
        "colab": {
          "base_uri": "https://localhost:8080/"
        }
      },
      "execution_count": 6,
      "outputs": [
        {
          "output_type": "stream",
          "name": "stdout",
          "text": [
            "0\n",
            "1\n",
            "2\n",
            "3\n",
            "4\n",
            "5\n",
            "6\n",
            "7\n",
            "8\n",
            "9\n",
            "10\n",
            "11\n",
            "12\n",
            "13\n",
            "14\n"
          ]
        }
      ]
    },
    {
      "cell_type": "markdown",
      "metadata": {
        "id": "0otivW24V-CJ"
      },
      "source": [
        "### `break` - exit the loop\n",
        "\n",
        "sometimes you want to quit the loop early, if some condition is met.  \n",
        "uses `if-statement`"
      ]
    },
    {
      "cell_type": "code",
      "execution_count": 11,
      "metadata": {
        "id": "BBjqYvVKV-CJ",
        "outputId": "380f2753-3edf-4716-ab29-11e8ff09419d",
        "colab": {
          "base_uri": "https://localhost:8080/"
        }
      },
      "outputs": [
        {
          "output_type": "stream",
          "name": "stdout",
          "text": [
            "2\n",
            "4\n",
            "8\n"
          ]
        }
      ],
      "source": [
        "ix = 1\n",
        "while ix < 20:\n",
        "  ix = ix * 2\n",
        "  if ix == 16:\n",
        "      break\n",
        "  print(ix)"
      ]
    },
    {
      "cell_type": "markdown",
      "metadata": {
        "id": "kdFoqU6mV-CJ"
      },
      "source": [
        "The `break` causes the loop to end early"
      ]
    },
    {
      "cell_type": "markdown",
      "metadata": {
        "id": "WMuVyo3QV-CJ"
      },
      "source": [
        "### `continue` - stop the current iteration\n",
        "\n",
        "sometimes you want to introduce skipping behavior in the loop.  \n",
        "uses `if-statement`"
      ]
    },
    {
      "cell_type": "code",
      "execution_count": 12,
      "metadata": {
        "id": "Edlyc1d1V-CJ",
        "outputId": "1c604498-5ef5-4818-e3c3-db0fd5b0c825",
        "colab": {
          "base_uri": "https://localhost:8080/"
        }
      },
      "outputs": [
        {
          "output_type": "stream",
          "name": "stdout",
          "text": [
            "2\n",
            "skipping 4...\n",
            "8\n",
            "16\n"
          ]
        }
      ],
      "source": [
        "ix = 1\n",
        "while ix < 10:\n",
        "  ix = ix * 2\n",
        "  if ix == 4:\n",
        "    print('skipping 4...')\n",
        "    continue\n",
        "  print(ix)"
      ]
    },
    {
      "cell_type": "markdown",
      "metadata": {
        "id": "lhue27GjV-CJ"
      },
      "source": [
        "The `continue` causes the loop to skip printing 4"
      ]
    },
    {
      "cell_type": "markdown",
      "metadata": {
        "id": "MNSkqsHOV-CJ"
      },
      "source": [
        "### `for` loop\n",
        "\n",
        "`for` var in `seq` :  \n",
        "&nbsp;&nbsp;&nbsp;&nbsp;expression\n",
        "\n",
        "* 'for each var in seq, execute the expression'\n",
        "* iterate over an iterable"
      ]
    },
    {
      "cell_type": "code",
      "execution_count": 13,
      "metadata": {
        "id": "9so2ptIKV-CJ",
        "outputId": "3dcca570-1829-4939-c0d3-50686829b579",
        "colab": {
          "base_uri": "https://localhost:8080/"
        }
      },
      "outputs": [
        {
          "output_type": "stream",
          "name": "stdout",
          "text": [
            "charlottesville\n",
            "new york\n",
            "sf\n",
            "bos\n",
            "la\n"
          ]
        }
      ],
      "source": [
        "cities = ['Charlottesville','New York','SF','BOS','LA']\n",
        "\n",
        "for city in cities:\n",
        "    city = city.lower()\n",
        "    print(city)"
      ]
    },
    {
      "cell_type": "markdown",
      "metadata": {
        "id": "PNPUKFPxV-CQ"
      },
      "source": [
        "quit early if `SF` reached, using **break**"
      ]
    },
    {
      "cell_type": "code",
      "execution_count": 14,
      "metadata": {
        "id": "r3oriMbzV-CR",
        "outputId": "af3711b4-feba-477d-c6d7-bd13fa3b4947",
        "colab": {
          "base_uri": "https://localhost:8080/"
        }
      },
      "outputs": [
        {
          "output_type": "stream",
          "name": "stdout",
          "text": [
            "charlottesville\n",
            "new york\n"
          ]
        }
      ],
      "source": [
        "cities = ['Charlottesville','New York','SF','BOS','LA']\n",
        "\n",
        "for city in cities:\n",
        "    if city == 'SF':\n",
        "        break\n",
        "    city = city.lower()\n",
        "    print(city)"
      ]
    },
    {
      "cell_type": "markdown",
      "metadata": {
        "id": "9Xtuss1dV-CR"
      },
      "source": [
        "skip over `SF` if reached, using **continue**"
      ]
    },
    {
      "cell_type": "code",
      "execution_count": 16,
      "metadata": {
        "id": "0q3aw75KV-CR",
        "outputId": "0fb43455-7440-4014-97cc-9052e930c554",
        "colab": {
          "base_uri": "https://localhost:8080/"
        }
      },
      "outputs": [
        {
          "output_type": "stream",
          "name": "stdout",
          "text": [
            "charlottesville\n",
            "new york\n",
            "bos\n",
            "la\n"
          ]
        }
      ],
      "source": [
        "cities = ['Charlottesville','New York','SF','BOS','LA']\n",
        "\n",
        "for city in cities:\n",
        "    if city == 'SF':\n",
        "        continue # this means that if you see this item go through, just skip it, don't do anything\n",
        "    city = city.lower()\n",
        "    print(city)"
      ]
    },
    {
      "cell_type": "markdown",
      "metadata": {
        "id": "wK1CwW5YD9S4"
      },
      "source": [
        "Search through a dictionary by key"
      ]
    },
    {
      "cell_type": "code",
      "execution_count": null,
      "metadata": {
        "id": "nLSQj-kaD9S4"
      },
      "outputs": [],
      "source": [
        "things = {\"apples\": 1, \"bananas\": 2, \"grapes\": 3, \"mangos\": 4, \"blueberries\": 5, \"kumquats\": 6, \"kiwis\": 7}\n",
        "lookfor = \"kumquats\"\n",
        "\n",
        "for t in things:\n",
        "    if (t == lookfor):\n",
        "        # Do something\n",
        "        print(\"I found some \" + lookfor + \". It has a value of \" + str(things[t]))\n",
        "    else:\n",
        "        print(\"Nothing here\")\n",
        "        pass"
      ]
    },
    {
      "cell_type": "markdown",
      "metadata": {
        "id": "wAMDvhGvV-CR"
      },
      "source": [
        "# `while` vs `for`\n",
        "\n",
        "For loops are used to loop through a list of values or an operation in which the number of iterations is **known** in advance.\n",
        "\n",
        "While loops are when **you don't know** how many interations it will take -- you are depending on some condition to be met.\n",
        "\n",
        "It is possible for while loops to be unending, for example:"
      ]
    },
    {
      "cell_type": "code",
      "execution_count": null,
      "metadata": {
        "id": "Ey0eyU0wV-CR"
      },
      "outputs": [],
      "source": [
        "#while 1:\n",
        "    #print(\"This is so annoying\")\n",
        "\n",
        "#this will run forever and ever"
      ]
    },
    {
      "cell_type": "markdown",
      "metadata": {
        "id": "pH68u-Y-V-CR"
      },
      "source": [
        "---"
      ]
    },
    {
      "cell_type": "markdown",
      "metadata": {
        "id": "piaORlrpV-CR"
      },
      "source": [
        "### TRY FOR YOURSELF (UNGRADED EXERCISES)"
      ]
    },
    {
      "cell_type": "markdown",
      "metadata": {
        "id": "NbGe0BK_V-CR"
      },
      "source": [
        "2) Write code that does the following:\n",
        "- define a list of integers xx = [-2, 8, 0, 5, 6]\n",
        "- compute the maximum, storing in `max_val`\n",
        "- loop over each value in the list\n",
        "- if the value is less than the maximum, print the value\n",
        "- otherwise, print the string 'max_val'"
      ]
    },
    {
      "cell_type": "code",
      "execution_count": null,
      "metadata": {
        "id": "cZwCtq-CV-CR",
        "jupyter": {
          "source_hidden": true
        }
      },
      "outputs": [],
      "source": []
    },
    {
      "cell_type": "markdown",
      "metadata": {
        "id": "76ZP4SbeV-CR"
      },
      "source": [
        "3a) Write code that does the following:\n",
        "\n",
        "- set a variable `it` to 0\n",
        "- set a variable `max_iter` to 100\n",
        "- while `it` < `max_iter`, do the following:\n",
        "  - if `it` = 0 or `it` is divisible by 10, print `it`. hint: use modulo operator %\n",
        "- increase `it` by 1\n",
        "- when `it` >= `max_iter`, the program should quit"
      ]
    },
    {
      "cell_type": "code",
      "execution_count": null,
      "metadata": {
        "id": "sAsAF_PnV-CR"
      },
      "outputs": [],
      "source": []
    },
    {
      "cell_type": "markdown",
      "metadata": {
        "id": "ZgKpI5HpV-CR"
      },
      "source": [
        "3b) How many iterations did (3a) run?"
      ]
    },
    {
      "cell_type": "code",
      "execution_count": null,
      "metadata": {
        "id": "L5kC7WKAV-CR"
      },
      "outputs": [],
      "source": []
    },
    {
      "cell_type": "markdown",
      "metadata": {
        "id": "P-xMrJKAD9S6"
      },
      "source": [
        "### Try It Yourself\n",
        "\n",
        "Now try creating a Python series of some kind (list, set, tuple, dict) and populate it with some dummy data.\n",
        "\n",
        "Create a for-loop to work through the values of the series and do something special with one of the values."
      ]
    },
    {
      "cell_type": "code",
      "execution_count": null,
      "metadata": {
        "id": "KPbK0cnXD9S7"
      },
      "outputs": [],
      "source": []
    }
  ],
  "metadata": {
    "anaconda-cloud": {},
    "colab": {
      "provenance": [],
      "include_colab_link": true
    },
    "kernelspec": {
      "display_name": "Python 3.8.9 64-bit",
      "language": "python",
      "name": "python3"
    },
    "language_info": {
      "codemirror_mode": {
        "name": "ipython",
        "version": 3
      },
      "file_extension": ".py",
      "mimetype": "text/x-python",
      "name": "python",
      "nbconvert_exporter": "python",
      "pygments_lexer": "ipython3",
      "version": "3.8.9"
    },
    "vscode": {
      "interpreter": {
        "hash": "31f2aee4e71d21fbe5cf8b01ff0e069b9275f58929596ceb00d14d90e3e16cd6"
      }
    }
  },
  "nbformat": 4,
  "nbformat_minor": 0
}