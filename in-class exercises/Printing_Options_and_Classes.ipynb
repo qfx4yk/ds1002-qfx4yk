{
  "nbformat": 4,
  "nbformat_minor": 0,
  "metadata": {
    "colab": {
      "provenance": [],
      "authorship_tag": "ABX9TyOAeyWvdU99NmeHBSStLyj8",
      "include_colab_link": true
    },
    "kernelspec": {
      "name": "python3",
      "display_name": "Python 3"
    },
    "language_info": {
      "name": "python"
    }
  },
  "cells": [
    {
      "cell_type": "markdown",
      "metadata": {
        "id": "view-in-github",
        "colab_type": "text"
      },
      "source": [
        "<a href=\"https://colab.research.google.com/github/qfx4yk/ds1002-qfx4yk/blob/main/in-class%20exercises/Printing_Options_and_Classes.ipynb\" target=\"_parent\"><img src=\"https://colab.research.google.com/assets/colab-badge.svg\" alt=\"Open In Colab\"/></a>"
      ]
    },
    {
      "cell_type": "code",
      "execution_count": 15,
      "metadata": {
        "colab": {
          "base_uri": "https://localhost:8080/"
        },
        "id": "lB6-CdtcczEP",
        "outputId": "c175c585-966e-4d6d-e3fe-08010fb07a2d"
      },
      "outputs": [
        {
          "output_type": "stream",
          "name": "stdout",
          "text": [
            "The name of this band is Talking Heads and it has 4 members\n",
            "The name of this band is Talking Heads and it has 5 members\n",
            "The name of this band is Talking Heads and it has 4 members.\n"
          ]
        }
      ],
      "source": [
        "band = \"Talking Heads\"\n",
        "member_count = 4\n",
        "\n",
        "# Print - Old Fashioned\n",
        "print(\"The name of this band is \" + band + \" and it has \" + str(member_count) + \" members\")\n",
        "\n",
        "# Tuple Method\n",
        "print(\"The name of this band is\", band, \"and it has\", member_count + 1, \"members\")\n",
        "\n",
        "# F-string Method\n",
        "print(f\"The name of this band is {band} and it has {member_count} members.\")"
      ]
    },
    {
      "cell_type": "code",
      "source": [
        "# Function Output\n",
        "\n",
        "def meaningless_function(): # does not have a return statement\n",
        "  if 7 > 1:\n",
        "    pass\n",
        "\n",
        "myval = meaningless_function()\n",
        "print(myval)"
      ],
      "metadata": {
        "colab": {
          "base_uri": "https://localhost:8080/"
        },
        "id": "oHCS_aNbfFof",
        "outputId": "75522b84-2b84-4d9b-b13a-2b1fb175bbff"
      },
      "execution_count": 17,
      "outputs": [
        {
          "output_type": "stream",
          "name": "stdout",
          "text": [
            "None\n"
          ]
        }
      ]
    },
    {
      "cell_type": "code",
      "source": [
        "class Cars:\n",
        "\n",
        "  def __init__(self, x, y):\n",
        "    self.x = x\n",
        "    self.y = y\n",
        "\n",
        "  def multiply_them(self, x, y):\n",
        "    return self.x * self.y\n",
        "\n",
        "  def divide_them(self, x, y):\n",
        "    if y > x:\n",
        "      return self.x / self.y\n",
        "    elif x > y:\n",
        "      return self.x / self.y\n",
        "    else:\n",
        "      print(\"I cannot divide these!\")"
      ],
      "metadata": {
        "id": "rWhxREI1ghmo"
      },
      "execution_count": 19,
      "outputs": []
    },
    {
      "cell_type": "code",
      "source": [
        "def simple_function(x,y,z):\n",
        "  return x + y + z\n",
        "\n",
        "simple_function(5,6,7)\n",
        "\n",
        "# OR....\n",
        "simple_function(z=3,y=14,x=1)"
      ],
      "metadata": {
        "colab": {
          "base_uri": "https://localhost:8080/"
        },
        "id": "lOF6fTMvf7qi",
        "outputId": "3884465d-8b2e-41e5-b2ad-92e79991164c"
      },
      "execution_count": 22,
      "outputs": [
        {
          "output_type": "execute_result",
          "data": {
            "text/plain": [
              "18"
            ]
          },
          "metadata": {},
          "execution_count": 22
        }
      ]
    },
    {
      "cell_type": "code",
      "source": [
        "# Setting attributes in instance\n",
        "\n",
        "class Albums: # empty class\n",
        "  pass\n",
        "\n",
        "album1 = Albums()\n",
        "\n",
        "album1.genre = \"Rock\"\n",
        "album1.year = 1980\n",
        "album1.title = \"Remain In Light\"\n",
        "album1.band = \"Talking Heads\""
      ],
      "metadata": {
        "id": "5EWItSSyjEb2"
      },
      "execution_count": 39,
      "outputs": []
    },
    {
      "cell_type": "code",
      "source": [
        "class Records:\n",
        "  var1 = \"Rockets\"\n",
        "  var2 = \"Bananas\""
      ],
      "metadata": {
        "id": "bcF77crZjfnL"
      },
      "execution_count": 28,
      "outputs": []
    },
    {
      "cell_type": "code",
      "source": [
        "Records.var1 # you can fetch the attributes in many ways"
      ],
      "metadata": {
        "colab": {
          "base_uri": "https://localhost:8080/",
          "height": 36
        },
        "id": "YXEeTgQFkHOo",
        "outputId": "afee685c-0caa-4b6c-bddc-3a26f729253f"
      },
      "execution_count": 32,
      "outputs": [
        {
          "output_type": "execute_result",
          "data": {
            "text/plain": [
              "'Rockets'"
            ],
            "application/vnd.google.colaboratory.intrinsic+json": {
              "type": "string"
            }
          },
          "metadata": {},
          "execution_count": 32
        }
      ]
    },
    {
      "cell_type": "code",
      "source": [
        "record1 = Records()"
      ],
      "metadata": {
        "id": "33eNszzZkU6S"
      },
      "execution_count": 30,
      "outputs": []
    },
    {
      "cell_type": "code",
      "source": [
        "record1.var1"
      ],
      "metadata": {
        "colab": {
          "base_uri": "https://localhost:8080/",
          "height": 36
        },
        "id": "kfKlrJz9kYi8",
        "outputId": "b8bb8f69-e7d2-4b56-e7f3-fc1fccf8af1d"
      },
      "execution_count": 31,
      "outputs": [
        {
          "output_type": "execute_result",
          "data": {
            "text/plain": [
              "'Rockets'"
            ],
            "application/vnd.google.colaboratory.intrinsic+json": {
              "type": "string"
            }
          },
          "metadata": {},
          "execution_count": 31
        }
      ]
    },
    {
      "cell_type": "code",
      "source": [
        "record1.var1 = \"Mopeds\""
      ],
      "metadata": {
        "id": "7zeABFDIkiai"
      },
      "execution_count": 34,
      "outputs": []
    },
    {
      "cell_type": "code",
      "source": [
        "record1.var1 # you can repopulate within this instance"
      ],
      "metadata": {
        "colab": {
          "base_uri": "https://localhost:8080/",
          "height": 36
        },
        "id": "vM7jKvVSkk8J",
        "outputId": "a37cac7a-edaf-4138-8ef9-12391dc09a95"
      },
      "execution_count": 38,
      "outputs": [
        {
          "output_type": "execute_result",
          "data": {
            "text/plain": [
              "'Mopeds'"
            ],
            "application/vnd.google.colaboratory.intrinsic+json": {
              "type": "string"
            }
          },
          "metadata": {},
          "execution_count": 38
        }
      ]
    },
    {
      "cell_type": "code",
      "source": [
        "Records.var1 # but when you call the original class, you will still get rockets"
      ],
      "metadata": {
        "colab": {
          "base_uri": "https://localhost:8080/",
          "height": 36
        },
        "id": "TRepQLVFkpc7",
        "outputId": "901ad8fd-f5d6-4bb3-9c0a-23c50d5eb8d5"
      },
      "execution_count": 37,
      "outputs": [
        {
          "output_type": "execute_result",
          "data": {
            "text/plain": [
              "'Rockets'"
            ],
            "application/vnd.google.colaboratory.intrinsic+json": {
              "type": "string"
            }
          },
          "metadata": {},
          "execution_count": 37
        }
      ]
    }
  ]
}