{
  "cells": [
    {
      "cell_type": "markdown",
      "metadata": {
        "id": "view-in-github",
        "colab_type": "text"
      },
      "source": [
        "<a href=\"https://colab.research.google.com/github/qfx4yk/ds1002-qfx4yk/blob/main/in-class%20exercises/07-numpy-continued.ipynb\" target=\"_parent\"><img src=\"https://colab.research.google.com/assets/colab-badge.svg\" alt=\"Open In Colab\"/></a>"
      ]
    },
    {
      "cell_type": "markdown",
      "metadata": {
        "id": "-y-T4jtwGviE"
      },
      "source": [
        "```\n",
        "Course:   DS1002\n",
        "Module:   Module 5\n",
        "Topic:    NumPy Continued\n",
        "```\n",
        "\n",
        "### PREREQUISITES\n",
        "- import / import as\n",
        "- variables\n",
        "- creating basic arrays\n",
        "\n",
        "### SOURCES\n",
        "- https://numpy.org/\n",
        "- https://en.wikipedia.org/wiki/NumPy\n",
        "- https://www.scipy.org/\n",
        "- https://en.wikipedia.org/wiki/SciPy\n",
        "- https://numpy.org/doc/stable/reference/generated/numpy.ndarray.html\n",
        "- https://docs.scipy.org/doc/numpy-1.15.1/reference/generated/numpy.random.randint.html\n",
        "\n",
        "### OBJECTIVES\n",
        "- Introduction to Numpy\n",
        "\n",
        "### CONCEPTS\n",
        "- The numpy package contains useful functions for math operations\n",
        "- The ndarray is the workhorse of the package"
      ]
    },
    {
      "cell_type": "code",
      "execution_count": 1,
      "metadata": {
        "id": "AILfOgNJGviG"
      },
      "outputs": [],
      "source": [
        "import numpy as np"
      ]
    },
    {
      "cell_type": "markdown",
      "metadata": {
        "id": "ncuzokBmGviH"
      },
      "source": [
        "# Data Types\n",
        "\n",
        "One way to control the data type of a NumPy array is to declare it when the array is created using the `dtype` keyword argument. Take a look at the data type NumPy uses by default when creating an array with `np.zeros()`. Could it be updated?\n",
        "\n",
        "* Using `np.zeros()`, create an array of zeros that has three rows and two columns; call it `zero_array`.  \n",
        "* Print the data type of `zero_array`.\n"
      ]
    },
    {
      "cell_type": "code",
      "execution_count": 3,
      "metadata": {
        "id": "xafx9TvIGviH",
        "colab": {
          "base_uri": "https://localhost:8080/"
        },
        "outputId": "4ac125d2-a049-4392-d60d-50817e89a2cf"
      },
      "outputs": [
        {
          "output_type": "stream",
          "name": "stdout",
          "text": [
            "float64\n",
            "[[0. 0.]\n",
            " [0. 0.]\n",
            " [0. 0.]]\n"
          ]
        }
      ],
      "source": [
        "# Create an array of zeros with three rows and two columns\n",
        "zero_array = np.zeros((3, 2))\n",
        "\n",
        "# Print the data type of zero_array\n",
        "print(zero_array.dtype)\n",
        "print(zero_array)"
      ]
    },
    {
      "cell_type": "markdown",
      "metadata": {
        "id": "6hJhoXE_GviH"
      },
      "source": [
        "* Create a new array of zeros called `zero_int_array`, which will also have three rows and two columns, but the data type should be `np.int32`.  \n",
        "\n",
        "* Print the data type of `zero_int_array`."
      ]
    },
    {
      "cell_type": "code",
      "execution_count": 8,
      "metadata": {
        "id": "9YQeHJmeGviH",
        "colab": {
          "base_uri": "https://localhost:8080/"
        },
        "outputId": "8e11f148-7d91-4489-e616-8068accd3cba"
      },
      "outputs": [
        {
          "output_type": "stream",
          "name": "stdout",
          "text": [
            "int32\n",
            "[[0 0]\n",
            " [0 0]\n",
            " [0 0]]\n"
          ]
        }
      ],
      "source": [
        "# Create a new array of int32 zeros with three rows and two columns\n",
        "# int32 is smaller than int64\n",
        "zero_int_array = np.zeros((3, 2), dtype=np.int32)\n",
        "\n",
        "# Print the data type of zero_int_array\n",
        "print(zero_int_array.dtype)\n",
        "print(zero_int_array)"
      ]
    },
    {
      "cell_type": "code",
      "execution_count": 45,
      "metadata": {
        "id": "a5e12dCWGviH",
        "colab": {
          "base_uri": "https://localhost:8080/"
        },
        "outputId": "467fca06-53fb-4a76-8dd5-b19dcd30706e"
      },
      "outputs": [
        {
          "output_type": "execute_result",
          "data": {
            "text/plain": [
              "array([6. , 7.5, 8. , 0. , 1. ])"
            ]
          },
          "metadata": {},
          "execution_count": 45
        }
      ],
      "source": [
        "data1 = [6, 7.5, 8, 0, 1]        # create a list\n",
        "arr1 = np.array(data1)           # turn list into a numpy array\n",
        "arr1\n",
        "\n",
        "# ND ARRAYS NEED TO BE HOMOGENOUS IN TERMS OF DATA TYPE --> ONE DATA TYPE ONLY"
      ]
    },
    {
      "cell_type": "code",
      "execution_count": 9,
      "metadata": {
        "id": "1qzrva3xGviI",
        "colab": {
          "base_uri": "https://localhost:8080/"
        },
        "outputId": "713fd1ac-ca02-427d-a82d-163a05fc7ffa"
      },
      "outputs": [
        {
          "output_type": "execute_result",
          "data": {
            "text/plain": [
              "array([[1, 2, 3, 4],\n",
              "       [5, 6, 7, 8]])"
            ]
          },
          "metadata": {},
          "execution_count": 9
        }
      ],
      "source": [
        "data2 = [[1, 2, 3, 4], [5, 6, 7, 8]]       # create a 2-dimensional list\n",
        "arr2 = np.array(data2)                     # turn that list into a numpy array\n",
        "arr2"
      ]
    },
    {
      "cell_type": "code",
      "execution_count": 10,
      "metadata": {
        "id": "KwLy0JTSGviI",
        "colab": {
          "base_uri": "https://localhost:8080/"
        },
        "outputId": "fe8bd7e6-d75f-4b8c-9695-78a1a561d38f"
      },
      "outputs": [
        {
          "output_type": "execute_result",
          "data": {
            "text/plain": [
              "2"
            ]
          },
          "metadata": {},
          "execution_count": 10
        }
      ],
      "source": [
        "arr2.ndim       # get the dimension\n",
        "                # tells you how many dimensions there are"
      ]
    },
    {
      "cell_type": "code",
      "execution_count": 11,
      "metadata": {
        "id": "CeU7pinvGviI",
        "colab": {
          "base_uri": "https://localhost:8080/"
        },
        "outputId": "c43c4690-3399-4673-c2e2-0e4ddac89ba1"
      },
      "outputs": [
        {
          "output_type": "execute_result",
          "data": {
            "text/plain": [
              "(2, 4)"
            ]
          },
          "metadata": {},
          "execution_count": 11
        }
      ],
      "source": [
        "arr2.shape      # get the shape\n",
        "                # how many records in each dimension"
      ]
    },
    {
      "cell_type": "code",
      "execution_count": 12,
      "metadata": {
        "id": "zOybNYgdGviI",
        "colab": {
          "base_uri": "https://localhost:8080/"
        },
        "outputId": "2c095650-3ec2-4e1f-b5d4-4a19e2b28d96"
      },
      "outputs": [
        {
          "output_type": "execute_result",
          "data": {
            "text/plain": [
              "dtype('float64')"
            ]
          },
          "metadata": {},
          "execution_count": 12
        }
      ],
      "source": [
        "arr1.dtype      # get the data type for arr1"
      ]
    },
    {
      "cell_type": "code",
      "execution_count": 13,
      "metadata": {
        "id": "YDDGk_bJGviI",
        "colab": {
          "base_uri": "https://localhost:8080/"
        },
        "outputId": "9177f044-7833-44a6-a485-0ecca21dd344"
      },
      "outputs": [
        {
          "output_type": "execute_result",
          "data": {
            "text/plain": [
              "dtype('int64')"
            ]
          },
          "metadata": {},
          "execution_count": 13
        }
      ],
      "source": [
        "arr2.dtype      # get the data type for arr2"
      ]
    },
    {
      "cell_type": "code",
      "execution_count": 16,
      "metadata": {
        "id": "5aAHNKBdHFJc",
        "colab": {
          "base_uri": "https://localhost:8080/"
        },
        "outputId": "af44ed39-85c4-47c5-f10a-abbc2c792313"
      },
      "outputs": [
        {
          "output_type": "stream",
          "name": "stdout",
          "text": [
            "[1. 2. 3.]\n"
          ]
        },
        {
          "output_type": "execute_result",
          "data": {
            "text/plain": [
              "dtype('float64')"
            ]
          },
          "metadata": {},
          "execution_count": 16
        }
      ],
      "source": [
        "arr1 = np.array([1, 2, 3], dtype=np.float64)\n",
        "print(arr1)\n",
        "arr1.dtype"
      ]
    },
    {
      "cell_type": "code",
      "execution_count": 17,
      "metadata": {
        "id": "tYx2e2SYHcNU",
        "colab": {
          "base_uri": "https://localhost:8080/"
        },
        "outputId": "e99cd198-c9f4-4ad4-bb2e-25e8293af1b3"
      },
      "outputs": [
        {
          "output_type": "stream",
          "name": "stdout",
          "text": [
            "[1 2 3]\n"
          ]
        },
        {
          "output_type": "execute_result",
          "data": {
            "text/plain": [
              "dtype('int32')"
            ]
          },
          "metadata": {},
          "execution_count": 17
        }
      ],
      "source": [
        "arr2 = np.array([1, 2, 3], dtype=np.int32)\n",
        "print(arr2)\n",
        "arr2.dtype"
      ]
    },
    {
      "cell_type": "code",
      "execution_count": 18,
      "metadata": {
        "id": "w_Y6EmmYHdBr",
        "colab": {
          "base_uri": "https://localhost:8080/"
        },
        "outputId": "aec2f86a-0f5f-43f1-b213-57767f51a64e"
      },
      "outputs": [
        {
          "output_type": "execute_result",
          "data": {
            "text/plain": [
              "dtype('int64')"
            ]
          },
          "metadata": {},
          "execution_count": 18
        }
      ],
      "source": [
        "arr = np.array([1, 2, 3, 4, 5])\n",
        "arr.dtype"
      ]
    },
    {
      "cell_type": "code",
      "execution_count": 19,
      "metadata": {
        "id": "d9y9gQZnHfgQ",
        "colab": {
          "base_uri": "https://localhost:8080/"
        },
        "outputId": "a7fbb1d5-baee-4756-be37-b5b8ab722441"
      },
      "outputs": [
        {
          "output_type": "execute_result",
          "data": {
            "text/plain": [
              "dtype('float64')"
            ]
          },
          "metadata": {},
          "execution_count": 19
        }
      ],
      "source": [
        "float_arr = arr.astype(np.float64)\n",
        "float_arr.dtype"
      ]
    },
    {
      "cell_type": "code",
      "execution_count": 20,
      "metadata": {
        "id": "Ioa95YuUHjke",
        "colab": {
          "base_uri": "https://localhost:8080/"
        },
        "outputId": "7a3ffcf8-ddb4-4b00-de01-2b1ef30e536d"
      },
      "outputs": [
        {
          "output_type": "execute_result",
          "data": {
            "text/plain": [
              "array([ 3.7, -1.2, -2.6,  0.5, 12.9, 10.1])"
            ]
          },
          "metadata": {},
          "execution_count": 20
        }
      ],
      "source": [
        "arr = np.array([3.7, -1.2, -2.6, 0.5, 12.9, 10.1])\n",
        "arr"
      ]
    },
    {
      "cell_type": "code",
      "execution_count": 23,
      "metadata": {
        "id": "H2Ref496HmEn",
        "colab": {
          "base_uri": "https://localhost:8080/"
        },
        "outputId": "853d932c-f545-4403-cfa0-807aad4cb18c"
      },
      "outputs": [
        {
          "output_type": "execute_result",
          "data": {
            "text/plain": [
              "array([ 3, -1, -2,  0, 12, 10], dtype=int32)"
            ]
          },
          "metadata": {},
          "execution_count": 23
        }
      ],
      "source": [
        "# Casting variables in array to integers\n",
        "arr.astype(np.int32)"
      ]
    },
    {
      "cell_type": "code",
      "execution_count": 24,
      "metadata": {
        "id": "YcVkJW44Hovc",
        "colab": {
          "base_uri": "https://localhost:8080/"
        },
        "outputId": "6aa692fa-6953-4b52-aa07-298802891b21"
      },
      "outputs": [
        {
          "output_type": "execute_result",
          "data": {
            "text/plain": [
              "array([ 1.25, -9.6 , 42.  ])"
            ]
          },
          "metadata": {},
          "execution_count": 24
        }
      ],
      "source": [
        "# Casting variables in array to floats\n",
        "numeric_strings = np.array(['1.25', '-9.6', '42'], dtype=np.string_)\n",
        "numeric_strings.astype(float)"
      ]
    },
    {
      "cell_type": "markdown",
      "source": [
        "# Basic Array Manipulations + Calculations\n",
        "\n",
        "NumPy has over 500 basic operations, most of which can be performed upon array data. Here are some common/obvious examples:"
      ],
      "metadata": {
        "id": "_mnr60XBhlQu"
      }
    },
    {
      "cell_type": "code",
      "execution_count": 25,
      "metadata": {
        "id": "oj_yeFhVhr00",
        "colab": {
          "base_uri": "https://localhost:8080/"
        },
        "outputId": "1d45be40-2475-4e2d-8744-0537ee80552c"
      },
      "outputs": [
        {
          "output_type": "stream",
          "name": "stdout",
          "text": [
            "[[10  9  8  7  6]\n",
            " [ 5  4  3  2  1]]\n",
            "[[ 1  2  3  4  5]\n",
            " [ 6  7  8  9 10]]\n",
            "[ 1  2  3  4  5  6  7  8  9 10]\n",
            "1\n",
            "10\n",
            "5.5\n",
            "[[ 0.84147098  0.90929743  0.14112001 -0.7568025  -0.95892427]\n",
            " [-0.2794155   0.6569866   0.98935825  0.41211849 -0.54402111]]\n",
            "2.8722813232690143\n"
          ]
        }
      ],
      "source": [
        "# Start with a basic two-dimensional array and manipulate in basic ways:\n",
        "foo = np.array([[1,2,3,4,5],[6,7,8,9,10]])\n",
        "\n",
        "# flip - reverse the data of an array\n",
        "oof = np.flip(foo)\n",
        "print(oof)\n",
        "\n",
        "# copy - copy an array to an entirely separate array\n",
        "goo = np.copy(foo)\n",
        "print(goo)\n",
        "\n",
        "# concatenate - combine all elements within an array into a single list\n",
        "new_foo = np.concatenate(foo)\n",
        "print(new_foo)\n",
        "\n",
        "# min\n",
        "foomin = np.min(foo)\n",
        "print(foomin)\n",
        "\n",
        "# max\n",
        "foomax = np.max(foo)\n",
        "print(foomax)\n",
        "\n",
        "# mean\n",
        "foomean = np.mean(foo)\n",
        "print(foomean)\n",
        "\n",
        "# sin/cos/tan\n",
        "foosin = np.sin(foo)\n",
        "print(foosin)\n",
        "\n",
        "# standard deviation\n",
        "foostd = np.std(foo)\n",
        "print(foostd)"
      ]
    },
    {
      "cell_type": "markdown",
      "source": [
        "# Inserting + Dropping Array Values\n",
        "\n",
        "There are times it's useful to drop a specific index or the start/end of an array of values."
      ],
      "metadata": {
        "id": "CiViyuDPel1F"
      }
    },
    {
      "cell_type": "code",
      "source": [
        "# Drop the first item\n",
        "\n",
        "myarr = np.array([10,15,20,25,30,35,40,45,50])\n",
        "\n",
        "drop_start = myarr[1:]\n",
        "print(drop_start)"
      ],
      "metadata": {
        "id": "JWSMOpVNeuz0",
        "colab": {
          "base_uri": "https://localhost:8080/"
        },
        "outputId": "35633815-31b5-4fa4-c822-ea1c9003cc98"
      },
      "execution_count": 26,
      "outputs": [
        {
          "output_type": "stream",
          "name": "stdout",
          "text": [
            "[15 20 25 30 35 40 45 50]\n"
          ]
        }
      ]
    },
    {
      "cell_type": "code",
      "source": [
        "# Drop the last item\n",
        "\n",
        "drop_end = myarr[:-1]\n",
        "print(drop_end)"
      ],
      "metadata": {
        "id": "55GV3eHqfCGi",
        "colab": {
          "base_uri": "https://localhost:8080/"
        },
        "outputId": "5663ea32-028c-4ac2-97e1-2abe9966ff43"
      },
      "execution_count": 27,
      "outputs": [
        {
          "output_type": "stream",
          "name": "stdout",
          "text": [
            "[10 15 20 25 30 35 40 45]\n"
          ]
        }
      ]
    },
    {
      "cell_type": "code",
      "source": [
        "# Drop a specific index\n",
        "\n",
        "drop_second_index = np.delete(myarr, 2)\n",
        "print(drop_second_index)"
      ],
      "metadata": {
        "id": "t_0oJQGPfTo3",
        "colab": {
          "base_uri": "https://localhost:8080/"
        },
        "outputId": "98d887e8-9969-4951-89c1-0cadac49b8b1"
      },
      "execution_count": 28,
      "outputs": [
        {
          "output_type": "stream",
          "name": "stdout",
          "text": [
            "[10 15 25 30 35 40 45 50]\n"
          ]
        }
      ]
    },
    {
      "cell_type": "code",
      "source": [
        "# Drop every other item in the array\n",
        "# Removes every other item starting with 0\n",
        "\n",
        "every_other = np.delete(myarr, np.arange(0, len(myarr), 2))\n",
        "print(every_other)\n",
        "\n",
        "# Another version that removes every other starting with 1\n",
        "every_other = np.delete(myarr, np.arange(1, len(myarr), 2))\n",
        "print(every_other)"
      ],
      "metadata": {
        "id": "D054l_D1fdW4",
        "colab": {
          "base_uri": "https://localhost:8080/"
        },
        "outputId": "edf70c29-d1d7-4a09-d3b4-0ba7fd03acb1"
      },
      "execution_count": 30,
      "outputs": [
        {
          "output_type": "stream",
          "name": "stdout",
          "text": [
            "[15 25 35 45]\n",
            "[10 20 30 40 50]\n"
          ]
        }
      ]
    },
    {
      "cell_type": "markdown",
      "metadata": {
        "id": "Pt51js_uGviI"
      },
      "source": [
        "# Slicing\n",
        "\n",
        "**Higher Dimensional Arrays**"
      ]
    },
    {
      "cell_type": "code",
      "execution_count": 31,
      "metadata": {
        "editable": true,
        "id": "cXyHQD1uGviI",
        "jupyter": {
          "outputs_hidden": false
        },
        "outputId": "4dd5b40d-07ec-439c-da69-030793f7fdd5",
        "colab": {
          "base_uri": "https://localhost:8080/"
        }
      },
      "outputs": [
        {
          "output_type": "execute_result",
          "data": {
            "text/plain": [
              "array([[1, 2, 3],\n",
              "       [4, 5, 6],\n",
              "       [7, 8, 9]])"
            ]
          },
          "metadata": {},
          "execution_count": 31
        }
      ],
      "source": [
        "arr2d = np.array([[1, 2, 3], [4, 5, 6], [7, 8, 9]])\n",
        "arr2d"
      ]
    },
    {
      "cell_type": "code",
      "execution_count": 32,
      "metadata": {
        "editable": true,
        "id": "C-uyvPMbGviJ",
        "jupyter": {
          "outputs_hidden": false
        },
        "outputId": "f29b7614-87d4-4d43-c42a-8ddda2cab6a1",
        "colab": {
          "base_uri": "https://localhost:8080/"
        }
      },
      "outputs": [
        {
          "output_type": "execute_result",
          "data": {
            "text/plain": [
              "array([7, 8, 9])"
            ]
          },
          "metadata": {},
          "execution_count": 32
        }
      ],
      "source": [
        "arr2d[2]"
      ]
    },
    {
      "cell_type": "code",
      "execution_count": 34,
      "metadata": {
        "editable": true,
        "id": "v6oZZo3_GviJ",
        "jupyter": {
          "outputs_hidden": false
        },
        "colab": {
          "base_uri": "https://localhost:8080/"
        },
        "outputId": "3ae149fc-1a96-4389-e1d2-3212bbad6d43"
      },
      "outputs": [
        {
          "output_type": "execute_result",
          "data": {
            "text/plain": [
              "3"
            ]
          },
          "metadata": {},
          "execution_count": 34
        }
      ],
      "source": [
        "arr2d[0][2]     # index 2 item in the first array [0]"
      ]
    },
    {
      "cell_type": "markdown",
      "metadata": {
        "id": "OQoiWqP8GviJ"
      },
      "source": [
        "\n",
        "\n",
        "**Slicing: Simplified notation**"
      ]
    },
    {
      "cell_type": "code",
      "execution_count": 35,
      "metadata": {
        "editable": true,
        "id": "dlzPyEjyGviJ",
        "jupyter": {
          "outputs_hidden": false
        },
        "colab": {
          "base_uri": "https://localhost:8080/"
        },
        "outputId": "e233449c-85b7-4862-e182-3ea66e8e4891"
      },
      "outputs": [
        {
          "output_type": "execute_result",
          "data": {
            "text/plain": [
              "3"
            ]
          },
          "metadata": {},
          "execution_count": 35
        }
      ],
      "source": [
        "arr2d[0, 2]"
      ]
    },
    {
      "cell_type": "markdown",
      "metadata": {
        "id": "H5_SeBXOGviJ"
      },
      "source": [
        "A nice visual of a 2D array\n",
        "\n",
        "<img src=\"https://learning.oreilly.com/api/v2/epubs/urn:orm:book:9781449323592/files/httpatomoreillycomsourceoreillyimages2172112.png\" height=\"50%\" width=\"50%\"/>"
      ]
    },
    {
      "cell_type": "markdown",
      "metadata": {
        "id": "kchDQjMnGviJ"
      },
      "source": [
        "**Two-Dimensional Array Slicing**\n",
        "\n",
        "<img src=\"https://learning.oreilly.com/api/v2/epubs/urn:orm:book:9781449323592/files/httpatomoreillycomsourceoreillyimages2172114.png\" height=\"50%\" width=\"50%\"/>"
      ]
    },
    {
      "cell_type": "markdown",
      "metadata": {
        "id": "8_yM1k7FGviJ"
      },
      "source": [
        "**3D arrays**"
      ]
    },
    {
      "cell_type": "code",
      "execution_count": 36,
      "metadata": {
        "editable": true,
        "id": "Ag4yJHkeGviJ",
        "jupyter": {
          "outputs_hidden": false
        },
        "colab": {
          "base_uri": "https://localhost:8080/"
        },
        "outputId": "3be00c0e-1801-4c2a-f25d-31f58fd261c9"
      },
      "outputs": [
        {
          "output_type": "execute_result",
          "data": {
            "text/plain": [
              "array([[[ 1,  2,  3],\n",
              "        [ 4,  5,  6]],\n",
              "\n",
              "       [[ 7,  8,  9],\n",
              "        [10, 11, 12]]])"
            ]
          },
          "metadata": {},
          "execution_count": 36
        }
      ],
      "source": [
        "arr3d = np.array([[[1, 2, 3], [4, 5, 6]], [[7, 8, 9], [10, 11, 12]]])\n",
        "\n",
        "arr3d"
      ]
    },
    {
      "cell_type": "code",
      "execution_count": 37,
      "metadata": {
        "id": "HlvrpZVPGviJ",
        "colab": {
          "base_uri": "https://localhost:8080/"
        },
        "outputId": "ee8fa797-d22b-4ff8-acea-9c84f903eb6f"
      },
      "outputs": [
        {
          "output_type": "execute_result",
          "data": {
            "text/plain": [
              "(2, 2, 3)"
            ]
          },
          "metadata": {},
          "execution_count": 37
        }
      ],
      "source": [
        "arr3d.shape"
      ]
    },
    {
      "cell_type": "code",
      "execution_count": 38,
      "metadata": {
        "editable": true,
        "id": "Fm-pWgYXGviJ",
        "jupyter": {
          "outputs_hidden": false
        },
        "colab": {
          "base_uri": "https://localhost:8080/"
        },
        "outputId": "4b62863c-dcab-4513-ad5b-968ead4663e7"
      },
      "outputs": [
        {
          "output_type": "execute_result",
          "data": {
            "text/plain": [
              "array([[[ 1,  2,  3],\n",
              "        [ 4,  5,  6]],\n",
              "\n",
              "       [[ 7,  8,  9],\n",
              "        [10, 11, 12]]])"
            ]
          },
          "metadata": {},
          "execution_count": 38
        }
      ],
      "source": [
        "arr3d"
      ]
    },
    {
      "cell_type": "markdown",
      "metadata": {
        "id": "6VAqLUBRGviJ",
        "tags": []
      },
      "source": [
        "If you find NumPy's way of showing the data a bit difficult to parse visually.\n",
        "\n",
        "💡 **Here is a way to visualize 3 and higher dimensional data:**\n",
        "\n",
        "```python\n",
        "[ # AXIS 0                     CONTAINS 2 ELEMENTS (arrays)\n",
        "    [ # AXIS 1                 CONTAINS 2 ELEMENTS (arrays)\n",
        "        [1, 2, 3], # AXIS 3    CONTAINS 3 ELEMENTS (integers)\n",
        "        [4, 5, 6]  # AXIS 3\n",
        "    ],  \n",
        "    [ # AXIS 1\n",
        "        [7, 8, 9],\n",
        "        [10, 11, 12]\n",
        "    ]\n",
        "]\n",
        "```\n",
        "Each axis is a level in the nested hierarchy, i.e. a tree or DAG (directed-acyclic graph).\n",
        "\n",
        "* Each axis is a container.\n",
        "* There is only one top container.\n",
        "* Only the bottom containers have data."
      ]
    },
    {
      "cell_type": "markdown",
      "metadata": {
        "id": "NKkVfrMYGviJ"
      },
      "source": [
        "**Omit lower indices**\n",
        "\n",
        "In multidimensional arrays, if you omit later indices, the returned object will be a **lower-dimensional ndarray** consisting of all the data contained by the higher indexed dimension.\n",
        "\n",
        "So in the 2 × 2 × 3 array `arr3d`:"
      ]
    },
    {
      "cell_type": "code",
      "execution_count": 39,
      "metadata": {
        "editable": true,
        "id": "ERwpcfHNGviJ",
        "jupyter": {
          "outputs_hidden": false
        },
        "colab": {
          "base_uri": "https://localhost:8080/"
        },
        "outputId": "25b11f97-ee39-42f2-ae1f-4370956ab494"
      },
      "outputs": [
        {
          "output_type": "execute_result",
          "data": {
            "text/plain": [
              "array([[1, 2, 3],\n",
              "       [4, 5, 6]])"
            ]
          },
          "metadata": {},
          "execution_count": 39
        }
      ],
      "source": [
        "arr3d[0]"
      ]
    },
    {
      "cell_type": "markdown",
      "metadata": {
        "id": "j3Tj6WFaGviJ"
      },
      "source": [
        "Saving data before modifying an array."
      ]
    },
    {
      "cell_type": "code",
      "execution_count": 40,
      "metadata": {
        "editable": true,
        "id": "V4ofZLp0GviJ",
        "jupyter": {
          "outputs_hidden": false
        },
        "colab": {
          "base_uri": "https://localhost:8080/"
        },
        "outputId": "a0604fb7-02df-4d98-ad2a-d67e90f60748"
      },
      "outputs": [
        {
          "output_type": "execute_result",
          "data": {
            "text/plain": [
              "array([[[42, 42, 42],\n",
              "        [42, 42, 42]],\n",
              "\n",
              "       [[ 7,  8,  9],\n",
              "        [10, 11, 12]]])"
            ]
          },
          "metadata": {},
          "execution_count": 40
        }
      ],
      "source": [
        "old_values = arr3d[0].copy()\n",
        "arr3d[0] = 42\n",
        "arr3d"
      ]
    },
    {
      "cell_type": "markdown",
      "metadata": {
        "id": "O8U6N49VGviJ"
      },
      "source": [
        "Putting the data back."
      ]
    },
    {
      "cell_type": "code",
      "execution_count": 41,
      "metadata": {
        "editable": true,
        "id": "TCxoaJhSGviK",
        "jupyter": {
          "outputs_hidden": false
        },
        "colab": {
          "base_uri": "https://localhost:8080/"
        },
        "outputId": "72168b7f-0674-4962-d8c6-6b37601241de"
      },
      "outputs": [
        {
          "output_type": "execute_result",
          "data": {
            "text/plain": [
              "array([[[ 1,  2,  3],\n",
              "        [ 4,  5,  6]],\n",
              "\n",
              "       [[ 7,  8,  9],\n",
              "        [10, 11, 12]]])"
            ]
          },
          "metadata": {},
          "execution_count": 41
        }
      ],
      "source": [
        "arr3d[0] = old_values\n",
        "arr3d"
      ]
    },
    {
      "cell_type": "markdown",
      "metadata": {
        "id": "3S5QVCrhGviK"
      },
      "source": [
        "Similarly, `arr3d[1, 0]` gives you all of the values whose indices start with (1, 0), forming a 1-dimensional array:"
      ]
    },
    {
      "cell_type": "code",
      "execution_count": 42,
      "metadata": {
        "editable": true,
        "id": "9YZIypDsGviK",
        "jupyter": {
          "outputs_hidden": false
        },
        "colab": {
          "base_uri": "https://localhost:8080/"
        },
        "outputId": "03b85902-1b19-4d65-cd99-6f47785ee6e8"
      },
      "outputs": [
        {
          "output_type": "execute_result",
          "data": {
            "text/plain": [
              "array([7, 8, 9])"
            ]
          },
          "metadata": {},
          "execution_count": 42
        }
      ],
      "source": [
        "arr3d[1, 0]"
      ]
    },
    {
      "cell_type": "code",
      "execution_count": 43,
      "metadata": {
        "editable": true,
        "id": "rZ8KkmPOGviK",
        "jupyter": {
          "outputs_hidden": false
        },
        "colab": {
          "base_uri": "https://localhost:8080/"
        },
        "outputId": "0531ac6c-4542-49c8-bfdc-61c15cf3bc41"
      },
      "outputs": [
        {
          "output_type": "execute_result",
          "data": {
            "text/plain": [
              "array([[ 7,  8,  9],\n",
              "       [10, 11, 12]])"
            ]
          },
          "metadata": {},
          "execution_count": 43
        }
      ],
      "source": [
        "x = arr3d[1]\n",
        "x"
      ]
    },
    {
      "cell_type": "code",
      "execution_count": 44,
      "metadata": {
        "editable": true,
        "id": "kW_r5Om9GviK",
        "jupyter": {
          "outputs_hidden": false
        },
        "colab": {
          "base_uri": "https://localhost:8080/"
        },
        "outputId": "bf157a75-80d8-4b56-b429-523ec353bf0f"
      },
      "outputs": [
        {
          "output_type": "execute_result",
          "data": {
            "text/plain": [
              "array([7, 8, 9])"
            ]
          },
          "metadata": {},
          "execution_count": 44
        }
      ],
      "source": [
        "x[0]"
      ]
    }
  ],
  "metadata": {
    "anaconda-cloud": {},
    "colab": {
      "provenance": [],
      "include_colab_link": true
    },
    "kernelspec": {
      "display_name": "Python 3.8.9 64-bit",
      "language": "python",
      "name": "python3"
    },
    "language_info": {
      "codemirror_mode": {
        "name": "ipython",
        "version": 3
      },
      "file_extension": ".py",
      "mimetype": "text/x-python",
      "name": "python",
      "nbconvert_exporter": "python",
      "pygments_lexer": "ipython3",
      "version": "3.9.6"
    },
    "vscode": {
      "interpreter": {
        "hash": "31f2aee4e71d21fbe5cf8b01ff0e069b9275f58929596ceb00d14d90e3e16cd6"
      }
    }
  },
  "nbformat": 4,
  "nbformat_minor": 0
}