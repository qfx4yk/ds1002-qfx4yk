{
  "nbformat": 4,
  "nbformat_minor": 0,
  "metadata": {
    "colab": {
      "provenance": [],
      "include_colab_link": true
    },
    "kernelspec": {
      "name": "python3",
      "display_name": "Python 3"
    },
    "language_info": {
      "name": "python"
    }
  },
  "cells": [
    {
      "cell_type": "markdown",
      "metadata": {
        "id": "view-in-github",
        "colab_type": "text"
      },
      "source": [
        "<a href=\"https://colab.research.google.com/github/qfx4yk/ds1002-qfx4yk/blob/main/in-class%20exercises/functions-warmup.ipynb\" target=\"_parent\"><img src=\"https://colab.research.google.com/assets/colab-badge.svg\" alt=\"Open In Colab\"/></a>"
      ]
    },
    {
      "cell_type": "markdown",
      "source": [
        "# Warm-Up"
      ],
      "metadata": {
        "id": "J1KpP6ms77_s"
      }
    },
    {
      "cell_type": "code",
      "execution_count": 9,
      "metadata": {
        "id": "vHvAikqF76bK",
        "outputId": "52b05f94-24ed-4126-be15-950d714fc193",
        "colab": {
          "base_uri": "https://localhost:8080/"
        }
      },
      "outputs": [
        {
          "output_type": "stream",
          "name": "stdout",
          "text": [
            "2 is an even number.\n",
            "3 is an odd number.\n",
            "4 is an even number.\n",
            "5 is an odd number.\n",
            "6 is an even number.\n"
          ]
        }
      ],
      "source": [
        "# Write a function that takes TWO integer parameters.\n",
        "# The function should range from the first integer to the second\n",
        "# The function should then evaluate each integer and determine whether\n",
        "# it is even or odd, and print that out (for every item)\n",
        "#\n",
        "\n",
        "def even_or_odd(x,y):\n",
        "  for n in range(x,y):\n",
        "    if n % 2 == 0:\n",
        "      print(n, \"is an even number.\")\n",
        "    else:\n",
        "      print(n, \"is an odd number.\")\n",
        "\n",
        "even_or_odd(2,7)"
      ]
    }
  ]
}