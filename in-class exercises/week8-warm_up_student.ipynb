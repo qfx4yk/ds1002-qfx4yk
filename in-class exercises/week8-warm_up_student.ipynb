{
  "cells": [
    {
      "cell_type": "markdown",
      "metadata": {
        "id": "view-in-github",
        "colab_type": "text"
      },
      "source": [
        "<a href=\"https://colab.research.google.com/github/qfx4yk/ds1002-qfx4yk/blob/main/in-class%20exercises/week8-warm_up_student.ipynb\" target=\"_parent\"><img src=\"https://colab.research.google.com/assets/colab-badge.svg\" alt=\"Open In Colab\"/></a>"
      ]
    },
    {
      "cell_type": "markdown",
      "metadata": {
        "id": "zjanBhX9WjtJ"
      },
      "source": [
        "# Warm-up - Boolean Operators\n",
        "\n",
        "Python has THREE boolean operators, also known as \"logical\" operators:\n",
        "\n",
        "- `and`\n",
        "- `or`\n",
        "- `not`\n",
        "\n",
        "Evaluating other python expressions using these boolean operators returns a \"boolean\" reply: `True` or `False`."
      ]
    },
    {
      "cell_type": "code",
      "execution_count": 1,
      "metadata": {
        "id": "5nYXTcRDWjtL"
      },
      "outputs": [],
      "source": [
        "# Define variables\n",
        "my_float = 18.0\n",
        "your_float = 14.0"
      ]
    },
    {
      "cell_type": "markdown",
      "metadata": {
        "id": "BL2wPegvWjtM"
      },
      "source": [
        "1. `my_float` bigger than 10 and smaller than 18?  \n",
        "(use a boolean operator)"
      ]
    },
    {
      "cell_type": "code",
      "execution_count": 6,
      "metadata": {
        "id": "UXuoQsaIWjtM",
        "outputId": "6aa82e4a-f423-4735-f586-4bd76acf331b",
        "colab": {
          "base_uri": "https://localhost:8080/"
        }
      },
      "outputs": [
        {
          "output_type": "stream",
          "name": "stdout",
          "text": [
            "False\n",
            "False\n"
          ]
        }
      ],
      "source": [
        "print(10 < my_float < 18)\n",
        "print(my_float > 10 and my_float < 18)"
      ]
    },
    {
      "cell_type": "markdown",
      "metadata": {
        "id": "VMJqD1mOWjtM"
      },
      "source": [
        "2. `my_float` smaller than 14 or bigger than 17?  \n",
        "(use a boolean operator)"
      ]
    },
    {
      "cell_type": "code",
      "execution_count": 4,
      "metadata": {
        "id": "UeSicTQuWjtM",
        "outputId": "6c99dc29-14ec-4139-de01-39e8f3e512ff",
        "colab": {
          "base_uri": "https://localhost:8080/"
        }
      },
      "outputs": [
        {
          "output_type": "execute_result",
          "data": {
            "text/plain": [
              "True"
            ]
          },
          "metadata": {},
          "execution_count": 4
        }
      ],
      "source": [
        "my_float < 14 or my_float > 17"
      ]
    },
    {
      "cell_type": "markdown",
      "metadata": {
        "id": "eqV9yn6BWjtM"
      },
      "source": [
        "3. Double `my_float` smaller than triple `your_float`?"
      ]
    },
    {
      "cell_type": "code",
      "execution_count": 8,
      "metadata": {
        "id": "Xia2m-nfWjtM",
        "outputId": "f21b5b14-be60-4d55-a933-1927fab725bf",
        "colab": {
          "base_uri": "https://localhost:8080/"
        }
      },
      "outputs": [
        {
          "output_type": "execute_result",
          "data": {
            "text/plain": [
              "True"
            ]
          },
          "metadata": {},
          "execution_count": 8
        }
      ],
      "source": [
        "my_float * 2 < your_float * 3"
      ]
    },
    {
      "cell_type": "code",
      "source": [
        "my_float == your_float"
      ],
      "metadata": {
        "id": "foyTLMpMyQ5J",
        "outputId": "4aa79307-1ff9-4290-cfb9-44c02ec02e28",
        "colab": {
          "base_uri": "https://localhost:8080/"
        }
      },
      "execution_count": 9,
      "outputs": [
        {
          "output_type": "execute_result",
          "data": {
            "text/plain": [
              "False"
            ]
          },
          "metadata": {},
          "execution_count": 9
        }
      ]
    },
    {
      "cell_type": "markdown",
      "metadata": {
        "id": "EMPkl0olWjtN"
      },
      "source": [
        "4.\n",
        "`x = 8`  \n",
        "`y = 9`  \n",
        "`not(not(x < 3) and not(y > 14 or y > 10))`  \n",
        "\n",
        "---\n",
        "\n",
        "What will be the result if you execute these statements? (refrain from actually running - use your brain)   \n",
        "a. True  \n",
        "b. False  \n",
        "c. An error  \n",
        "\n",
        "*note: `not` has a higher priority than `and` and `or`; it is executed first*\n",
        "\n",
        "8 < 3 is False -> not(False) is True -> not(True) is False\n",
        "9 > 14 is False, 9 > 10 is False -> False -> not(False) -> True\n",
        "False and True -> False"
      ]
    },
    {
      "cell_type": "code",
      "execution_count": 10,
      "metadata": {
        "id": "GYRWw4EUWjtN",
        "outputId": "a944545c-9b91-4eda-a0b4-0b0677ed86ac",
        "colab": {
          "base_uri": "https://localhost:8080/"
        }
      },
      "outputs": [
        {
          "output_type": "execute_result",
          "data": {
            "text/plain": [
              "False"
            ]
          },
          "metadata": {},
          "execution_count": 10
        }
      ],
      "source": [
        "# note that the \"not\" is executed first before taking \"and\" or \"or\" into consideration\n",
        "x = 8\n",
        "y = 9\n",
        "not(not(x < 3) and not(y > 14 or y > 10))"
      ]
    },
    {
      "cell_type": "code",
      "source": [
        "print(True and True)\n",
        "print(True and False)\n",
        "print(False and True)\n",
        "print(False and False)"
      ],
      "metadata": {
        "id": "I6pSqGuN0DJ8",
        "outputId": "2b8bfc0c-b31e-4287-82df-a958a668a08b",
        "colab": {
          "base_uri": "https://localhost:8080/"
        }
      },
      "execution_count": 12,
      "outputs": [
        {
          "output_type": "stream",
          "name": "stdout",
          "text": [
            "True\n",
            "False\n",
            "False\n",
            "False\n"
          ]
        }
      ]
    },
    {
      "cell_type": "code",
      "source": [
        "print(True or True)\n",
        "print(True or False)\n",
        "print(False or True)\n",
        "print(False or False)"
      ],
      "metadata": {
        "id": "VeuV3_b80Qmq",
        "outputId": "32067b48-1274-4e4a-b2a2-97e3521c1acb",
        "colab": {
          "base_uri": "https://localhost:8080/"
        }
      },
      "execution_count": 13,
      "outputs": [
        {
          "output_type": "stream",
          "name": "stdout",
          "text": [
            "True\n",
            "True\n",
            "True\n",
            "False\n"
          ]
        }
      ]
    }
  ],
  "metadata": {
    "kernelspec": {
      "display_name": "Python 3.8.9 64-bit",
      "language": "python",
      "name": "python3"
    },
    "language_info": {
      "codemirror_mode": {
        "name": "ipython",
        "version": 3
      },
      "file_extension": ".py",
      "mimetype": "text/x-python",
      "name": "python",
      "nbconvert_exporter": "python",
      "pygments_lexer": "ipython3",
      "version": "3.8.9"
    },
    "orig_nbformat": 4,
    "vscode": {
      "interpreter": {
        "hash": "31f2aee4e71d21fbe5cf8b01ff0e069b9275f58929596ceb00d14d90e3e16cd6"
      }
    },
    "colab": {
      "provenance": [],
      "include_colab_link": true
    }
  },
  "nbformat": 4,
  "nbformat_minor": 0
}