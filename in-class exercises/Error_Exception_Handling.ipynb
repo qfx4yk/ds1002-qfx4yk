{
  "nbformat": 4,
  "nbformat_minor": 0,
  "metadata": {
    "colab": {
      "provenance": [],
      "authorship_tag": "ABX9TyNkX0KujUo2xj6G26kSA/er",
      "include_colab_link": true
    },
    "kernelspec": {
      "name": "python3",
      "display_name": "Python 3"
    },
    "language_info": {
      "name": "python"
    }
  },
  "cells": [
    {
      "cell_type": "markdown",
      "metadata": {
        "id": "view-in-github",
        "colab_type": "text"
      },
      "source": [
        "<a href=\"https://colab.research.google.com/github/qfx4yk/ds1002-qfx4yk/blob/main/in-class%20exercises/Error_Exception_Handling.ipynb\" target=\"_parent\"><img src=\"https://colab.research.google.com/assets/colab-badge.svg\" alt=\"Open In Colab\"/></a>"
      ]
    },
    {
      "cell_type": "code",
      "execution_count": 4,
      "metadata": {
        "id": "8f4ultPYPZtM",
        "colab": {
          "base_uri": "https://localhost:8080/"
        },
        "outputId": "ee2a24c6-89e9-458a-e68e-808f6216f900"
      },
      "outputs": [
        {
          "output_type": "stream",
          "name": "stdout",
          "text": [
            "The first element is 5\n",
            "An indexing error has occurred\n"
          ]
        }
      ],
      "source": [
        "# Controlling what happens when something goes wrong\n",
        "\n",
        "mylist = [5,6,7]\n",
        "\n",
        "try:\n",
        "  print(\"The first element is \" + str(mylist[0]))\n",
        "  print(\"The fourth element is \" + str(mylist[3])) # But, index 3 does not exist in this list.\n",
        "\n",
        "except IndexError:\n",
        "  print(\"An indexing error has occurred\")\n",
        "\n",
        "except ValueError:\n",
        "  print(\"An error in value has occurred\")\n",
        "\n",
        "else:\n",
        "  print(\"I have tried everything I can think of.\")"
      ]
    },
    {
      "cell_type": "code",
      "source": [
        "mylist = [5,6,7]\n",
        "\n",
        "try:\n",
        "  print(\"The first element is \" + str(mylist[0]))\n",
        "  print(\"The fourth element is \" + str(mylist[3]))\n",
        "\n",
        "except Exception as e:\n",
        "  print(f\"An error has occurred: {e}\")\n",
        "\n",
        "finally:\n",
        "  print(\"Hi\")\n",
        "# This is something that must run whether the process succeeded or excepted"
      ],
      "metadata": {
        "id": "yt2vgPpJAcIA",
        "colab": {
          "base_uri": "https://localhost:8080/"
        },
        "outputId": "75b4c6ff-5336-4d43-a98b-0c46746ff606"
      },
      "execution_count": 8,
      "outputs": [
        {
          "output_type": "stream",
          "name": "stdout",
          "text": [
            "The first element is 5\n",
            "An error has occurred: list index out of range\n",
            "Hi\n"
          ]
        }
      ]
    },
    {
      "cell_type": "markdown",
      "source": [
        "**DO NOT OVERKILL THE EXCEPT FUNCTION - USE IT IN SITUATIONS WHERE IT IS ABSOLUTELY NECESSARY.**"
      ],
      "metadata": {
        "id": "WfWgZZhJQQL0"
      }
    },
    {
      "cell_type": "code",
      "source": [
        "import pandas as pd\n",
        "import numpy as np\n",
        "\n",
        "try:\n",
        "  sales = pd.read_csv(\"https://remote.address/file.csv\")\n",
        "\n",
        "except Exception as e:\n",
        "  print(f\"An Exception has occurred: {e}\")"
      ],
      "metadata": {
        "colab": {
          "base_uri": "https://localhost:8080/"
        },
        "id": "NkvC0xO-BeaN",
        "outputId": "c02a0b20-8b1e-4806-f4ae-40bc329f1f50"
      },
      "execution_count": 10,
      "outputs": [
        {
          "output_type": "stream",
          "name": "stdout",
          "text": [
            "An Exception has occurred: <urlopen error [Errno -2] Name or service not known>\n"
          ]
        }
      ]
    },
    {
      "cell_type": "markdown",
      "source": [
        "# Basics"
      ],
      "metadata": {
        "id": "bXlbk4bQQrLF"
      }
    },
    {
      "cell_type": "code",
      "source": [
        "def fetch(obj, index):\n",
        "  return obj[index]"
      ],
      "metadata": {
        "id": "P2KEJR4zQuYr"
      },
      "execution_count": 11,
      "outputs": []
    },
    {
      "cell_type": "code",
      "source": [
        "fetch(\"moon\",3)"
      ],
      "metadata": {
        "colab": {
          "base_uri": "https://localhost:8080/",
          "height": 36
        },
        "id": "7s_9TeKFQyk1",
        "outputId": "f8cd319d-14f6-4caa-c680-fdaa60b36345"
      },
      "execution_count": 12,
      "outputs": [
        {
          "output_type": "execute_result",
          "data": {
            "text/plain": [
              "'n'"
            ],
            "application/vnd.google.colaboratory.intrinsic+json": {
              "type": "string"
            }
          },
          "metadata": {},
          "execution_count": 12
        }
      ]
    },
    {
      "cell_type": "code",
      "source": [
        "fetch(\"moon\",4)"
      ],
      "metadata": {
        "colab": {
          "base_uri": "https://localhost:8080/",
          "height": 251
        },
        "id": "61-3khUKQ1cY",
        "outputId": "aa60fdfe-575d-460a-be65-d3e6dd6df130"
      },
      "execution_count": 13,
      "outputs": [
        {
          "output_type": "error",
          "ename": "IndexError",
          "evalue": "ignored",
          "traceback": [
            "\u001b[0;31m---------------------------------------------------------------------------\u001b[0m",
            "\u001b[0;31mIndexError\u001b[0m                                Traceback (most recent call last)",
            "\u001b[0;32m<ipython-input-13-1b96efac9c14>\u001b[0m in \u001b[0;36m<cell line: 1>\u001b[0;34m()\u001b[0m\n\u001b[0;32m----> 1\u001b[0;31m \u001b[0mfetch\u001b[0m\u001b[0;34m(\u001b[0m\u001b[0;34m\"moon\"\u001b[0m\u001b[0;34m,\u001b[0m\u001b[0;36m4\u001b[0m\u001b[0;34m)\u001b[0m\u001b[0;34m\u001b[0m\u001b[0;34m\u001b[0m\u001b[0m\n\u001b[0m",
            "\u001b[0;32m<ipython-input-11-afb7025f001b>\u001b[0m in \u001b[0;36mfetch\u001b[0;34m(obj, index)\u001b[0m\n\u001b[1;32m      1\u001b[0m \u001b[0;32mdef\u001b[0m \u001b[0mfetch\u001b[0m\u001b[0;34m(\u001b[0m\u001b[0mobj\u001b[0m\u001b[0;34m,\u001b[0m \u001b[0mindex\u001b[0m\u001b[0;34m)\u001b[0m\u001b[0;34m:\u001b[0m\u001b[0;34m\u001b[0m\u001b[0;34m\u001b[0m\u001b[0m\n\u001b[0;32m----> 2\u001b[0;31m   \u001b[0;32mreturn\u001b[0m \u001b[0mobj\u001b[0m\u001b[0;34m[\u001b[0m\u001b[0mindex\u001b[0m\u001b[0;34m]\u001b[0m\u001b[0;34m\u001b[0m\u001b[0;34m\u001b[0m\u001b[0m\n\u001b[0m",
            "\u001b[0;31mIndexError\u001b[0m: string index out of range"
          ]
        }
      ]
    },
    {
      "cell_type": "markdown",
      "source": [
        "# Structure with try and except"
      ],
      "metadata": {
        "id": "vJ7FCDAAQ6bo"
      }
    },
    {
      "cell_type": "code",
      "source": [
        "def fetch(obj, index):\n",
        "  try:\n",
        "    return obj[index]\n",
        "  except Exception as e:\n",
        "    print(f\"Exception caught: {e}\")"
      ],
      "metadata": {
        "id": "X2IkaGIsQ9ha"
      },
      "execution_count": 16,
      "outputs": []
    },
    {
      "cell_type": "code",
      "source": [
        "fetch(\"moon\",4)"
      ],
      "metadata": {
        "colab": {
          "base_uri": "https://localhost:8080/"
        },
        "id": "W9OzaZm-RYvH",
        "outputId": "64423341-dbef-4714-c244-9d01c2b83d97"
      },
      "execution_count": 15,
      "outputs": [
        {
          "output_type": "stream",
          "name": "stdout",
          "text": [
            "Exception caught: string index out of range\n"
          ]
        }
      ]
    },
    {
      "cell_type": "markdown",
      "source": [
        "# Specific Exception Types"
      ],
      "metadata": {
        "id": "Wa2WhDw_RcVn"
      }
    },
    {
      "cell_type": "code",
      "source": [
        "try:\n",
        "  f = open('/path/to/myfile.txt')\n",
        "  s = f.readline()\n",
        "  i = int(s.strip())\n",
        "\n",
        "except IOError as e:\n",
        "  #run_my_custom_exception_handler(e)\n",
        "  print(f\"Exception caught: {e}\")\n",
        "\n",
        "# except IOError as (errno, sterror):\n",
        "  # print(\"I/O error({0}): {1}\".format(errno, sterror))\n",
        "# except ValueError:\n",
        "  # print(\"Could not convert data to an integer.\")\n",
        "# except:\n",
        "  # print(\"Unexpected error:\", sys.exc_info()[0])\n",
        "  # raise"
      ],
      "metadata": {
        "colab": {
          "base_uri": "https://localhost:8080/"
        },
        "id": "puKpkjRVRe4n",
        "outputId": "bdfd62bd-c7fe-40e0-9bb1-513b588fd6fa"
      },
      "execution_count": 23,
      "outputs": [
        {
          "output_type": "stream",
          "name": "stdout",
          "text": [
            "Exception caught: [Errno 2] No such file or directory: '/path/to/myfile.txt'\n"
          ]
        }
      ]
    },
    {
      "cell_type": "code",
      "source": [
        "import sys\n",
        "\n",
        "def foolme():\n",
        "  try:\n",
        "    raise IndexError(\"blah blah\")\n",
        "  except Exception as e:\n",
        "    print(f\"An exception has been thrown: {e}\")\n",
        "    #sys.sleep(30) don't do anything for 30 seconds and then try again\n",
        "  else:\n",
        "    print(\"Else has happened\")\n",
        "  finally:\n",
        "    print(\"Finally has happened\")\n",
        "    sys.exit(1)\n",
        "\n",
        "foolme()"
      ],
      "metadata": {
        "colab": {
          "base_uri": "https://localhost:8080/",
          "height": 217
        },
        "id": "jG6vhopbVHWH",
        "outputId": "f3e1e87e-f613-4833-a11b-bc4968d07630"
      },
      "execution_count": 29,
      "outputs": [
        {
          "output_type": "stream",
          "name": "stdout",
          "text": [
            "An exception has been thrown: blah blah\n",
            "Finally has happened\n"
          ]
        },
        {
          "output_type": "error",
          "ename": "SystemExit",
          "evalue": "ignored",
          "traceback": [
            "An exception has occurred, use %tb to see the full traceback.\n",
            "\u001b[0;31mSystemExit\u001b[0m\u001b[0;31m:\u001b[0m 1\n"
          ]
        },
        {
          "output_type": "stream",
          "name": "stderr",
          "text": [
            "/usr/local/lib/python3.10/dist-packages/IPython/core/interactiveshell.py:3561: UserWarning: To exit: use 'exit', 'quit', or Ctrl-D.\n",
            "  warn(\"To exit: use 'exit', 'quit', or Ctrl-D.\", stacklevel=1)\n"
          ]
        }
      ]
    }
  ]
}