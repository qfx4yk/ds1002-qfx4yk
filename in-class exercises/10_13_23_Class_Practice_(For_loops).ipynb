{
  "nbformat": 4,
  "nbformat_minor": 0,
  "metadata": {
    "colab": {
      "provenance": [],
      "authorship_tag": "ABX9TyPVjsWOa5SegYH99i/uB+gN",
      "include_colab_link": true
    },
    "kernelspec": {
      "name": "python3",
      "display_name": "Python 3"
    },
    "language_info": {
      "name": "python"
    }
  },
  "cells": [
    {
      "cell_type": "markdown",
      "metadata": {
        "id": "view-in-github",
        "colab_type": "text"
      },
      "source": [
        "<a href=\"https://colab.research.google.com/github/qfx4yk/ds1002-qfx4yk/blob/main/in-class%20exercises/10_13_23_Class_Practice_(For_loops).ipynb\" target=\"_parent\"><img src=\"https://colab.research.google.com/assets/colab-badge.svg\" alt=\"Open In Colab\"/></a>"
      ]
    },
    {
      "cell_type": "code",
      "execution_count": 1,
      "metadata": {
        "colab": {
          "base_uri": "https://localhost:8080/"
        },
        "id": "OLUSDdP4Vj9o",
        "outputId": "67e353ef-3219-4a16-ca93-73023752fe85"
      },
      "outputs": [
        {
          "output_type": "stream",
          "name": "stdout",
          "text": [
            "1234\n",
            "5\n",
            "3\n",
            "6\n",
            "3\n",
            "4564\n",
            "234\n",
            "4564\n",
            "9\n"
          ]
        }
      ],
      "source": [
        "mylist = [1234,5,3,6,3,4564,234,4564,9]\n",
        "\n",
        "for something in mylist:\n",
        "  print(something)"
      ]
    },
    {
      "cell_type": "code",
      "source": [
        "mylist2 = [\"bagels\", \"cereal\",\"yogurt\",\"coffee\",\"eggs\",\"pancakes\",\"waffles\",\"syrups\"]\n",
        "\n",
        "for food in mylist2:\n",
        "  if food == \"eggs\":\n",
        "    print(\"yo I got some eggs\")\n",
        "    break\n",
        "  else:\n",
        "    print(food)"
      ],
      "metadata": {
        "colab": {
          "base_uri": "https://localhost:8080/"
        },
        "id": "B4lSrNjbWdqS",
        "outputId": "e137b933-b596-48ed-c7a1-c45d103efca4"
      },
      "execution_count": 4,
      "outputs": [
        {
          "output_type": "stream",
          "name": "stdout",
          "text": [
            "bagels\n",
            "cereal\n",
            "yogurt\n",
            "coffee\n",
            "yo I got some eggs\n"
          ]
        }
      ]
    },
    {
      "cell_type": "code",
      "source": [
        "for food in mylist2:\n",
        "  if food == \"eggs\":\n",
        "    continue\n",
        "  else:\n",
        "    print(food)"
      ],
      "metadata": {
        "colab": {
          "base_uri": "https://localhost:8080/"
        },
        "id": "c-NQXI0_Xa-h",
        "outputId": "5610d76e-ded1-469a-e054-fc91a5c3cdd4"
      },
      "execution_count": 6,
      "outputs": [
        {
          "output_type": "stream",
          "name": "stdout",
          "text": [
            "bagels\n",
            "cereal\n",
            "yogurt\n",
            "coffee\n",
            "pancakes\n",
            "waffles\n",
            "syrups\n"
          ]
        }
      ]
    },
    {
      "cell_type": "code",
      "source": [
        "for food in mylist2:\n",
        "  if food == \"eggs\":\n",
        "    continue\n",
        "  elif food == \"yogurt\":\n",
        "    print(\"yogurt is here\")\n",
        "  else:\n",
        "    print(food)"
      ],
      "metadata": {
        "colab": {
          "base_uri": "https://localhost:8080/"
        },
        "id": "7x7m29ApXncn",
        "outputId": "73a1d931-2631-4704-e356-1481d6e1d358"
      },
      "execution_count": 7,
      "outputs": [
        {
          "output_type": "stream",
          "name": "stdout",
          "text": [
            "bagels\n",
            "cereal\n",
            "yogurt is here\n",
            "coffee\n",
            "pancakes\n",
            "waffles\n",
            "syrups\n"
          ]
        }
      ]
    },
    {
      "cell_type": "code",
      "source": [
        "myfaves = {\n",
        "    \"food\":\"grits\",\n",
        "    \"sport\":\"cycling\",\n",
        "    \"color\":\"gray\",\n",
        "    \"car\":\"my car\",\n",
        "    \"city\":\"new york\"\n",
        "}"
      ],
      "metadata": {
        "id": "eH2w7iAPY6V0"
      },
      "execution_count": 8,
      "outputs": []
    },
    {
      "cell_type": "code",
      "source": [
        "myfaves"
      ],
      "metadata": {
        "colab": {
          "base_uri": "https://localhost:8080/"
        },
        "id": "GEduEVKPZbAe",
        "outputId": "3cb0b07d-62f2-4cb8-8085-dfe0791014e8"
      },
      "execution_count": 9,
      "outputs": [
        {
          "output_type": "execute_result",
          "data": {
            "text/plain": [
              "{'food': 'grits',\n",
              " 'sport': 'cycling',\n",
              " 'color': 'gray',\n",
              " 'car': 'my car',\n",
              " 'city': 'new york'}"
            ]
          },
          "metadata": {},
          "execution_count": 9
        }
      ]
    },
    {
      "cell_type": "code",
      "source": [
        "myfaves.keys()"
      ],
      "metadata": {
        "colab": {
          "base_uri": "https://localhost:8080/"
        },
        "id": "84s3yD1hZ3-8",
        "outputId": "ded43f61-1422-4466-f652-556c1d5c3c0d"
      },
      "execution_count": 13,
      "outputs": [
        {
          "output_type": "execute_result",
          "data": {
            "text/plain": [
              "dict_keys(['food', 'sport', 'color', 'car', 'city'])"
            ]
          },
          "metadata": {},
          "execution_count": 13
        }
      ]
    },
    {
      "cell_type": "code",
      "source": [
        "myfaves['color']"
      ],
      "metadata": {
        "colab": {
          "base_uri": "https://localhost:8080/",
          "height": 36
        },
        "id": "mPc2ljFtaJPl",
        "outputId": "65c1c5ce-1bca-4a6e-e908-f423b83440eb"
      },
      "execution_count": 11,
      "outputs": [
        {
          "output_type": "execute_result",
          "data": {
            "text/plain": [
              "'gray'"
            ],
            "application/vnd.google.colaboratory.intrinsic+json": {
              "type": "string"
            }
          },
          "metadata": {},
          "execution_count": 11
        }
      ]
    },
    {
      "cell_type": "code",
      "source": [
        "# to fetch all the keys\n",
        "for fave in myfaves:\n",
        "  print(fave)"
      ],
      "metadata": {
        "colab": {
          "base_uri": "https://localhost:8080/"
        },
        "id": "dJ3r-rd9a24a",
        "outputId": "d919f5a9-4f43-46ac-817a-dc47eb7ebadb"
      },
      "execution_count": 16,
      "outputs": [
        {
          "output_type": "stream",
          "name": "stdout",
          "text": [
            "food\n",
            "sport\n",
            "color\n",
            "car\n",
            "city\n"
          ]
        }
      ]
    },
    {
      "cell_type": "code",
      "source": [
        "# to fetch all the values\n",
        "for fave in myfaves:\n",
        "  print(myfaves[fave])"
      ],
      "metadata": {
        "colab": {
          "base_uri": "https://localhost:8080/"
        },
        "id": "JDHtGkbrbMPk",
        "outputId": "e38d5b81-11fa-4eca-bd6a-ca806fb3c91c"
      },
      "execution_count": 17,
      "outputs": [
        {
          "output_type": "stream",
          "name": "stdout",
          "text": [
            "grits\n",
            "cycling\n",
            "gray\n",
            "my car\n",
            "new york\n"
          ]
        }
      ]
    },
    {
      "cell_type": "code",
      "source": [
        "for key, value in myfaves.items():\n",
        "  print(key, '-->',value)"
      ],
      "metadata": {
        "colab": {
          "base_uri": "https://localhost:8080/"
        },
        "id": "0GLYfwPlbhzJ",
        "outputId": "433e6eb6-3e32-4f0b-a3bc-5e9b9ffc186d"
      },
      "execution_count": 21,
      "outputs": [
        {
          "output_type": "stream",
          "name": "stdout",
          "text": [
            "food --> grits\n",
            "sport --> cycling\n",
            "color --> gray\n",
            "car --> my car\n",
            "city --> new york\n"
          ]
        }
      ]
    },
    {
      "cell_type": "code",
      "source": [
        "mytupe = (\"squirrels\",\"rabbits\",\"beavers\",\"opposums\",\"foxes\",\"wolves\",\"sheep\")"
      ],
      "metadata": {
        "id": "XcK6NJifcwaO"
      },
      "execution_count": 22,
      "outputs": []
    },
    {
      "cell_type": "code",
      "source": [
        "mytupe"
      ],
      "metadata": {
        "colab": {
          "base_uri": "https://localhost:8080/"
        },
        "id": "YWdwAm5xdDoK",
        "outputId": "26eef3df-1cc8-4cd3-dceb-45333bb1b0fa"
      },
      "execution_count": 23,
      "outputs": [
        {
          "output_type": "execute_result",
          "data": {
            "text/plain": [
              "('squirrels', 'rabbits', 'beavers', 'opposums', 'foxes', 'wolves', 'sheep')"
            ]
          },
          "metadata": {},
          "execution_count": 23
        }
      ]
    },
    {
      "cell_type": "code",
      "source": [
        "for thing in mytupe:\n",
        "  if thing  != 'opposums':\n",
        "    print(thing)\n",
        "  elif (thing == 'rabbits') or (thing == 'sheep'): # note that python will not execute this line because all the things already meet the 1st condition and so, python does not continue reading the following \"if\" statements\n",
        "    print(\"I have rabbits or sheep in my tuple\")\n",
        "  else:\n",
        "    continue"
      ],
      "metadata": {
        "colab": {
          "base_uri": "https://localhost:8080/"
        },
        "id": "0nNZCi_gdIDG",
        "outputId": "d65e20e7-812e-4dac-9a48-0ac5445bf294"
      },
      "execution_count": 31,
      "outputs": [
        {
          "output_type": "stream",
          "name": "stdout",
          "text": [
            "squirrels\n",
            "rabbits\n",
            "beavers\n",
            "foxes\n",
            "wolves\n",
            "sheep\n"
          ]
        }
      ]
    },
    {
      "cell_type": "code",
      "source": [
        "for thing in mytupe:\n",
        "  if (thing == 'rabbits') or (thing == 'sheep'):\n",
        "    print(\"I have rabbits or sheep in my tuple\")\n",
        "  elif thing  != 'opposums':\n",
        "    print(thing)\n",
        "  else:\n",
        "    continue"
      ],
      "metadata": {
        "colab": {
          "base_uri": "https://localhost:8080/"
        },
        "id": "9UsayjEFevAJ",
        "outputId": "5bb26613-3ed4-47dc-e929-7f991e0a8277"
      },
      "execution_count": 32,
      "outputs": [
        {
          "output_type": "stream",
          "name": "stdout",
          "text": [
            "squirrels\n",
            "I have rabbits or sheep in my tuple\n",
            "beavers\n",
            "foxes\n",
            "wolves\n",
            "I have rabbits or sheep in my tuple\n"
          ]
        }
      ]
    }
  ]
}