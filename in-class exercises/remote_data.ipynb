{
  "nbformat": 4,
  "nbformat_minor": 0,
  "metadata": {
    "colab": {
      "provenance": [],
      "authorship_tag": "ABX9TyOY1krZSCH9oEhhO+829XOw",
      "include_colab_link": true
    },
    "kernelspec": {
      "name": "python3",
      "display_name": "Python 3"
    },
    "language_info": {
      "name": "python"
    }
  },
  "cells": [
    {
      "cell_type": "markdown",
      "metadata": {
        "id": "view-in-github",
        "colab_type": "text"
      },
      "source": [
        "<a href=\"https://colab.research.google.com/github/qfx4yk/ds1002-qfx4yk/blob/main/in-class%20exercises/remote_data.ipynb\" target=\"_parent\"><img src=\"https://colab.research.google.com/assets/colab-badge.svg\" alt=\"Open In Colab\"/></a>"
      ]
    },
    {
      "cell_type": "code",
      "execution_count": 1,
      "metadata": {
        "id": "lTwTbgSzOwZP"
      },
      "outputs": [],
      "source": [
        "import requests"
      ]
    },
    {
      "cell_type": "code",
      "source": [
        "# Make a GET request\n",
        "response = requests.get('https://ids.pods.uvarc.io/') # web-scraping\n",
        "\n",
        "print(response)\n",
        "print(response.text)\n",
        "print(response.status_code)\n",
        "print(response.encoding)\n",
        "print(response.headers)\n",
        "print(response.raw)\n",
        "print(response.content)"
      ],
      "metadata": {
        "id": "qdt7Ius4PqKi",
        "colab": {
          "base_uri": "https://localhost:8080/"
        },
        "outputId": "48817a6d-1da1-4ab8-fa76-04416ada2af5"
      },
      "execution_count": 3,
      "outputs": [
        {
          "output_type": "stream",
          "name": "stdout",
          "text": [
            "<Response [200]>\n",
            "{\"id\":\"92l1q9h7\"}\n",
            "200\n",
            "utf-8\n",
            "{'Server': 'nginx/1.21.6', 'Date': 'Mon, 23 Oct 2023 14:25:40 GMT', 'Content-Type': 'application/json', 'Content-Length': '17', 'Connection': 'keep-alive'}\n",
            "<urllib3.response.HTTPResponse object at 0x7f152a406ad0>\n",
            "b'{\"id\":\"92l1q9h7\"}'\n"
          ]
        }
      ]
    },
    {
      "cell_type": "code",
      "source": [
        "# Make a GET request\n",
        "response = requests.get('https://ids.pods.uvarc.io/id/18')\n",
        "\n",
        "# Check the response status code\n",
        "if response.status_code == 200:\n",
        "  print(\"Success\")\n",
        "else:\n",
        "  print(\"Failure\")\n",
        "\n",
        "# Get the response content\n",
        "content = response.content\n",
        "\n",
        "# Decode the response content\n",
        "text =\n",
        "# Print the response content"
      ],
      "metadata": {
        "id": "kdAs6sXg7hI-"
      },
      "execution_count": null,
      "outputs": []
    },
    {
      "cell_type": "code",
      "source": [
        "import json\n",
        "\n",
        "response = requests.get('https://ids.pods.uvarc.io/guid')\n",
        "data = json.loads(response.text)\n",
        "print(data['id'])"
      ],
      "metadata": {
        "colab": {
          "base_uri": "https://localhost:8080/"
        },
        "id": "pn63zstb8Nh5",
        "outputId": "82a23e7c-014a-460d-cdb1-f5e473b51822"
      },
      "execution_count": 5,
      "outputs": [
        {
          "output_type": "stream",
          "name": "stdout",
          "text": [
            "1a41efad-40e1-4a26-9e77-5639bb643476\n"
          ]
        }
      ]
    }
  ]
}