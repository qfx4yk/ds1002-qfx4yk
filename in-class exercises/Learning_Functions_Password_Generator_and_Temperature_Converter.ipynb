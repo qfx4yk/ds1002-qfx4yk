{
  "nbformat": 4,
  "nbformat_minor": 0,
  "metadata": {
    "colab": {
      "provenance": [],
      "authorship_tag": "ABX9TyMQY5Xtqrb3Oc+CazWc70UC",
      "include_colab_link": true
    },
    "kernelspec": {
      "name": "python3",
      "display_name": "Python 3"
    },
    "language_info": {
      "name": "python"
    }
  },
  "cells": [
    {
      "cell_type": "markdown",
      "metadata": {
        "id": "view-in-github",
        "colab_type": "text"
      },
      "source": [
        "<a href=\"https://colab.research.google.com/github/qfx4yk/ds1002-qfx4yk/blob/main/in-class%20exercises/Learning_Functions_Password_Generator_and_Temperature_Converter.ipynb\" target=\"_parent\"><img src=\"https://colab.research.google.com/assets/colab-badge.svg\" alt=\"Open In Colab\"/></a>"
      ]
    },
    {
      "cell_type": "markdown",
      "source": [
        "# Password Generator"
      ],
      "metadata": {
        "id": "y1kHzAus6tl7"
      }
    },
    {
      "cell_type": "code",
      "source": [
        "# built-in functions in python\n",
        "import string\n",
        "import random"
      ],
      "metadata": {
        "id": "8cFclyNzy3JL"
      },
      "execution_count": 6,
      "outputs": []
    },
    {
      "cell_type": "code",
      "source": [
        "lc_letters = string.ascii_lowercase\n",
        "print(lc_letters)\n",
        "\n",
        "uc_letters = string.ascii_uppercase\n",
        "print(uc_letters)\n",
        "\n",
        "digits = string.digits\n",
        "print(digits)\n",
        "\n",
        "punc = string.punctuation\n",
        "print(punc)\n",
        "\n",
        "# punc = \"!#$%&()*+./:;<=>?@[\\]^{|}~\"\n",
        "# to omit certain characters, you can also redefine the variable \"punc\" with a shorter list of characters\n",
        "\n",
        "allchars = lc_letters + uc_letters + digits + punc"
      ],
      "metadata": {
        "colab": {
          "base_uri": "https://localhost:8080/"
        },
        "id": "pYm5_twIzBg-",
        "outputId": "7b336c0c-e9e4-42d9-c1dd-af81bd1a99c3"
      },
      "execution_count": 42,
      "outputs": [
        {
          "output_type": "stream",
          "name": "stdout",
          "text": [
            "abcdefghijklmnopqrstuvwxyz\n",
            "ABCDEFGHIJKLMNOPQRSTUVWXYZ\n",
            "0123456789\n",
            "!\"#$%&'()*+,-./:;<=>?@[\\]^_`{|}~\n"
          ]
        }
      ]
    },
    {
      "cell_type": "code",
      "source": [
        "character =  random.choice(allchars)\n",
        "print(character)"
      ],
      "metadata": {
        "colab": {
          "base_uri": "https://localhost:8080/"
        },
        "id": "OQ3yvxRFzon2",
        "outputId": "9e71baa9-7d8e-4037-b474-9e670ee62521"
      },
      "execution_count": 19,
      "outputs": [
        {
          "output_type": "stream",
          "name": "stdout",
          "text": [
            "#\n"
          ]
        }
      ]
    },
    {
      "cell_type": "code",
      "source": [
        "passwd = ''\n",
        "\n",
        "for c in range(8):\n",
        "  passwd += random.choice(allchars) # but, we do not want to have quotations in our passwords\n",
        "  passwd = passwd.replace(\"'\",\"\") # if you see a single tick mark, replace it with nothing\n",
        "  passwd = passwd.replace('\"','') # if you see double tick marks, replace it with nothing\n",
        "\n",
        "print(passwd)"
      ],
      "metadata": {
        "colab": {
          "base_uri": "https://localhost:8080/"
        },
        "id": "PgGs4diS0WGx",
        "outputId": "714b0f3c-85d5-4578-eb7c-966b4ddb259f"
      },
      "execution_count": 44,
      "outputs": [
        {
          "output_type": "stream",
          "name": "stdout",
          "text": [
            "(@f5$v10\n"
          ]
        }
      ]
    },
    {
      "cell_type": "code",
      "source": [
        "# putting the for-loop into a function\n",
        "allchars = lc_letters + uc_letters + digits + punc\n",
        "\n",
        "def give_me_a_password(length): # length is a parameter that this function takes; the password will not be only 8 characters long; you can choose the length by putting in a length as a parameter\n",
        "  passwd = ''\n",
        "  for c in range(length):\n",
        "    passwd += random.choice(allchars) # but, we do not want to have quotations in our passwords\n",
        "    passwd = passwd.replace(\"'\",\"\") # if you see a single tick mark, replace it with nothing\n",
        "    passwd = passwd.replace('\"','') # if you see double tick marks, replace it with nothing\n",
        "  return passwd\n",
        "\n",
        "give_me_a_password(100)"
      ],
      "metadata": {
        "colab": {
          "base_uri": "https://localhost:8080/",
          "height": 36
        },
        "id": "kVLl_77D2f9z",
        "outputId": "a8195362-bf96-4efc-c486-1674aaa2607b"
      },
      "execution_count": 59,
      "outputs": [
        {
          "output_type": "execute_result",
          "data": {
            "text/plain": [
              "'&u}k}TGp,Vexj(!nZ/)_#CsW2XD9LdZ6C<H39(R#Qly])Y(tEi5c*&8L1b[w,&&7,mz2#P(V%!u{QW`0|WTF@g7:J^I]gkdL9&'"
            ],
            "application/vnd.google.colaboratory.intrinsic+json": {
              "type": "string"
            }
          },
          "metadata": {},
          "execution_count": 59
        }
      ]
    },
    {
      "cell_type": "code",
      "source": [
        "beatles = [\"John\",\"Paul\",\"Ringo\",\"George\"]\n",
        "\n",
        "for b in beatles:\n",
        "  print(b + ' ' + give_me_a_password(10))\n",
        "\n",
        "# debugging advice: functions are supposed to \"return\" something. So, if you put a print statement within the function, it could cause some issues.\n",
        "# print is only printing on the screen and not storing the output in memory; so, you cannot do anything with it.\n",
        "# when you return it, then you can do something with it later on in something else."
      ],
      "metadata": {
        "colab": {
          "base_uri": "https://localhost:8080/"
        },
        "id": "Ic8Yvcxl37QF",
        "outputId": "d7634586-5689-4370-beda-a5782ef9377f"
      },
      "execution_count": 68,
      "outputs": [
        {
          "output_type": "stream",
          "name": "stdout",
          "text": [
            "John z<(&<iS0~\n",
            "Paul x-m{|U:r>!\n",
            "Ringo og-<r>COlX\n",
            "George i-FCf_c}l$\n"
          ]
        }
      ]
    },
    {
      "cell_type": "markdown",
      "source": [
        "# Temperature Converter"
      ],
      "metadata": {
        "id": "DEo-nJSi6Uqm"
      }
    },
    {
      "cell_type": "code",
      "source": [
        "# function takes an input temperature in Celsius and converts to F\n",
        "def c_to_f(temp):\n",
        "  ftemp = (temp * 1.8) + 32\n",
        "  return ftemp"
      ],
      "metadata": {
        "id": "08gSF8Bh6TXI"
      },
      "execution_count": 79,
      "outputs": []
    },
    {
      "cell_type": "code",
      "source": [
        "c_to_f(40)"
      ],
      "metadata": {
        "colab": {
          "base_uri": "https://localhost:8080/"
        },
        "id": "IDqEM0yy6408",
        "outputId": "41ef7ebc-89cc-4b71-918c-8b417506dd6c"
      },
      "execution_count": 75,
      "outputs": [
        {
          "output_type": "execute_result",
          "data": {
            "text/plain": [
              "104.0"
            ]
          },
          "metadata": {},
          "execution_count": 75
        }
      ]
    },
    {
      "cell_type": "code",
      "source": [
        "# function takes an input temperature in Farenheit and converts to C\n",
        "def f_to_c(temp):\n",
        "  ctemp = (temp - 32) / 1.8\n",
        "  return ctemp"
      ],
      "metadata": {
        "id": "pLgjB3rs7fOY"
      },
      "execution_count": 78,
      "outputs": []
    },
    {
      "cell_type": "code",
      "source": [
        "f_to_c(104)"
      ],
      "metadata": {
        "colab": {
          "base_uri": "https://localhost:8080/"
        },
        "id": "dOzT0-2V7mR4",
        "outputId": "9916c5cf-e34d-45bd-91df-c0a70c6cf8de"
      },
      "execution_count": 77,
      "outputs": [
        {
          "output_type": "execute_result",
          "data": {
            "text/plain": [
              "40.0"
            ]
          },
          "metadata": {},
          "execution_count": 77
        }
      ]
    },
    {
      "cell_type": "code",
      "source": [
        "# function to give the converted temperature; allows you to input either a temperature in F or in C; the function passes in two parameters\n",
        "def convert_temp(temp,unit):\n",
        "  # in case I want Celsius back\n",
        "  if unit == 'C':\n",
        "    ctemp = (temp - 32) / 1.8\n",
        "    return ctemp\n",
        "  elif unit == 'F':\n",
        "    ftemp = (temp * 1.8) + 32\n",
        "    return ftemp\n",
        "  else:\n",
        "    print(\"Hey you didn't give me C or F!\")\n",
        "\n",
        "convert_temp(40, \"F\")"
      ],
      "metadata": {
        "colab": {
          "base_uri": "https://localhost:8080/"
        },
        "id": "7H6Yzya_7yw_",
        "outputId": "2d7611bc-0939-41be-fdfb-9706b1c36030"
      },
      "execution_count": 82,
      "outputs": [
        {
          "output_type": "execute_result",
          "data": {
            "text/plain": [
              "104.0"
            ]
          },
          "metadata": {},
          "execution_count": 82
        }
      ]
    }
  ]
}