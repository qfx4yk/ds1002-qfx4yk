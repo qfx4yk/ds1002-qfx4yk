{
  "nbformat": 4,
  "nbformat_minor": 0,
  "metadata": {
    "colab": {
      "provenance": [],
      "authorship_tag": "ABX9TyNtSe+pbff82LzYlLFrLAB1",
      "include_colab_link": true
    },
    "kernelspec": {
      "name": "python3",
      "display_name": "Python 3"
    },
    "language_info": {
      "name": "python"
    }
  },
  "cells": [
    {
      "cell_type": "markdown",
      "metadata": {
        "id": "view-in-github",
        "colab_type": "text"
      },
      "source": [
        "<a href=\"https://colab.research.google.com/github/qfx4yk/ds1002-qfx4yk/blob/main/in-class%20exercises/Rock_paper_scissors_game.ipynb\" target=\"_parent\"><img src=\"https://colab.research.google.com/assets/colab-badge.svg\" alt=\"Open In Colab\"/></a>"
      ]
    },
    {
      "cell_type": "code",
      "source": [
        "from random import randint\n",
        "\n",
        "t = [\"Rock\", \"Paper\", \"Scissors\"]\n",
        "\n",
        "computer = t[randint(0,2)] # 0 to 2 refers to the indices in \"t\"; will spit out a random item from the list \"t\"\n",
        "\n",
        "player = input(\"Rock, Paper, Scissors?\")\n",
        "\n",
        "if player == computer:\n",
        "  print(f\"Computer guessed {computer}. We have a tie!\")\n",
        "elif player == \"Rock\":\n",
        "  if computer == \"Scissors\":\n",
        "    print(f\"Computer guessed {computer}. You win!\")\n",
        "  else:\n",
        "    print(f\"Computer guessed {computer}. Computer wins\")\n",
        "elif player == \"Paper\":\n",
        "  if computer == \"Rock\":\n",
        "    print(f\"Computer guessed {computer}. You win!\")\n",
        "  else:\n",
        "    print(f\"Computer guessed {computer}. Computer wins\")\n",
        "elif player == \"Scissors\":\n",
        "  if computer == \"Paper\":\n",
        "    print(f\"Computer guessed {computer}. You win!\")\n",
        "  else:\n",
        "    print(f\"Computer guessed {computer}. Computer wins\")\n",
        "else:\n",
        "  print(\"Try again. Something went wrong.\")"
      ],
      "metadata": {
        "colab": {
          "base_uri": "https://localhost:8080/"
        },
        "id": "dD4OE_OedlR7",
        "outputId": "ac590b36-7cff-43da-aeb2-bfe1afad52ac"
      },
      "execution_count": 30,
      "outputs": [
        {
          "output_type": "stream",
          "name": "stdout",
          "text": [
            "Rock, Paper, Scissors?Rock\n",
            "Computer guessed Rock. We have a tie!\n"
          ]
        }
      ]
    },
    {
      "cell_type": "code",
      "source": [
        "randint(0,40) # pulls out a random integer between 0 and 40"
      ],
      "metadata": {
        "colab": {
          "base_uri": "https://localhost:8080/"
        },
        "id": "uBLfrj0BeBnn",
        "outputId": "31525c8a-23f1-4310-b84a-6b76d2147afa"
      },
      "execution_count": 5,
      "outputs": [
        {
          "output_type": "execute_result",
          "data": {
            "text/plain": [
              "20"
            ]
          },
          "metadata": {},
          "execution_count": 5
        }
      ]
    }
  ]
}