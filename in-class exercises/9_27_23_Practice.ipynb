{
  "nbformat": 4,
  "nbformat_minor": 0,
  "metadata": {
    "colab": {
      "provenance": [],
      "authorship_tag": "ABX9TyNjCAoklBXwqiNUE9W2x0dl",
      "include_colab_link": true
    },
    "kernelspec": {
      "name": "python3",
      "display_name": "Python 3"
    },
    "language_info": {
      "name": "python"
    }
  },
  "cells": [
    {
      "cell_type": "markdown",
      "metadata": {
        "id": "view-in-github",
        "colab_type": "text"
      },
      "source": [
        "<a href=\"https://colab.research.google.com/github/qfx4yk/ds1002-qfx4yk/blob/main/in-class%20exercises/9_27_23_Practice.ipynb\" target=\"_parent\"><img src=\"https://colab.research.google.com/assets/colab-badge.svg\" alt=\"Open In Colab\"/></a>"
      ]
    },
    {
      "cell_type": "code",
      "execution_count": 1,
      "metadata": {
        "colab": {
          "base_uri": "https://localhost:8080/"
        },
        "id": "LYbMgr7l9fyc",
        "outputId": "1308384d-d6fa-46d6-86bf-9d5ed12cf39d"
      },
      "outputs": [
        {
          "output_type": "execute_result",
          "data": {
            "text/plain": [
              "[0, 10]"
            ]
          },
          "metadata": {},
          "execution_count": 1
        }
      ],
      "source": [
        "mylist = [0,10,20,30,40,50]\n",
        "\n",
        "mylist[:2]"
      ]
    },
    {
      "cell_type": "code",
      "source": [
        "mylist[-3:]"
      ],
      "metadata": {
        "colab": {
          "base_uri": "https://localhost:8080/"
        },
        "id": "3GIo3oQs9nvJ",
        "outputId": "a47da107-e458-4b54-ed64-1332c966396b"
      },
      "execution_count": 2,
      "outputs": [
        {
          "output_type": "execute_result",
          "data": {
            "text/plain": [
              "[30, 40, 50]"
            ]
          },
          "metadata": {},
          "execution_count": 2
        }
      ]
    },
    {
      "cell_type": "code",
      "source": [
        "mylist[::2]"
      ],
      "metadata": {
        "colab": {
          "base_uri": "https://localhost:8080/"
        },
        "id": "0iOot4Ot9puI",
        "outputId": "4336ac50-b0d5-4e2d-b38f-97a3914916ac"
      },
      "execution_count": 3,
      "outputs": [
        {
          "output_type": "execute_result",
          "data": {
            "text/plain": [
              "[0, 20, 40]"
            ]
          },
          "metadata": {},
          "execution_count": 3
        }
      ]
    },
    {
      "cell_type": "code",
      "source": [
        "mylist2 = list(range(1,1000))"
      ],
      "metadata": {
        "id": "H0kNmHCL9wbj"
      },
      "execution_count": 7,
      "outputs": []
    },
    {
      "cell_type": "code",
      "source": [
        "mylist2[:10]"
      ],
      "metadata": {
        "colab": {
          "base_uri": "https://localhost:8080/"
        },
        "id": "fRc8M3oA-VID",
        "outputId": "c3ff691b-a4ef-47c9-cc30-3edf38e59cf0"
      },
      "execution_count": 8,
      "outputs": [
        {
          "output_type": "execute_result",
          "data": {
            "text/plain": [
              "[1, 2, 3, 4, 5, 6, 7, 8, 9, 10]"
            ]
          },
          "metadata": {},
          "execution_count": 8
        }
      ]
    },
    {
      "cell_type": "code",
      "source": [
        "mylist2[:50]"
      ],
      "metadata": {
        "colab": {
          "base_uri": "https://localhost:8080/"
        },
        "id": "SY39ET7N-Zya",
        "outputId": "17e94c33-b2e5-464e-8e10-4f2086cf56d2"
      },
      "execution_count": 9,
      "outputs": [
        {
          "output_type": "execute_result",
          "data": {
            "text/plain": [
              "[1,\n",
              " 2,\n",
              " 3,\n",
              " 4,\n",
              " 5,\n",
              " 6,\n",
              " 7,\n",
              " 8,\n",
              " 9,\n",
              " 10,\n",
              " 11,\n",
              " 12,\n",
              " 13,\n",
              " 14,\n",
              " 15,\n",
              " 16,\n",
              " 17,\n",
              " 18,\n",
              " 19,\n",
              " 20,\n",
              " 21,\n",
              " 22,\n",
              " 23,\n",
              " 24,\n",
              " 25,\n",
              " 26,\n",
              " 27,\n",
              " 28,\n",
              " 29,\n",
              " 30,\n",
              " 31,\n",
              " 32,\n",
              " 33,\n",
              " 34,\n",
              " 35,\n",
              " 36,\n",
              " 37,\n",
              " 38,\n",
              " 39,\n",
              " 40,\n",
              " 41,\n",
              " 42,\n",
              " 43,\n",
              " 44,\n",
              " 45,\n",
              " 46,\n",
              " 47,\n",
              " 48,\n",
              " 49,\n",
              " 50]"
            ]
          },
          "metadata": {},
          "execution_count": 9
        }
      ]
    },
    {
      "cell_type": "code",
      "source": [
        "mylist2[:50:6]"
      ],
      "metadata": {
        "colab": {
          "base_uri": "https://localhost:8080/"
        },
        "id": "q21SbgQ4-eRh",
        "outputId": "86280715-7a4d-4466-9d92-6b32979040f0"
      },
      "execution_count": 10,
      "outputs": [
        {
          "output_type": "execute_result",
          "data": {
            "text/plain": [
              "[1, 7, 13, 19, 25, 31, 37, 43, 49]"
            ]
          },
          "metadata": {},
          "execution_count": 10
        }
      ]
    },
    {
      "cell_type": "code",
      "source": [
        "mylist2[:50:50]"
      ],
      "metadata": {
        "colab": {
          "base_uri": "https://localhost:8080/"
        },
        "id": "T9IpDQOJ-uLk",
        "outputId": "80039a28-f181-49e4-90a7-ef7ae1ed5ed9"
      },
      "execution_count": 11,
      "outputs": [
        {
          "output_type": "execute_result",
          "data": {
            "text/plain": [
              "[1]"
            ]
          },
          "metadata": {},
          "execution_count": 11
        }
      ]
    },
    {
      "cell_type": "code",
      "source": [
        "mylist2[:50:25]"
      ],
      "metadata": {
        "colab": {
          "base_uri": "https://localhost:8080/"
        },
        "id": "w1JvwU_l-xjP",
        "outputId": "8b8cd957-7e24-4a72-a8c9-f15d5ff05e81"
      },
      "execution_count": 12,
      "outputs": [
        {
          "output_type": "execute_result",
          "data": {
            "text/plain": [
              "[1, 26]"
            ]
          },
          "metadata": {},
          "execution_count": 12
        }
      ]
    },
    {
      "cell_type": "code",
      "source": [
        "mylist2[::25]"
      ],
      "metadata": {
        "colab": {
          "base_uri": "https://localhost:8080/"
        },
        "id": "Qq2mINEL-3zY",
        "outputId": "c2af1098-3bfd-432d-c7c6-b19e85dec599"
      },
      "execution_count": 13,
      "outputs": [
        {
          "output_type": "execute_result",
          "data": {
            "text/plain": [
              "[1,\n",
              " 26,\n",
              " 51,\n",
              " 76,\n",
              " 101,\n",
              " 126,\n",
              " 151,\n",
              " 176,\n",
              " 201,\n",
              " 226,\n",
              " 251,\n",
              " 276,\n",
              " 301,\n",
              " 326,\n",
              " 351,\n",
              " 376,\n",
              " 401,\n",
              " 426,\n",
              " 451,\n",
              " 476,\n",
              " 501,\n",
              " 526,\n",
              " 551,\n",
              " 576,\n",
              " 601,\n",
              " 626,\n",
              " 651,\n",
              " 676,\n",
              " 701,\n",
              " 726,\n",
              " 751,\n",
              " 776,\n",
              " 801,\n",
              " 826,\n",
              " 851,\n",
              " 876,\n",
              " 901,\n",
              " 926,\n",
              " 951,\n",
              " 976]"
            ]
          },
          "metadata": {},
          "execution_count": 13
        }
      ]
    }
  ]
}