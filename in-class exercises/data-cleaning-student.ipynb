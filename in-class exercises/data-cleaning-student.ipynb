{
  "cells": [
    {
      "cell_type": "markdown",
      "metadata": {
        "id": "view-in-github",
        "colab_type": "text"
      },
      "source": [
        "<a href=\"https://colab.research.google.com/github/qfx4yk/ds1002-qfx4yk/blob/main/in-class%20exercises/data-cleaning-student.ipynb\" target=\"_parent\"><img src=\"https://colab.research.google.com/assets/colab-badge.svg\" alt=\"Open In Colab\"/></a>"
      ]
    },
    {
      "cell_type": "markdown",
      "metadata": {
        "id": "_6P6nci2CMru"
      },
      "source": [
        "## Pandas Data Cleaning Practice\n",
        "\n",
        "You'll be working with bicycle ride sharing data in San Francisco called `ride_sharing.csv`.\n",
        "\n",
        "It contains information on the start and end stations, the trip duration, and some user information for a bike sharing service."
      ]
    },
    {
      "cell_type": "code",
      "execution_count": 1,
      "metadata": {
        "id": "28oszI7zCMrv"
      },
      "outputs": [],
      "source": [
        "# import dependencies\n",
        "import pandas as pd"
      ]
    },
    {
      "cell_type": "code",
      "execution_count": 2,
      "metadata": {
        "id": "KjaL8RviCMrv"
      },
      "outputs": [],
      "source": [
        "# import the csv\n",
        "df = pd.read_csv(\"https://ds1002-resources.s3.amazonaws.com/data/ride_sharing.csv\")"
      ]
    },
    {
      "cell_type": "markdown",
      "metadata": {
        "id": "pkxsIx3MCMrw"
      },
      "source": [
        "The `user_type column` contains information on whether a user is taking a free ride and takes on the following values:\n",
        "\n",
        "`1` for free riders.  \n",
        "`2` for pay per ride.  \n",
        "`3` for monthly subscribers.\n",
        "\n",
        "**1. Provide summary statistics for the `user_type` columns**"
      ]
    },
    {
      "cell_type": "code",
      "execution_count": null,
      "metadata": {
        "id": "vh2Xx7oaCMrw"
      },
      "outputs": [],
      "source": []
    },
    {
      "cell_type": "markdown",
      "metadata": {
        "id": "WititSJmCMrw"
      },
      "source": [
        "**2. Find the average ride `duration`.**"
      ]
    },
    {
      "cell_type": "code",
      "execution_count": null,
      "metadata": {
        "id": "L1jfoie4CMrw"
      },
      "outputs": [],
      "source": []
    },
    {
      "cell_type": "markdown",
      "metadata": {
        "id": "5pmlTvKkCMrw"
      },
      "source": [
        "Bicycle tire sizes could be either 26″, 27″ or 29″ and are here correctly stored as a categorical value. In an effort to cut maintenance costs, the ride sharing provider decided to set the maximum tire size to be 27″.\n",
        "\n",
        "**3. Set the maximum tire size to 27\" in the dataset**"
      ]
    },
    {
      "cell_type": "code",
      "execution_count": null,
      "metadata": {
        "id": "km7o4m9gCMrw"
      },
      "outputs": [],
      "source": []
    }
  ],
  "metadata": {
    "kernelspec": {
      "display_name": "Python 3.8.9 64-bit",
      "language": "python",
      "name": "python3"
    },
    "language_info": {
      "codemirror_mode": {
        "name": "ipython",
        "version": 3
      },
      "file_extension": ".py",
      "mimetype": "text/x-python",
      "name": "python",
      "nbconvert_exporter": "python",
      "pygments_lexer": "ipython3",
      "version": "3.9.6"
    },
    "orig_nbformat": 4,
    "vscode": {
      "interpreter": {
        "hash": "31f2aee4e71d21fbe5cf8b01ff0e069b9275f58929596ceb00d14d90e3e16cd6"
      }
    },
    "colab": {
      "provenance": [],
      "include_colab_link": true
    }
  },
  "nbformat": 4,
  "nbformat_minor": 0
}