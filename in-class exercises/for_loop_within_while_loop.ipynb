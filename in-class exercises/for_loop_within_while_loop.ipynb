{
  "nbformat": 4,
  "nbformat_minor": 0,
  "metadata": {
    "colab": {
      "provenance": [],
      "authorship_tag": "ABX9TyNgUbn7p4Ll96CABKLzhYUa",
      "include_colab_link": true
    },
    "kernelspec": {
      "name": "python3",
      "display_name": "Python 3"
    },
    "language_info": {
      "name": "python"
    }
  },
  "cells": [
    {
      "cell_type": "markdown",
      "metadata": {
        "id": "view-in-github",
        "colab_type": "text"
      },
      "source": [
        "<a href=\"https://colab.research.google.com/github/qfx4yk/ds1002-qfx4yk/blob/main/in-class%20exercises/for_loop_within_while_loop.ipynb\" target=\"_parent\"><img src=\"https://colab.research.google.com/assets/colab-badge.svg\" alt=\"Open In Colab\"/></a>"
      ]
    },
    {
      "cell_type": "code",
      "execution_count": null,
      "metadata": {
        "colab": {
          "base_uri": "https://localhost:8080/"
        },
        "id": "aBYqg2VfMx9k",
        "outputId": "623096f6-eb7d-43c0-c50c-9127fe67e09e"
      },
      "outputs": [
        {
          "output_type": "stream",
          "name": "stdout",
          "text": [
            "8a2e210f-4712-4cd2-a889-a46553ec128a\n",
            "\n",
            "ff9fbab1-b1bb-4428-9bbf-5cca28dbc901\n",
            "\n",
            "65600554-9266-48d9-8bd3-5a5b28e5d02f\n",
            "\n",
            "e8509c36-d8f1-4d2c-a290-9f0507c2f761\n",
            "\n",
            "b001b9bb-31c9-4e39-a544-989b0450b1ba\n",
            "\n",
            "68e26eb0-5297-4883-9446-300cc15a1a99\n",
            "\n",
            "536c2ce5-54e6-430f-9236-82cba9d65d96\n",
            "\n",
            "4e236669-cd4c-40dc-9ce3-211486d9e228\n",
            "\n",
            "97188195-f3de-4f8a-b815-696c560937c6\n",
            "\n",
            "cc842400-28ce-43a2-8038-e877ddd0bfa5\n",
            "\n",
            "1590720d-d9ae-4197-8397-6774aac797c0\n",
            "\n",
            "7b66fa13-c5c0-4ff8-8e52-74e3c4172cab\n",
            "\n",
            "78877848-c588-43a4-8077-364795fcc3b7\n",
            "\n",
            "04352e10-55fb-4054-ac41-edbdd0d8e2c7\n",
            "\n",
            "e8d2d46a-51a4-4124-85d0-b23b68f42636\n",
            "\n",
            "a5331eb9-57eb-4faa-995f-dcf315eff067\n",
            "\n",
            "e96ff418-f3c2-4081-a264-8511692a048c\n",
            "\n",
            "fe87827b-caf4-45dd-9cb9-2ffadd301e17\n",
            "\n",
            "2339600d-df4f-4843-8430-e72f818309f2\n",
            "\n",
            "5e154a9a-6b3e-4ca8-b689-4bede0f0dcf7\n",
            "\n"
          ]
        }
      ],
      "source": [
        "from urllib.request import urlretrieve\n",
        "\n",
        "url = 'https://raw.githubusercontent.com/nmagee/ds1002/main/data/unique-ids.txt'\n",
        "file = 'unique-ids.txt'\n",
        "urlretrieve(url, file)\n",
        "\n",
        "with open('unique-ids.txt', 'r') as f:\n",
        "  for line in f:\n",
        "    print(line)"
      ]
    }
  ]
}