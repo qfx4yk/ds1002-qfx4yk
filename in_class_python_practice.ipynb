{
  "nbformat": 4,
  "nbformat_minor": 0,
  "metadata": {
    "colab": {
      "provenance": [],
      "authorship_tag": "ABX9TyMldqKlybfQKNwJpJtpIm4K",
      "include_colab_link": true
    },
    "kernelspec": {
      "name": "python3",
      "display_name": "Python 3"
    },
    "language_info": {
      "name": "python"
    }
  },
  "cells": [
    {
      "cell_type": "markdown",
      "metadata": {
        "id": "view-in-github",
        "colab_type": "text"
      },
      "source": [
        "<a href=\"https://colab.research.google.com/github/qfx4yk/ds1002-qfx4yk/blob/main/in_class_python_practice.ipynb\" target=\"_parent\"><img src=\"https://colab.research.google.com/assets/colab-badge.svg\" alt=\"Open In Colab\"/></a>"
      ]
    },
    {
      "cell_type": "code",
      "execution_count": 9,
      "metadata": {
        "colab": {
          "base_uri": "https://localhost:8080/"
        },
        "id": "pavZ2Rh_GXRj",
        "outputId": "029a8c98-5d6f-4841-d4b2-26a2cdb0f582"
      },
      "outputs": [
        {
          "output_type": "stream",
          "name": "stdout",
          "text": [
            "No match\n",
            "Hey I found italy\n",
            "No match\n",
            "No match\n",
            "No match\n",
            "No match\n",
            "No match\n",
            "No match\n",
            "No match\n",
            "Hey I found spain\n",
            "No match\n",
            "No match\n"
          ]
        }
      ],
      "source": [
        "# a list of countries\n",
        "countries = [\"vietnam\", \"italy\", \"uzbekistan\", \"spain\", \"united states\", \"uruguay\"]\n",
        "lookfor = \"italy\"\n",
        "\n",
        "# defining a function\n",
        "# the parameter is the variable you are throwing into the function; in this case, it is \"countries\" and \"lookfor\"\n",
        "# for loops take a list apart so that it can loop through each item in the list and perform the function\n",
        "def find_things(countries,  lookfor):\n",
        "  for c in countries:\n",
        "    if (c == lookfor):\n",
        "      print(\"Hey I found \" + lookfor)\n",
        "    else:\n",
        "      print(\"No match\")\n",
        "\n",
        "find_things(countries, lookfor)\n",
        "find_things(countries,  \"spain\")"
      ]
    },
    {
      "cell_type": "code",
      "source": [],
      "metadata": {
        "id": "EumscLR_LUo1"
      },
      "execution_count": null,
      "outputs": []
    }
  ]
}