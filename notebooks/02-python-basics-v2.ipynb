{
  "cells": [
    {
      "cell_type": "markdown",
      "metadata": {
        "id": "view-in-github",
        "colab_type": "text"
      },
      "source": [
        "<a href=\"https://colab.research.google.com/github/qfx4yk/ds1002-qfx4yk/blob/main/notebooks/02-python-basics-v2.ipynb\" target=\"_parent\"><img src=\"https://colab.research.google.com/assets/colab-badge.svg\" alt=\"Open In Colab\"/></a>"
      ]
    },
    {
      "cell_type": "markdown",
      "id": "7f2a553a",
      "metadata": {
        "id": "7f2a553a"
      },
      "source": [
        "# Metadata\n",
        "\n",
        "```\n",
        "Course:      DS 1002\n",
        "Week:        Python Basics\n",
        "Topic:       Python Variables, Indices, and Arguments\n",
        "```"
      ]
    },
    {
      "cell_type": "markdown",
      "id": "420867eb",
      "metadata": {
        "id": "420867eb"
      },
      "source": [
        "# Variables"
      ]
    },
    {
      "cell_type": "markdown",
      "id": "19101330",
      "metadata": {
        "id": "19101330"
      },
      "source": [
        "Variables allow a developer to create a name that refers to a value.  This allows the developer to refer to the value by name instead of by the value itself. Variables should be thought of as key-value pairs, keeping in mind that the \"value\" half can sometimes be quite complex.\n",
        "\n",
        "A variable can have a short name (like x and y) or a more descriptive name (age, subject_id, total_volume).\n",
        "\n",
        "Rules for Python variables:\n",
        "\n",
        "* A variable name must start with a letter or the underscore character\n",
        "* A variable name cannot start with a number\n",
        "* A variable name can only contain alpha-numeric characters and underscores (A-z, 0-9, and _ )\n",
        "* Variable names are case-sensitive (age, Age and AGE are three different variables)"
      ]
    },
    {
      "cell_type": "code",
      "execution_count": 5,
      "id": "d4bb46d9",
      "metadata": {
        "colab": {
          "base_uri": "https://localhost:8080/"
        },
        "id": "d4bb46d9",
        "outputId": "190de21d-c00c-42ef-97d0-4bd6d8d9f3db"
      },
      "outputs": [
        {
          "output_type": "stream",
          "name": "stdout",
          "text": [
            "11\n"
          ]
        }
      ],
      "source": [
        "# a simple key-value pair, a variable and its value:\n",
        "\n",
        "favorite_number = 11\n",
        "print(favorite_number)"
      ]
    },
    {
      "cell_type": "markdown",
      "id": "31315126",
      "metadata": {
        "id": "31315126"
      },
      "source": [
        "Define and populate a variable of your own below:"
      ]
    },
    {
      "cell_type": "code",
      "execution_count": 25,
      "id": "871bad4d",
      "metadata": {
        "colab": {
          "base_uri": "https://localhost:8080/"
        },
        "id": "871bad4d",
        "outputId": "c797edb9-8ce2-406c-f946-21fa3bf1345f"
      },
      "outputs": [
        {
          "output_type": "stream",
          "name": "stdout",
          "text": [
            "december\n",
            "[2, 4, 6, 8, 10]\n"
          ]
        }
      ],
      "source": [
        "# defining a variable\n",
        "\n",
        "birthday_season = \"december\"\n",
        "print(birthday_season)\n",
        "\n",
        "# populating a variable\n",
        "\n",
        "even_numbers = [2, 4, 6, 8, 10]\n",
        "print(even_numbers)"
      ]
    },
    {
      "cell_type": "markdown",
      "id": "f148727a",
      "metadata": {
        "id": "f148727a"
      },
      "source": [
        "**More Complex Variables**\n",
        "\n",
        "A variable can be populated with all sorts of data types: Integers, Booleans, Strings, Lists, Tuples, Dictionaries, etc."
      ]
    },
    {
      "cell_type": "code",
      "execution_count": 23,
      "id": "0cb6b853",
      "metadata": {
        "id": "0cb6b853"
      },
      "outputs": [],
      "source": [
        "fruit = [\"banana\", \"apple\", \"orange\"]"
      ]
    },
    {
      "cell_type": "code",
      "execution_count": 24,
      "id": "ef3589b0",
      "metadata": {
        "colab": {
          "base_uri": "https://localhost:8080/"
        },
        "id": "ef3589b0",
        "outputId": "6ad0da6e-aa98-4666-f2f1-dfde34c8e53f"
      },
      "outputs": [
        {
          "output_type": "stream",
          "name": "stdout",
          "text": [
            "['banana', 'apple', 'orange']\n"
          ]
        }
      ],
      "source": [
        "print(fruit)"
      ]
    },
    {
      "cell_type": "markdown",
      "id": "0bd2b5a7",
      "metadata": {
        "id": "0bd2b5a7"
      },
      "source": [
        "# Indexing"
      ]
    },
    {
      "cell_type": "markdown",
      "id": "3ce8b253",
      "metadata": {
        "id": "3ce8b253"
      },
      "source": [
        "An index is a way of getting or calling the position of a value within a data structure.  For example, if we have a list of 5 values, we can use the index to call the value at position 3.  In Python, the first index is 0, so the value at position 3 would be called with index 2."
      ]
    },
    {
      "cell_type": "code",
      "execution_count": 10,
      "id": "c2435321",
      "metadata": {
        "colab": {
          "base_uri": "https://localhost:8080/",
          "height": 36
        },
        "id": "c2435321",
        "outputId": "2db07cc5-f048-41ee-a186-8ceefcc9ea24"
      },
      "outputs": [
        {
          "output_type": "execute_result",
          "data": {
            "text/plain": [
              "'banana'"
            ],
            "application/vnd.google.colaboratory.intrinsic+json": {
              "type": "string"
            }
          },
          "metadata": {},
          "execution_count": 10
        }
      ],
      "source": [
        "# print the first element of the fruit list\n",
        "\n",
        "fruit[0]"
      ]
    },
    {
      "cell_type": "code",
      "source": [
        "# print the thrid element of the fruit list\n",
        "\n",
        "fruit[2]"
      ],
      "metadata": {
        "colab": {
          "base_uri": "https://localhost:8080/",
          "height": 36
        },
        "id": "BQs6yNRFqR-a",
        "outputId": "7e818ab6-d95b-4826-864a-0530883c5f8e"
      },
      "id": "BQs6yNRFqR-a",
      "execution_count": 11,
      "outputs": [
        {
          "output_type": "execute_result",
          "data": {
            "text/plain": [
              "'orange'"
            ],
            "application/vnd.google.colaboratory.intrinsic+json": {
              "type": "string"
            }
          },
          "metadata": {},
          "execution_count": 11
        }
      ]
    },
    {
      "cell_type": "code",
      "execution_count": 13,
      "id": "0733f33b",
      "metadata": {
        "colab": {
          "base_uri": "https://localhost:8080/"
        },
        "id": "0733f33b",
        "outputId": "482ef78e-4c04-4772-b106-f53b8798e1cc"
      },
      "outputs": [
        {
          "output_type": "stream",
          "name": "stdout",
          "text": [
            "1\n"
          ]
        }
      ],
      "source": [
        "# Or we can find out the index of a specific value we know in the list\n",
        "\n",
        "apple_index = fruit.index(\"apple\")\n",
        "print(apple_index)"
      ]
    },
    {
      "cell_type": "code",
      "source": [
        "# Find out the index of another specific value we know in the list\n",
        "\n",
        "orange_index = fruit.index(\"orange\")\n",
        "print(orange_index)"
      ],
      "metadata": {
        "colab": {
          "base_uri": "https://localhost:8080/"
        },
        "id": "f6dkkoDhqmKy",
        "outputId": "c483700f-7b65-4173-b789-9aae113fd9ba"
      },
      "id": "f6dkkoDhqmKy",
      "execution_count": 14,
      "outputs": [
        {
          "output_type": "stream",
          "name": "stdout",
          "text": [
            "2\n"
          ]
        }
      ]
    },
    {
      "cell_type": "markdown",
      "id": "2f7ae123",
      "metadata": {
        "id": "2f7ae123"
      },
      "source": [
        "# Arguments"
      ]
    },
    {
      "cell_type": "markdown",
      "id": "92a9caa8",
      "metadata": {
        "id": "92a9caa8"
      },
      "source": [
        "Arguments are ways of passing specific values to a function. For example, if we have a function that takes two arguments, we might pass them in by way of two variables.\n",
        "\n",
        "Below is a simple function that ADDS any two values passed to it as arguments. It adds those values as part of a new variable, which it then prints out:"
      ]
    },
    {
      "cell_type": "code",
      "execution_count": 15,
      "id": "fe148025",
      "metadata": {
        "id": "fe148025"
      },
      "outputs": [],
      "source": [
        "def add_us(firstval, secondval):\n",
        "    total = firstval + secondval\n",
        "    print(total)"
      ]
    },
    {
      "cell_type": "code",
      "execution_count": 16,
      "id": "62a4d6d9",
      "metadata": {
        "colab": {
          "base_uri": "https://localhost:8080/"
        },
        "id": "62a4d6d9",
        "outputId": "e7771e43-315a-4f58-898e-0ae548ef2820"
      },
      "outputs": [
        {
          "output_type": "stream",
          "name": "stdout",
          "text": [
            "18\n"
          ]
        }
      ],
      "source": [
        "firstval = 5\n",
        "secondval = 13\n",
        "\n",
        "add_us(firstval, secondval)"
      ]
    },
    {
      "cell_type": "markdown",
      "id": "7ccacba6",
      "metadata": {
        "id": "7ccacba6"
      },
      "source": [
        "Now you try populating the variables with your own values and see what happens:"
      ]
    },
    {
      "cell_type": "code",
      "execution_count": 17,
      "id": "ed9cb356",
      "metadata": {
        "colab": {
          "base_uri": "https://localhost:8080/"
        },
        "id": "ed9cb356",
        "outputId": "8b1d0ff1-ce72-4d9f-fd09-a25530b91fcf"
      },
      "outputs": [
        {
          "output_type": "stream",
          "name": "stdout",
          "text": [
            "57\n"
          ]
        }
      ],
      "source": [
        "firstval = 34\n",
        "secondval = 23\n",
        "\n",
        "add_us(firstval, secondval)"
      ]
    },
    {
      "cell_type": "code",
      "source": [
        "def order_of_operations(x, y, z):\n",
        "  result = (x+y)-z\n",
        "  print(result)"
      ],
      "metadata": {
        "id": "pLxto5BprKBN"
      },
      "id": "pLxto5BprKBN",
      "execution_count": 20,
      "outputs": []
    },
    {
      "cell_type": "code",
      "source": [
        "x = 2\n",
        "y = 3\n",
        "z = 1\n",
        "\n",
        "order_of_operations(x, y, z)"
      ],
      "metadata": {
        "colab": {
          "base_uri": "https://localhost:8080/"
        },
        "id": "XZi33Umlrh_d",
        "outputId": "e598fcb1-fc1f-48e8-ed36-c182698abb65"
      },
      "id": "XZi33Umlrh_d",
      "execution_count": 21,
      "outputs": [
        {
          "output_type": "stream",
          "name": "stdout",
          "text": [
            "4\n"
          ]
        }
      ]
    }
  ],
  "metadata": {
    "kernelspec": {
      "display_name": "base",
      "language": "python",
      "name": "python3"
    },
    "language_info": {
      "codemirror_mode": {
        "name": "ipython",
        "version": 3
      },
      "file_extension": ".py",
      "mimetype": "text/x-python",
      "name": "python",
      "nbconvert_exporter": "python",
      "pygments_lexer": "ipython3",
      "version": "3.9.6"
    },
    "vscode": {
      "interpreter": {
        "hash": "256476f871f41dd9f410a4535ba940f788da543573a25285757e797fedf9c871"
      }
    },
    "colab": {
      "provenance": [],
      "toc_visible": true,
      "include_colab_link": true
    }
  },
  "nbformat": 4,
  "nbformat_minor": 5
}