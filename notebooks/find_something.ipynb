{
  "nbformat": 4,
  "nbformat_minor": 0,
  "metadata": {
    "colab": {
      "provenance": [],
      "include_colab_link": true
    },
    "kernelspec": {
      "name": "python3",
      "display_name": "Python 3"
    },
    "language_info": {
      "name": "python"
    }
  },
  "cells": [
    {
      "cell_type": "markdown",
      "metadata": {
        "id": "view-in-github",
        "colab_type": "text"
      },
      "source": [
        "<a href=\"https://colab.research.google.com/github/qfx4yk/ds1002-qfx4yk/blob/main/notebooks/find_something.ipynb\" target=\"_parent\"><img src=\"https://colab.research.google.com/assets/colab-badge.svg\" alt=\"Open In Colab\"/></a>"
      ]
    },
    {
      "cell_type": "markdown",
      "source": [
        "# Find Something\n",
        "\n",
        "A simple function that digs through a list and looks for what I want."
      ],
      "metadata": {
        "id": "b-_nznioZ_ha"
      }
    },
    {
      "cell_type": "code",
      "execution_count": 1,
      "metadata": {
        "id": "DUv1fi0kZ2U1",
        "outputId": "724f3102-fb23-473a-ae88-bb77abb6f818",
        "colab": {
          "base_uri": "https://localhost:8080/"
        }
      },
      "outputs": [
        {
          "output_type": "stream",
          "name": "stdout",
          "text": [
            "Nothing here\n",
            "Nothing here\n",
            "Nothing here\n",
            "Nothing here\n",
            "Nothing here\n",
            "I found some kumquats\n",
            "Nothing here\n"
          ]
        }
      ],
      "source": [
        "things = [\"apples\",\"bananbas\",\"grapes\",\"mangos\",\"blueberries\",\"kumquats\",\"kiwis\"]\n",
        "lookfor = \"kumquats\"\n",
        "\n",
        "def find_something(things, lookfor):\n",
        "  for t in things:\n",
        "    if (t == lookfor):\n",
        "      # Do something\n",
        "      print(\"I found some \" + lookfor)\n",
        "    else:\n",
        "      print(\"Nothing here\")\n",
        "      pass\n",
        "\n",
        "find_something(things, lookfor)"
      ]
    }
  ]
}