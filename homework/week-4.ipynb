{
  "nbformat": 4,
  "nbformat_minor": 0,
  "metadata": {
    "colab": {
      "provenance": [],
      "include_colab_link": true
    },
    "kernelspec": {
      "name": "python3",
      "display_name": "Python 3"
    },
    "language_info": {
      "name": "python"
    }
  },
  "cells": [
    {
      "cell_type": "markdown",
      "metadata": {
        "id": "view-in-github",
        "colab_type": "text"
      },
      "source": [
        "<a href=\"https://colab.research.google.com/github/qfx4yk/ds1002-qfx4yk/blob/main/homework/week-4.ipynb\" target=\"_parent\"><img src=\"https://colab.research.google.com/assets/colab-badge.svg\" alt=\"Open In Colab\"/></a>"
      ]
    },
    {
      "cell_type": "markdown",
      "source": [
        "# Homework - Week 4\n",
        "\n",
        "Complete the following blocks as specified in the directions. Run each cell to return the desired output. Save your notebook back to your GitHub repository and submit the GitHub URL for your notebook for review."
      ],
      "metadata": {
        "id": "xJ6ZWHKXW4qY"
      }
    },
    {
      "cell_type": "markdown",
      "source": [
        "## 1. Data Types\n",
        "\n",
        "```python\n",
        "s = \"Fox\"\n",
        "x = 17\n",
        "y = \"3\"\n",
        "z = \"false\"\n",
        "```\n",
        "\n",
        "Using the variables above answer these questions:"
      ],
      "metadata": {
        "id": "atxtPF2-XXiW"
      }
    },
    {
      "cell_type": "code",
      "execution_count": 5,
      "metadata": {
        "id": "mdX0VBQgW1-9",
        "outputId": "694e0386-c0d6-4744-c064-75d2213a7d54",
        "colab": {
          "base_uri": "https://localhost:8080/"
        }
      },
      "outputs": [
        {
          "output_type": "stream",
          "name": "stdout",
          "text": [
            "Fox <class 'str'>\n"
          ]
        }
      ],
      "source": [
        "# Write a snippet of code that displays the data type (class) of `s`\n",
        "s = \"Fox\"\n",
        "print(s, type(s))"
      ]
    },
    {
      "cell_type": "code",
      "source": [
        "# Write a snippet of code that adds `x` and `y` and displays their sum.\n",
        "\n",
        "# Step 1: Cast the string variable y to an integer\n",
        "x = 17\n",
        "y = \"3\"\n",
        "yint = int(y)\n",
        "\n",
        "# Step 2: Now that both \"x\" and \"yint\" are integers, you can add them together\n",
        "sum = x + yint\n",
        "sum"
      ],
      "metadata": {
        "id": "OoLP555BbMWi",
        "outputId": "170d05fa-fefa-4a47-9e27-abfa87468385",
        "colab": {
          "base_uri": "https://localhost:8080/"
        }
      },
      "execution_count": 36,
      "outputs": [
        {
          "output_type": "execute_result",
          "data": {
            "text/plain": [
              "20"
            ]
          },
          "metadata": {},
          "execution_count": 36
        }
      ]
    },
    {
      "cell_type": "code",
      "source": [
        "# How might you transform z into a boolean value, if you had to? Be creative.\n",
        "\n",
        "# METHOD 1\n",
        "\n",
        "# Step 1: Create a new variable that stores the boolean value \"False\" DIRECTLY\n",
        "z = \"false\"\n",
        "zbool = bool(False)\n",
        "\n",
        "# Step 2: Re-define the variable z with the newly created variable, zbool\n",
        "z = zbool\n",
        "\n",
        "# Step 3: Print the new value of z and check its \"class\" to make sure that it is now a boolean\n",
        "print(z, type(z))"
      ],
      "metadata": {
        "id": "--XDmwVsbMC0",
        "outputId": "7f080180-50c9-4ad3-ecc1-7185e60ca71e",
        "colab": {
          "base_uri": "https://localhost:8080/"
        }
      },
      "execution_count": 35,
      "outputs": [
        {
          "output_type": "stream",
          "name": "stdout",
          "text": [
            "False <class 'bool'>\n"
          ]
        }
      ]
    },
    {
      "cell_type": "code",
      "source": [
        "# How might you transform z into a boolean value, if you had to? Be creative.\n",
        "\n",
        "# METHOD 2\n",
        "\n",
        "# Step 1: Create a new variable that stores the boolean value \"False\" INDIRECTLY. Note that there are many arguements that could achieve this, but I chose a simpler, more direct arguement\n",
        "z = \"false\"\n",
        "zbool2 = bool(z==bool)\n",
        "\n",
        "# Step 2: Re-define the variable z with the newly created variable, zbool\n",
        "z = zbool2\n",
        "\n",
        "# Step 3: Print the new value of z and check its \"class\" to make sure that it is now a boolean\n",
        "print(z, type(z))"
      ],
      "metadata": {
        "id": "oVHDW2a-0PKr",
        "outputId": "2fb3a72b-1011-4053-b484-338db182e932",
        "colab": {
          "base_uri": "https://localhost:8080/"
        }
      },
      "execution_count": 87,
      "outputs": [
        {
          "output_type": "stream",
          "name": "stdout",
          "text": [
            "False <class 'bool'>\n"
          ]
        }
      ]
    },
    {
      "cell_type": "markdown",
      "source": [
        "- - -"
      ],
      "metadata": {
        "id": "zPvfX62VbK40"
      }
    },
    {
      "cell_type": "markdown",
      "source": [
        "## 2. Lists\n",
        "\n",
        "    mylist = [\"Chicago\",\"New Orleans\", \"Tempe\", \"Denver\", \"Nashville\", \"Albany\"]\n",
        "\n",
        "Using the list above, answer these questions:"
      ],
      "metadata": {
        "id": "j0mCENI3XK2i"
      }
    },
    {
      "cell_type": "code",
      "source": [
        "mylist = [\"Chicago\", \"New Orleans\", \"Tempe\", \"Denver\", \"Nashville\", \"Albany\"]"
      ],
      "metadata": {
        "id": "LX8JzxWZ1IkN"
      },
      "execution_count": 34,
      "outputs": []
    },
    {
      "cell_type": "code",
      "source": [
        "# Write a snippet of code that prints out \"Tempe\"\n",
        "print(mylist[2])"
      ],
      "metadata": {
        "id": "2szfLXZcYC_7",
        "outputId": "a0f02874-db86-4c67-c2c8-ba576850e095",
        "colab": {
          "base_uri": "https://localhost:8080/"
        }
      },
      "execution_count": 33,
      "outputs": [
        {
          "output_type": "stream",
          "name": "stdout",
          "text": [
            "Tempe\n"
          ]
        }
      ]
    },
    {
      "cell_type": "code",
      "source": [
        "# Write a snippet of code that adds \"Atlanta\" to this list and displays the extended list.\n",
        "mylist.append(\"Atlanta\")\n",
        "print(mylist)"
      ],
      "metadata": {
        "id": "P6IeQYoTdMhh",
        "outputId": "ffe5436e-0882-4784-92dc-0ae610814cec",
        "colab": {
          "base_uri": "https://localhost:8080/"
        }
      },
      "execution_count": 50,
      "outputs": [
        {
          "output_type": "stream",
          "name": "stdout",
          "text": [
            "['Chicago', 'New Orleans', 'Tempe', 'Denver', 'Nashville', 'Albany', 'Atlanta']\n"
          ]
        }
      ]
    },
    {
      "cell_type": "code",
      "source": [
        "# Write a snippet of code that prints out only \"New Orleans\", \"Tempe\", \"Denver\".\n",
        "print(mylist[1:4])"
      ],
      "metadata": {
        "id": "t43LdDkhdM2N",
        "outputId": "8a3258af-e0db-44db-b89d-4a0ed08efed5",
        "colab": {
          "base_uri": "https://localhost:8080/"
        }
      },
      "execution_count": 51,
      "outputs": [
        {
          "output_type": "stream",
          "name": "stdout",
          "text": [
            "['New Orleans', 'Tempe', 'Denver']\n"
          ]
        }
      ]
    },
    {
      "cell_type": "markdown",
      "source": [
        "- - -"
      ],
      "metadata": {
        "id": "ATrOT4dYbIVH"
      }
    },
    {
      "cell_type": "markdown",
      "source": [
        "# 3. Dictionaries\n",
        "\n",
        "    mydict = {\"VA\":\"Richmond\", \"NC\":\"Raleigh\", \"NJ\":\"Trenton\", \"PA\":\"Harrisburg\", \"NY\":\"Albany\"}\n",
        "\n",
        "Answer the following questions:"
      ],
      "metadata": {
        "id": "GeXcT_9sYEdx"
      }
    },
    {
      "cell_type": "code",
      "source": [
        "mydict = {\"VA\":\"Richmond\", \"NC\":\"Raleigh\", \"NJ\":\"Trenton\", \"PA\":\"Harrisburg\", \"NY\":\"Albany\"}"
      ],
      "metadata": {
        "id": "7pMEbPYf2blA"
      },
      "execution_count": 53,
      "outputs": []
    },
    {
      "cell_type": "code",
      "source": [
        "# Write a snippet of code that returns \"Trenton\".\n",
        "print(mydict[\"NJ\"])"
      ],
      "metadata": {
        "id": "v3fvvKP4ZUvJ",
        "outputId": "90605be5-cbf6-4c8d-8525-7fb5e8cf5dde",
        "colab": {
          "base_uri": "https://localhost:8080/"
        }
      },
      "execution_count": 59,
      "outputs": [
        {
          "output_type": "stream",
          "name": "stdout",
          "text": [
            "Trenton\n"
          ]
        }
      ]
    },
    {
      "cell_type": "code",
      "source": [
        "# Write a snippet of code that adds \"CO\":\"Denver\" to `mydict`.\n",
        "# Remember the built-in .update({'key': 'value'}) method.\n",
        "mydict.update({\"CO\":\"Denver\"})\n",
        "mydict"
      ],
      "metadata": {
        "id": "OEwUkIDNa90b",
        "outputId": "6891990f-9487-47a0-ffb3-720c66c84db8",
        "colab": {
          "base_uri": "https://localhost:8080/"
        }
      },
      "execution_count": 60,
      "outputs": [
        {
          "output_type": "execute_result",
          "data": {
            "text/plain": [
              "{'VA': 'Richmond',\n",
              " 'NC': 'Raleigh',\n",
              " 'NJ': 'Trenton',\n",
              " 'PA': 'Harrisburg',\n",
              " 'NY': 'Albany',\n",
              " 'CO': 'Denver'}"
            ]
          },
          "metadata": {},
          "execution_count": 60
        }
      ]
    },
    {
      "cell_type": "code",
      "source": [
        "# Write a snippet of code that returns all the keys in `mydict`\n",
        "mydict.keys()"
      ],
      "metadata": {
        "id": "VwoLtOILbF2K",
        "outputId": "c946dfc8-21d9-4a63-afc4-883b427dcbba",
        "colab": {
          "base_uri": "https://localhost:8080/"
        }
      },
      "execution_count": 63,
      "outputs": [
        {
          "output_type": "execute_result",
          "data": {
            "text/plain": [
              "dict_keys(['VA', 'NC', 'NJ', 'PA', 'NY', 'CO'])"
            ]
          },
          "metadata": {},
          "execution_count": 63
        }
      ]
    },
    {
      "cell_type": "markdown",
      "source": [
        "- - -"
      ],
      "metadata": {
        "id": "svpBBTSYa5Dh"
      }
    },
    {
      "cell_type": "markdown",
      "source": [
        "# 4. NumPy Arrays\n",
        "\n",
        "Create an `ndarray` that contains the following values and assign the array to a variable.\n",
        "\n",
        "    2, 3, 5, 7, 11, 13, 17, 19, 23, 29, 31, 37\n",
        "\n",
        "Using that variable, answer the following questions:"
      ],
      "metadata": {
        "id": "DkVtHJBoYW34"
      }
    },
    {
      "cell_type": "code",
      "source": [
        "import numpy as np"
      ],
      "metadata": {
        "id": "CLcB1P3Y4tuD"
      },
      "execution_count": 64,
      "outputs": []
    },
    {
      "cell_type": "code",
      "source": [
        "alist = [2,3,5,7,11,13,17,19,23,29,31,37]\n",
        "y = np.array(alist)\n",
        "y"
      ],
      "metadata": {
        "id": "ULPb4HiW44Jz",
        "outputId": "1b174ea3-f703-451b-fedf-f14f2051fa09",
        "colab": {
          "base_uri": "https://localhost:8080/"
        }
      },
      "execution_count": 65,
      "outputs": [
        {
          "output_type": "execute_result",
          "data": {
            "text/plain": [
              "array([ 2,  3,  5,  7, 11, 13, 17, 19, 23, 29, 31, 37])"
            ]
          },
          "metadata": {},
          "execution_count": 65
        }
      ]
    },
    {
      "cell_type": "code",
      "source": [
        "# Write a snippet of code that prints the data type of the elements in the array.\n",
        "\n",
        "# PART 1 -\n",
        "# Printing the data type of EACH value in the array\n",
        "# The output tells us that each value is part of a numpy array and is an integer\n",
        "\n",
        "for value in y:\n",
        "  print(\"Value:\",value)\n",
        "  print(\"Data Type:\",type(value))\n",
        "  print(' ')"
      ],
      "metadata": {
        "id": "db5UdbrVZSiJ",
        "outputId": "0e6ff603-b317-4c5d-cdd5-a704b344e7eb",
        "colab": {
          "base_uri": "https://localhost:8080/"
        }
      },
      "execution_count": 88,
      "outputs": [
        {
          "output_type": "stream",
          "name": "stdout",
          "text": [
            "Value: 2\n",
            "Data Type: <class 'numpy.int64'>\n",
            " \n",
            "Value: 3\n",
            "Data Type: <class 'numpy.int64'>\n",
            " \n",
            "Value: 5\n",
            "Data Type: <class 'numpy.int64'>\n",
            " \n",
            "Value: 7\n",
            "Data Type: <class 'numpy.int64'>\n",
            " \n",
            "Value: 11\n",
            "Data Type: <class 'numpy.int64'>\n",
            " \n",
            "Value: 13\n",
            "Data Type: <class 'numpy.int64'>\n",
            " \n",
            "Value: 17\n",
            "Data Type: <class 'numpy.int64'>\n",
            " \n",
            "Value: 19\n",
            "Data Type: <class 'numpy.int64'>\n",
            " \n",
            "Value: 23\n",
            "Data Type: <class 'numpy.int64'>\n",
            " \n",
            "Value: 29\n",
            "Data Type: <class 'numpy.int64'>\n",
            " \n",
            "Value: 31\n",
            "Data Type: <class 'numpy.int64'>\n",
            " \n",
            "Value: 37\n",
            "Data Type: <class 'numpy.int64'>\n",
            " \n"
          ]
        }
      ]
    },
    {
      "cell_type": "code",
      "source": [
        "# Write a snippet of code that prints the data type of the elements in the array.\n",
        "\n",
        "# PART 2 -\n",
        "# Printing the data type of the array as a WHOLE\n",
        "# The output tells us that y is a numpy array\n",
        "\n",
        "type(y)"
      ],
      "metadata": {
        "id": "5XUlyJZk73Ua",
        "outputId": "e4f01c37-a5ff-47cd-90f7-48ff54fc9a98",
        "colab": {
          "base_uri": "https://localhost:8080/"
        }
      },
      "execution_count": 89,
      "outputs": [
        {
          "output_type": "execute_result",
          "data": {
            "text/plain": [
              "numpy.ndarray"
            ]
          },
          "metadata": {},
          "execution_count": 89
        }
      ]
    },
    {
      "cell_type": "code",
      "source": [
        "# Write a snippet of code that displays `11` from the array.\n",
        "y[y==11]"
      ],
      "metadata": {
        "id": "8je9wRG9aoWb",
        "outputId": "949b4f07-afc4-4037-f62e-7948596796e7",
        "colab": {
          "base_uri": "https://localhost:8080/"
        }
      },
      "execution_count": 85,
      "outputs": [
        {
          "output_type": "execute_result",
          "data": {
            "text/plain": [
              "array([11])"
            ]
          },
          "metadata": {},
          "execution_count": 85
        }
      ]
    },
    {
      "cell_type": "code",
      "source": [
        "# Write a snippet of code that multiplies each array element by `7` and displays the new values.\n",
        "y * 7"
      ],
      "metadata": {
        "id": "GBT5RzQfaovb",
        "outputId": "69e0ac30-6d47-476a-eaef-8a9d2fffc553",
        "colab": {
          "base_uri": "https://localhost:8080/"
        }
      },
      "execution_count": 86,
      "outputs": [
        {
          "output_type": "execute_result",
          "data": {
            "text/plain": [
              "array([ 14,  21,  35,  49,  77,  91, 119, 133, 161, 203, 217, 259])"
            ]
          },
          "metadata": {},
          "execution_count": 86
        }
      ]
    }
  ]
}