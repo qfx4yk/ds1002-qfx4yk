{
  "nbformat": 4,
  "nbformat_minor": 0,
  "metadata": {
    "colab": {
      "provenance": [],
      "include_colab_link": true
    },
    "kernelspec": {
      "name": "python3",
      "display_name": "Python 3"
    },
    "language_info": {
      "name": "python"
    }
  },
  "cells": [
    {
      "cell_type": "markdown",
      "metadata": {
        "id": "view-in-github",
        "colab_type": "text"
      },
      "source": [
        "<a href=\"https://colab.research.google.com/github/qfx4yk/ds1002-qfx4yk/blob/main/homework/week-8-answers.ipynb\" target=\"_parent\"><img src=\"https://colab.research.google.com/assets/colab-badge.svg\" alt=\"Open In Colab\"/></a>"
      ]
    },
    {
      "cell_type": "markdown",
      "source": [
        "## While-Loops\n",
        "\n",
        "Perform the following steps in code:\n",
        "1. Define a variable and populate it with `0`.\n",
        "2. Create a while statement that evaluates whether that variable is less than or equal to `20`.\n",
        "3. Within the while loop evaluate if the variable value is even or odd.\n",
        "4. Within the while loop, if the variable value is even, print it. If not, do not print it.\n",
        "5. Within the while loop, finally add `1` to the variable before it repeats."
      ],
      "metadata": {
        "id": "But1V5T5qWJG"
      }
    },
    {
      "cell_type": "code",
      "source": [
        "# code here\n",
        "\n",
        "zy = 0\n",
        "\n",
        "while zy < 20:\n",
        "  if zy % 2 == 0:\n",
        "    print(zy, \"is an even number\")\n",
        "  else:\n",
        "    pass\n",
        "  zy += 1\n"
      ],
      "metadata": {
        "id": "GyQTkbqUq6SQ",
        "outputId": "2575f684-30f3-497c-a93f-a5281b8a24a3",
        "colab": {
          "base_uri": "https://localhost:8080/"
        }
      },
      "execution_count": 1,
      "outputs": [
        {
          "output_type": "stream",
          "name": "stdout",
          "text": [
            "0 is an even number\n",
            "2 is an even number\n",
            "4 is an even number\n",
            "6 is an even number\n",
            "8 is an even number\n",
            "10 is an even number\n",
            "12 is an even number\n",
            "14 is an even number\n",
            "16 is an even number\n",
            "18 is an even number\n"
          ]
        }
      ]
    },
    {
      "cell_type": "markdown",
      "source": [
        "## For-Loops with Lists"
      ],
      "metadata": {
        "id": "ghRg1MRwoXvD"
      }
    },
    {
      "cell_type": "code",
      "source": [
        "# Use this list in the exercises below\n",
        "\n",
        "mylist = [9, 15, 23, 4, 92, 47, 33, 17, -4, 18, 38, -242]"
      ],
      "metadata": {
        "id": "G0PaWRBuoZdQ"
      },
      "execution_count": null,
      "outputs": []
    },
    {
      "cell_type": "code",
      "source": [
        "# Write a command to print out all the values of this list\n",
        "# EXCEPT for any negative values. Omit them from the printing.\n",
        "for m in mylist:\n",
        "  if m >= 0:\n",
        "    print(m)\n",
        "  else:\n",
        "    pass"
      ],
      "metadata": {
        "id": "hzoe9vw3phWs",
        "outputId": "9cfa6730-c2bd-4a0d-a7a0-b1499e00ab95",
        "colab": {
          "base_uri": "https://localhost:8080/"
        }
      },
      "execution_count": null,
      "outputs": [
        {
          "output_type": "stream",
          "name": "stdout",
          "text": [
            "9\n",
            "15\n",
            "23\n",
            "4\n",
            "92\n",
            "47\n",
            "33\n",
            "17\n",
            "18\n",
            "38\n"
          ]
        }
      ]
    },
    {
      "cell_type": "code",
      "source": [
        "# Repeat the command from above, but this time get\n",
        "# the absolute value of any negative values in the list\n",
        "# and print those with the other items.\n",
        "\n",
        "# This required some simple manipulation. For instance you could\n",
        "# simply reverse the valence of a negative number:\n",
        "\n",
        "for m in mylist:\n",
        "  if m >= 0:\n",
        "    print(m)\n",
        "  else:\n",
        "    print(-m)\n",
        "\n",
        "# or you could use a built-in math method, abs() which gives the absolute\n",
        "# value for a var.\n",
        "\n",
        "for m in mylist:\n",
        "  if m >= 0:\n",
        "    print(m)\n",
        "  else:\n",
        "    print(abs(m))"
      ],
      "metadata": {
        "id": "IE1-XLNrpnvy",
        "outputId": "953a33f2-a309-499a-f252-be7aa3d580f0",
        "colab": {
          "base_uri": "https://localhost:8080/"
        }
      },
      "execution_count": null,
      "outputs": [
        {
          "output_type": "stream",
          "name": "stdout",
          "text": [
            "9\n",
            "15\n",
            "23\n",
            "4\n",
            "92\n",
            "47\n",
            "33\n",
            "17\n",
            "4\n",
            "18\n",
            "38\n",
            "242\n",
            "9\n",
            "15\n",
            "23\n",
            "4\n",
            "92\n",
            "47\n",
            "33\n",
            "17\n",
            "4\n",
            "18\n",
            "38\n",
            "242\n"
          ]
        }
      ]
    },
    {
      "cell_type": "code",
      "source": [
        "# Similar to above, write a command to print out items in\n",
        "# the list but omit any values greater than 20 and less than 40.\n",
        "\n",
        "for m in mylist:\n",
        "  if m > 20 and m < 40:\n",
        "    pass\n",
        "  else:\n",
        "    print(m)"
      ],
      "metadata": {
        "id": "rC38pZowp4LX",
        "outputId": "00c21e07-f78b-4145-efef-a7f466f53363",
        "colab": {
          "base_uri": "https://localhost:8080/"
        }
      },
      "execution_count": null,
      "outputs": [
        {
          "output_type": "stream",
          "name": "stdout",
          "text": [
            "9\n",
            "15\n",
            "4\n",
            "92\n",
            "47\n",
            "17\n",
            "-4\n",
            "18\n",
            "-242\n"
          ]
        }
      ]
    },
    {
      "cell_type": "markdown",
      "source": [
        "## For-Loops with Dictionaries"
      ],
      "metadata": {
        "id": "BD1Wg4oSSEdz"
      }
    },
    {
      "cell_type": "code",
      "source": [
        "capitals = {'United States':'Washington DC',\n",
        "          'Italy':'Rome',\n",
        "          'England':'London',\n",
        "          'Thailand':'Bangkok',\n",
        "          'Brazil':'Brasilia'}"
      ],
      "metadata": {
        "id": "9DpHR_WzSGA8"
      },
      "execution_count": null,
      "outputs": []
    },
    {
      "cell_type": "code",
      "source": [
        "# Write a command to print out all the keys of this dict\n",
        "# Here is a built-in method that returns a list\n",
        "print(capitals.keys())\n",
        "\n",
        "# Or in this case just spit out the single key for each entry in the dict:\n",
        "\n",
        "for c in capitals:\n",
        "  print(c)"
      ],
      "metadata": {
        "id": "Iy_i6RE3S1ta",
        "outputId": "6b6fcfc1-232e-41d5-b1c8-35048c3fdf8c",
        "colab": {
          "base_uri": "https://localhost:8080/"
        }
      },
      "execution_count": null,
      "outputs": [
        {
          "output_type": "stream",
          "name": "stdout",
          "text": [
            "dict_keys(['United States', 'Italy', 'England', 'Thailand', 'Brazil'])\n",
            "United States\n",
            "Italy\n",
            "England\n",
            "Thailand\n",
            "Brazil\n"
          ]
        }
      ]
    },
    {
      "cell_type": "code",
      "source": [
        "# Write a command to print out all the values of this dict\n",
        "# In this case, call the key by passing the single element in as an index [] of the dict\n",
        "for c in capitals:\n",
        "  print(capitals[c])"
      ],
      "metadata": {
        "id": "eYNBRQAsS95v",
        "outputId": "b2c178dd-6e18-43c3-bca8-f63a790a1e81",
        "colab": {
          "base_uri": "https://localhost:8080/"
        }
      },
      "execution_count": null,
      "outputs": [
        {
          "output_type": "stream",
          "name": "stdout",
          "text": [
            "Washington DC\n",
            "Rome\n",
            "London\n",
            "Bangkok\n",
            "Brasilia\n"
          ]
        }
      ]
    },
    {
      "cell_type": "code",
      "source": [
        "# Write a command to print all the keys and values for this dict\n",
        "# This was given in the for_loop_review notebook:\n",
        "\n",
        "for key, value in capitals.items():\n",
        "  print(key, \" --> \", value)"
      ],
      "metadata": {
        "id": "b1KYFdDxSH7X",
        "outputId": "547ee95b-3c2e-4630-c15b-a58580463c52",
        "colab": {
          "base_uri": "https://localhost:8080/"
        }
      },
      "execution_count": null,
      "outputs": [
        {
          "output_type": "stream",
          "name": "stdout",
          "text": [
            "United States  -->  Washington DC\n",
            "Italy  -->  Rome\n",
            "England  -->  London\n",
            "Thailand  -->  Bangkok\n",
            "Brazil  -->  Brasilia\n"
          ]
        }
      ]
    },
    {
      "cell_type": "code",
      "source": [
        "# Write a command to print only the first three values and NOTHING more.\n",
        "\n",
        "# This is a for-loop with an if counter built within it. You are looping through\n",
        "# the capitals in the for-loop, and then incrementing a counter by 1 with each pass.\n",
        "\n",
        "i = 0;\n",
        "\n",
        "for each in capitals:\n",
        "  if i < 3:\n",
        "    print(capitals[each])\n",
        "    i += 1"
      ],
      "metadata": {
        "id": "pun10Fq2oonQ",
        "outputId": "c468b125-384e-4aaa-cfc7-d12f01d3a11c",
        "colab": {
          "base_uri": "https://localhost:8080/"
        }
      },
      "execution_count": null,
      "outputs": [
        {
          "output_type": "stream",
          "name": "stdout",
          "text": [
            "Washington DC\n",
            "Rome\n",
            "London\n"
          ]
        }
      ]
    }
  ]
}