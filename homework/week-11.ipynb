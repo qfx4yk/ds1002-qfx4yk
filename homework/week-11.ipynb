{
  "nbformat": 4,
  "nbformat_minor": 0,
  "metadata": {
    "colab": {
      "provenance": [],
      "include_colab_link": true
    },
    "kernelspec": {
      "name": "python3",
      "display_name": "Python 3"
    },
    "language_info": {
      "name": "python"
    }
  },
  "cells": [
    {
      "cell_type": "markdown",
      "metadata": {
        "id": "view-in-github",
        "colab_type": "text"
      },
      "source": [
        "<a href=\"https://colab.research.google.com/github/qfx4yk/ds1002-qfx4yk/blob/main/homework/week-11.ipynb\" target=\"_parent\"><img src=\"https://colab.research.google.com/assets/colab-badge.svg\" alt=\"Open In Colab\"/></a>"
      ]
    },
    {
      "cell_type": "markdown",
      "source": [
        "# Homework - Error Handling & Recursion\n",
        "\n",
        "Complete the cells below. Pay close attention to all directions given.\n",
        "\n",
        "## Error Handling (3 pts)\n",
        "\n",
        "```\n",
        "def throw_me_an_error():\n",
        "  val1 = 14\n",
        "  val2 = 0\n",
        "  return val1 / val2\n",
        "\n",
        "throw_me_an_error()\n",
        "```\n",
        "\n",
        "The function above is designed to deliberately throw an error.\n",
        "\n",
        "Create a new version of the function but add `try` and `except` statements correctly. Your exception should print out the type of error this function created. There are a couple of different ways you could do this.\n"
      ],
      "metadata": {
        "id": "v14Xtd9oiTGF"
      }
    },
    {
      "cell_type": "code",
      "execution_count": 2,
      "metadata": {
        "id": "-dfq0Vo_iSi7",
        "outputId": "264ba8b6-7085-4d1e-ff9d-e86852f5e0db",
        "colab": {
          "base_uri": "https://localhost:8080/"
        }
      },
      "outputs": [
        {
          "output_type": "stream",
          "name": "stdout",
          "text": [
            "An error has occurred: division by zero\n"
          ]
        }
      ],
      "source": [
        "# Error handling with throw_me_an_error() function\n",
        "def throw_me_an_error():\n",
        "  try:\n",
        "    val1 = 14\n",
        "    val2 = 0\n",
        "    return val1 / val2\n",
        "  except Exception as e:\n",
        "    print(f\"An error has occurred: {e}\")\n",
        "\n",
        "throw_me_an_error()"
      ]
    },
    {
      "cell_type": "markdown",
      "source": [
        "## Error Handling (4 pts)\n",
        "\n",
        "Extend the class below to include some error handling. Assume the remote resource is offline for a moment: How would you give a message to the user indicating what has gone wrong? (Hint: one way you can test this is by deliberately misspelling the URL for the remote resource.)\n",
        "\n",
        "Also, include error handling logic so that execution of the class method `guid()` always returns a line \"Your request has been completed\" along with the guid it created.\n",
        "\n",
        "```\n",
        "import requests\n",
        "import json\n",
        "import sys\n",
        "\n",
        "class Id:\n",
        "\n",
        "  def guid():\n",
        "    response = requests.get('https://ids.pods.uvarc.io/guid')\n",
        "    body = json.loads(response.text)\n",
        "    return body['id']\n",
        "\n",
        "Id.guid()\n",
        "```"
      ],
      "metadata": {
        "id": "gf9m78RWmWqC"
      }
    },
    {
      "cell_type": "code",
      "source": [
        "# Error handling with Class Id\n",
        "# Scenario 1: the web URL has been deliberately misspelled\n",
        "import requests\n",
        "import json\n",
        "import sys\n",
        "\n",
        "class Id:\n",
        "\n",
        "  def guid():\n",
        "    try:\n",
        "      response = requests.get('htts://ids.pods.uvarc.io/guid')\n",
        "      body = json.loads(response.text)\n",
        "      return body['id']\n",
        "    except Exception as e:\n",
        "      print(f\"Exception caught: {e}\")\n",
        "    finally:\n",
        "        print(\"Your request has been completed.\")\n",
        "\n",
        "\n",
        "Id.guid()"
      ],
      "metadata": {
        "id": "hT5B-LokmUbU",
        "outputId": "be393723-b266-4143-e63f-419398f9593f",
        "colab": {
          "base_uri": "https://localhost:8080/"
        }
      },
      "execution_count": 22,
      "outputs": [
        {
          "output_type": "stream",
          "name": "stdout",
          "text": [
            "Exception caught: No connection adapters were found for 'htts://ids.pods.uvarc.io/guid'\n",
            "Your request has been completed.\n"
          ]
        }
      ]
    },
    {
      "cell_type": "code",
      "source": [
        "# Error handling with Class Id\n",
        "# Scenario 2: there is no deliberate error in the class Id\n",
        "import requests\n",
        "import json\n",
        "import sys\n",
        "\n",
        "class Id:\n",
        "\n",
        "  def guid():\n",
        "    try:\n",
        "      response = requests.get('https://ids.pods.uvarc.io/guid')\n",
        "      body = json.loads(response.text)\n",
        "      return body['id']\n",
        "    except Exception as e:\n",
        "      print(f\"Exception caught: {e}\")\n",
        "    finally:\n",
        "        print(\"Your request has been completed:\")\n",
        "\n",
        "\n",
        "Id.guid()"
      ],
      "metadata": {
        "id": "f32tb4rshNqY",
        "outputId": "ac0a54ec-faf3-4944-b210-f1d0436099a9",
        "colab": {
          "base_uri": "https://localhost:8080/",
          "height": 53
        }
      },
      "execution_count": 44,
      "outputs": [
        {
          "output_type": "stream",
          "name": "stdout",
          "text": [
            "Your request has been completed:\n"
          ]
        },
        {
          "output_type": "execute_result",
          "data": {
            "text/plain": [
              "'2791def2-dd48-49dc-9073-f37b8e5cdd58'"
            ],
            "application/vnd.google.colaboratory.intrinsic+json": {
              "type": "string"
            }
          },
          "metadata": {},
          "execution_count": 44
        }
      ]
    },
    {
      "cell_type": "markdown",
      "source": [
        "## Recursive Functions (3 pts)\n",
        "\n",
        "In the cell below, explain line by line the logic of what is being calculated when the function is called with an input value of 2.\n",
        "\n",
        "```\n",
        "def squarer(n):\n",
        "  if n == 1:\n",
        "    return 2\n",
        "  else:\n",
        "    return squarer(n-1) ** 2 + n\n",
        "\n",
        "squarer(2)\n",
        "```"
      ],
      "metadata": {
        "id": "XCuNofSFomZ6"
      }
    },
    {
      "cell_type": "code",
      "source": [
        "# Explanation of def squarer(n) function\n",
        "\n",
        "# Line 1: defines a function called def squarer(n) that takes one integer parameter n\n",
        "# Line 2: begins an if-statement --> if the input parameter n passed into def squarer(n) is equal to 1......\n",
        "# Line 3: completes the if-statment --> if the input parameter n passed into def squarer(n) is equal to 1, then output the integer 2.\n",
        "# Line 4: defines an else conditional for situations in which the input parameter n passed into def squarer(n) is not equal to 1.\n",
        "# Line 5: completes the else conditional with an expression: squarer(n-1) ** 2 + n. This expression is explained part by part below.\n",
        "        # Part 1:\n",
        "          # squarer(n-1) --> tells Python to calculate the output value for your input parameter minus 1.\n",
        "          # For example: if you passed in an input value of 2 to the original function, squarer(n-1) will calculate the output for squarer(2-1) = squarer(1).\n",
        "            # Based on the function, the output for squarer(1) = 2.\n",
        "        # Part 2:\n",
        "          # After squarer(n-1) has been calculated, it is replaced with the corresponding integer value.\n",
        "          # The rest of the expression in the else conditional is then carried out with regular arithmetic.\n",
        "          # For example: if you passed in an input value of 2 to the original function, squarer(n-1) ** 2 + n = 2 ** 2 + 2 = 6.\n",
        "\n",
        "# Here is an example of how the logic in def squarer(n) would work if you pass in an input value of 3 to the original function:\n",
        "  # squarer(3) = squarer(n-1) ** 2 + n = squarer(3-1) ** 2 + 3 = squarer(2) ** 2 + 3 = 6 ** 2 + 3 = 36 + 3 = 39\n",
        "\n",
        "# Here is an example of how the logic in def squarer(n) would work if you pass on an input value of 4 to the original function:\n",
        "  # squarer(4) = squarer(n-1) ** 2 + n = squarer(4-1) ** 2 + 3 = squarer(3) ** 2 + 4 = 39 ** 2 + 4 = 1521 + 4 = 1525"
      ],
      "metadata": {
        "id": "oYiqS2cxxXm4"
      },
      "execution_count": 50,
      "outputs": []
    }
  ]
}