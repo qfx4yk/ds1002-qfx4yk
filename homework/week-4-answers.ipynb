{
  "nbformat": 4,
  "nbformat_minor": 0,
  "metadata": {
    "colab": {
      "provenance": [],
      "include_colab_link": true
    },
    "kernelspec": {
      "name": "python3",
      "display_name": "Python 3"
    },
    "language_info": {
      "name": "python"
    }
  },
  "cells": [
    {
      "cell_type": "markdown",
      "metadata": {
        "id": "view-in-github",
        "colab_type": "text"
      },
      "source": [
        "<a href=\"https://colab.research.google.com/github/qfx4yk/ds1002-qfx4yk/blob/main/homework/week-4-answers.ipynb\" target=\"_parent\"><img src=\"https://colab.research.google.com/assets/colab-badge.svg\" alt=\"Open In Colab\"/></a>"
      ]
    },
    {
      "cell_type": "markdown",
      "source": [
        "# Homework - Week 4\n",
        "\n",
        "Complete the following blocks as specified in the directions. Run each cell to return the desired output. Save your notebook back to your GitHub repository and submit the GitHub URL for your notebook for review."
      ],
      "metadata": {
        "id": "xJ6ZWHKXW4qY"
      }
    },
    {
      "cell_type": "markdown",
      "source": [
        "## 1. Data Types\n",
        "\n",
        "```python\n",
        "s = \"Fox\"\n",
        "x = 17\n",
        "y = \"3\"\n",
        "z = \"false\"\n",
        "```\n",
        "\n",
        "Using the variables above answer these questions:"
      ],
      "metadata": {
        "id": "atxtPF2-XXiW"
      }
    },
    {
      "cell_type": "code",
      "execution_count": null,
      "metadata": {
        "id": "mdX0VBQgW1-9",
        "outputId": "8b7dee29-8c2a-46bd-cf38-8ee4406fa73d",
        "colab": {
          "base_uri": "https://localhost:8080/"
        }
      },
      "outputs": [
        {
          "output_type": "execute_result",
          "data": {
            "text/plain": [
              "str"
            ]
          },
          "metadata": {},
          "execution_count": 1
        }
      ],
      "source": [
        "# Write a snippet of code that displays the data type (class) of `s`\n",
        "s = \"Fox\"\n",
        "x = 17\n",
        "y = \"3\"\n",
        "z = \"false\"\n",
        "\n",
        "type(s)"
      ]
    },
    {
      "cell_type": "code",
      "source": [
        "# Write a snippet of code that adds `x` and `y` and displays their sum.\n",
        "\n",
        "mysum = x + int(y)\n",
        "mysum"
      ],
      "metadata": {
        "id": "OoLP555BbMWi",
        "outputId": "704ee72a-2b3a-4602-f05d-cf4d7c00b0fc",
        "colab": {
          "base_uri": "https://localhost:8080/"
        }
      },
      "execution_count": null,
      "outputs": [
        {
          "output_type": "execute_result",
          "data": {
            "text/plain": [
              "20"
            ]
          },
          "metadata": {},
          "execution_count": 2
        }
      ]
    },
    {
      "cell_type": "code",
      "source": [
        "# How might you transform z into a boolean value, if you had to? Be creative.\n",
        "\n",
        "testme = z.capitalize()\n",
        "if (testme == \"False\"):\n",
        "  newval = False\n",
        "else:\n",
        "  newval = True\n",
        "print(newval)"
      ],
      "metadata": {
        "id": "--XDmwVsbMC0",
        "outputId": "8695b22b-0c7b-4dce-9c3f-84c0a55c1e8c",
        "colab": {
          "base_uri": "https://localhost:8080/"
        }
      },
      "execution_count": null,
      "outputs": [
        {
          "output_type": "stream",
          "name": "stdout",
          "text": [
            "False\n"
          ]
        }
      ]
    },
    {
      "cell_type": "markdown",
      "source": [
        "- - -"
      ],
      "metadata": {
        "id": "zPvfX62VbK40"
      }
    },
    {
      "cell_type": "markdown",
      "source": [
        "## 2. Lists\n",
        "\n",
        "    mylist = [\"Chicago\",\"New Orleans\", \"Tempe\", \"Denver\", \"Nashville\", \"Albany\"]\n",
        "\n",
        "Using the list above, answer these questions:"
      ],
      "metadata": {
        "id": "j0mCENI3XK2i"
      }
    },
    {
      "cell_type": "code",
      "source": [
        "# Write a snippet of code that prints out \"Tempe\"\n",
        "mylist = [\"Chicago\",\"New Orleans\", \"Tempe\", \"Denver\", \"Nashville\", \"Albany\"]\n",
        "\n",
        "mylist[2]"
      ],
      "metadata": {
        "id": "2szfLXZcYC_7",
        "outputId": "0f34b238-8593-4eb4-a1f5-4e01de8fde96",
        "colab": {
          "base_uri": "https://localhost:8080/",
          "height": 35
        }
      },
      "execution_count": null,
      "outputs": [
        {
          "output_type": "execute_result",
          "data": {
            "text/plain": [
              "'Tempe'"
            ],
            "application/vnd.google.colaboratory.intrinsic+json": {
              "type": "string"
            }
          },
          "metadata": {},
          "execution_count": 12
        }
      ]
    },
    {
      "cell_type": "code",
      "source": [
        "# Write a snippet of code that adds \"Atlanta\" to this list and displays the extended list.\n",
        "mylist.append(\"Atlanta\")\n",
        "mylist"
      ],
      "metadata": {
        "id": "P6IeQYoTdMhh",
        "outputId": "6c114d4d-4431-4503-efc5-99615c18458e",
        "colab": {
          "base_uri": "https://localhost:8080/"
        }
      },
      "execution_count": null,
      "outputs": [
        {
          "output_type": "execute_result",
          "data": {
            "text/plain": [
              "['Chicago', 'New Orleans', 'Tempe', 'Denver', 'Nashville', 'Albany', 'Atlanta']"
            ]
          },
          "metadata": {},
          "execution_count": 13
        }
      ]
    },
    {
      "cell_type": "markdown",
      "source": [],
      "metadata": {
        "id": "ShrhhYl7cVB_"
      }
    },
    {
      "cell_type": "code",
      "source": [
        "# Write a snippet of code that prints out only \"New Orleans\", \"Tempe\", \"Denver\".\n",
        "mylist[1:4]"
      ],
      "metadata": {
        "id": "t43LdDkhdM2N",
        "outputId": "e95600d6-3cf2-4a54-b336-3af3097080f5",
        "colab": {
          "base_uri": "https://localhost:8080/"
        }
      },
      "execution_count": null,
      "outputs": [
        {
          "output_type": "execute_result",
          "data": {
            "text/plain": [
              "['New Orleans', 'Tempe', 'Denver']"
            ]
          },
          "metadata": {},
          "execution_count": 14
        }
      ]
    },
    {
      "cell_type": "markdown",
      "source": [
        "- - -"
      ],
      "metadata": {
        "id": "ATrOT4dYbIVH"
      }
    },
    {
      "cell_type": "markdown",
      "source": [
        "# 3. Dictionaries\n",
        "\n",
        "    mydict = {\"VA\":\"Richmond\", \"NC\":\"Raleigh\", \"NJ\":\"Trenton\", \"PA\":\"Harrisburg\", \"NY\":\"Albany\"}\n",
        "\n",
        "Answer the following questions:"
      ],
      "metadata": {
        "id": "GeXcT_9sYEdx"
      }
    },
    {
      "cell_type": "code",
      "source": [
        "# Write a snippet of code that returns \"Trenton\".\n",
        "mydict = {\"VA\":\"Richmond\", \"NC\":\"Raleigh\", \"NJ\":\"Trenton\", \"PA\":\"Harrisburg\", \"NY\":\"Albany\"}\n",
        "\n",
        "mydict[\"NJ\"]\n"
      ],
      "metadata": {
        "id": "v3fvvKP4ZUvJ",
        "outputId": "431f9dc8-166f-4f5a-8249-35fb69412230",
        "colab": {
          "base_uri": "https://localhost:8080/",
          "height": 35
        }
      },
      "execution_count": null,
      "outputs": [
        {
          "output_type": "execute_result",
          "data": {
            "text/plain": [
              "'Trenton'"
            ],
            "application/vnd.google.colaboratory.intrinsic+json": {
              "type": "string"
            }
          },
          "metadata": {},
          "execution_count": 15
        }
      ]
    },
    {
      "cell_type": "code",
      "source": [
        "# Write a snippet of code that adds \"CO\":\"Denver\" to `mydict`.\n",
        "# Remember the built-in .update({key='value'}) method.\n",
        "## UPDATE ^^ line above was incorrect when I posted this ;^)\n",
        "\n",
        "mydict.update(CO=\"Denver\")\n",
        "mydict"
      ],
      "metadata": {
        "id": "OEwUkIDNa90b",
        "outputId": "35e90f13-0a33-4a20-ae95-03d1cd3a1313",
        "colab": {
          "base_uri": "https://localhost:8080/"
        }
      },
      "execution_count": null,
      "outputs": [
        {
          "output_type": "execute_result",
          "data": {
            "text/plain": [
              "{'VA': 'Richmond',\n",
              " 'NC': 'Raleigh',\n",
              " 'NJ': 'Trenton',\n",
              " 'PA': 'Harrisburg',\n",
              " 'NY': 'Albany',\n",
              " 'CO': 'Denver'}"
            ]
          },
          "metadata": {},
          "execution_count": 20
        }
      ]
    },
    {
      "cell_type": "code",
      "source": [
        "# Write a snippet of code that returns all the keys in `mydict`\n",
        "mydict.keys()"
      ],
      "metadata": {
        "id": "VwoLtOILbF2K",
        "outputId": "34db9048-af02-4df1-94da-2d15a626b4d8",
        "colab": {
          "base_uri": "https://localhost:8080/"
        }
      },
      "execution_count": null,
      "outputs": [
        {
          "output_type": "execute_result",
          "data": {
            "text/plain": [
              "dict_keys(['VA', 'NC', 'NJ', 'PA', 'NY', 'CO'])"
            ]
          },
          "metadata": {},
          "execution_count": 21
        }
      ]
    },
    {
      "cell_type": "markdown",
      "source": [
        "- - -"
      ],
      "metadata": {
        "id": "svpBBTSYa5Dh"
      }
    },
    {
      "cell_type": "markdown",
      "source": [
        "# 4. NumPy Arrays\n",
        "\n",
        "Create an `ndarray` that contains the following values and assign the array to a variable.\n",
        "\n",
        "    2, 3, 5, 7, 11, 13, 17, 19, 23, 29, 31, 37\n",
        "\n",
        "Using that variable, answer the following questions:"
      ],
      "metadata": {
        "id": "DkVtHJBoYW34"
      }
    },
    {
      "cell_type": "code",
      "source": [
        "# first import numpy and load array\n",
        "import numpy as np\n",
        "\n",
        "myarray = np.array([2, 3, 5, 7, 11, 13, 17, 19, 23, 29, 31, 37])"
      ],
      "metadata": {
        "id": "uFvO4lisc6jI"
      },
      "execution_count": null,
      "outputs": []
    },
    {
      "cell_type": "code",
      "source": [
        "# Write a snippet of code that prints the data type of the elements in the array.\n",
        "myarray.dtype"
      ],
      "metadata": {
        "id": "db5UdbrVZSiJ",
        "outputId": "047de04f-2fb9-4939-9d61-19242445773f",
        "colab": {
          "base_uri": "https://localhost:8080/"
        }
      },
      "execution_count": null,
      "outputs": [
        {
          "output_type": "execute_result",
          "data": {
            "text/plain": [
              "dtype('int64')"
            ]
          },
          "metadata": {},
          "execution_count": 28
        }
      ]
    },
    {
      "cell_type": "code",
      "source": [
        "# Write a snippet of code that displays `11` from the array.\n",
        "myarray[4]"
      ],
      "metadata": {
        "id": "8je9wRG9aoWb",
        "outputId": "72cce206-3c8a-4a9b-cf99-22554b77f2b0",
        "colab": {
          "base_uri": "https://localhost:8080/"
        }
      },
      "execution_count": null,
      "outputs": [
        {
          "output_type": "execute_result",
          "data": {
            "text/plain": [
              "11"
            ]
          },
          "metadata": {},
          "execution_count": 30
        }
      ]
    },
    {
      "cell_type": "code",
      "source": [
        "# Write a snippet of code that multiplies each array element by `7` and displays the new values.\n",
        "sevenarray = myarray * 7\n",
        "print(sevenarray)"
      ],
      "metadata": {
        "id": "GBT5RzQfaovb",
        "outputId": "f170f66d-0367-41c8-c89d-d4e1169dee2f",
        "colab": {
          "base_uri": "https://localhost:8080/"
        }
      },
      "execution_count": null,
      "outputs": [
        {
          "output_type": "stream",
          "name": "stdout",
          "text": [
            "[ 14  21  35  49  77  91 119 133 161 203 217 259]\n"
          ]
        }
      ]
    }
  ]
}