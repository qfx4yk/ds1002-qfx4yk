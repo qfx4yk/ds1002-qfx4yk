{
  "nbformat": 4,
  "nbformat_minor": 0,
  "metadata": {
    "colab": {
      "provenance": [],
      "include_colab_link": true
    },
    "kernelspec": {
      "name": "python3",
      "display_name": "Python 3"
    },
    "language_info": {
      "name": "python"
    }
  },
  "cells": [
    {
      "cell_type": "markdown",
      "metadata": {
        "id": "view-in-github",
        "colab_type": "text"
      },
      "source": [
        "<a href=\"https://colab.research.google.com/github/qfx4yk/ds1002-qfx4yk/blob/main/homework/week-3-answers.ipynb\" target=\"_parent\"><img src=\"https://colab.research.google.com/assets/colab-badge.svg\" alt=\"Open In Colab\"/></a>"
      ]
    },
    {
      "cell_type": "markdown",
      "source": [
        "# Homework - Week 3\n",
        "\n",
        "Complete the following blocks as specified in the directions. Run each cell to return the desired output. Save your notebook back to your GitHub repository and submit the GitHub URL for your notebook for grading."
      ],
      "metadata": {
        "id": "xJ6ZWHKXW4qY"
      }
    },
    {
      "cell_type": "markdown",
      "source": [
        "## 1. Variables\n",
        "\n",
        "Declare and populate three variables below. Be sure your code outputs each variable:\n",
        "\n",
        "1. Containing a string\n",
        "2. Containing a boolean\n",
        "3. Containing an integer"
      ],
      "metadata": {
        "id": "j0mCENI3XK2i"
      }
    },
    {
      "cell_type": "code",
      "execution_count": null,
      "metadata": {
        "id": "mdX0VBQgW1-9",
        "outputId": "fd163bb1-cfe3-4f71-ff3d-16e5c9f8c2f2",
        "colab": {
          "base_uri": "https://localhost:8080/"
        }
      },
      "outputs": [
        {
          "output_type": "stream",
          "name": "stdout",
          "text": [
            "hi there\n",
            "False\n",
            "14\n"
          ]
        }
      ],
      "source": [
        "# Put answers below\n",
        "\n",
        "# 1\n",
        "x = \"hi there\"\n",
        "\n",
        "# 2\n",
        "y = False\n",
        "\n",
        "# 3\n",
        "z = 14\n",
        "\n",
        "# print them out by explicitly printing each var\n",
        "print(x)\n",
        "print(y)\n",
        "print(z)"
      ]
    },
    {
      "cell_type": "markdown",
      "source": [
        "## 2. String Manipulation\n",
        "\n",
        "Take the following string and, using python commands, show how to fulfill the requested task. Be sure your code outputs the requested data.\n",
        "\n",
        "String: \"Go Hoos, Beat JMU!\"\n",
        "\n",
        "1. Write a command that extracts the first 8 characters of the string.\n",
        "2. Write a command that extracts the last 4 characters of the string."
      ],
      "metadata": {
        "id": "atxtPF2-XXiW"
      }
    },
    {
      "cell_type": "code",
      "source": [
        "# Put answers below\n",
        "\n",
        "# declare my var\n",
        "s = \"Go Hoos, Beat JMU!\"\n",
        "\n",
        "# 1\n",
        "y = s[:8]\n",
        "print(y)\n",
        "\n",
        "# 2\n",
        "z = s[-4:]\n",
        "print(z)"
      ],
      "metadata": {
        "id": "2szfLXZcYC_7",
        "outputId": "fcae8d88-2339-4e0c-8778-c6ebaa0fedc4",
        "colab": {
          "base_uri": "https://localhost:8080/"
        }
      },
      "execution_count": null,
      "outputs": [
        {
          "output_type": "stream",
          "name": "stdout",
          "text": [
            "Go Hoos,\n",
            "JMU!\n"
          ]
        }
      ]
    },
    {
      "cell_type": "markdown",
      "source": [
        "# 3. Concatenation\n",
        "\n",
        "1. Declare any two string variables and concatenate them.\n",
        "2. Declare a string parameter and concatenate another hard-coded phrase with it.\n",
        "*NOTE that something \"hard-coded\" is not stored in a variable; it is directly typed into Python."
      ],
      "metadata": {
        "id": "GeXcT_9sYEdx"
      }
    },
    {
      "cell_type": "code",
      "source": [
        "# Put answers below\n",
        "\n",
        "# 1\n",
        "n = \"Neal\"\n",
        "m = \"Magee\"\n",
        "o = n + m\n",
        "print(o)\n",
        "\n",
        "# 2\n",
        "q = \"This is \"\n",
        "p = q + \"the power of concatenation!\"\n",
        "print(p)"
      ],
      "metadata": {
        "id": "v3fvvKP4ZUvJ",
        "outputId": "98f193c8-5d9f-4575-cd0f-46cf0858ab02",
        "colab": {
          "base_uri": "https://localhost:8080/"
        }
      },
      "execution_count": null,
      "outputs": [
        {
          "output_type": "stream",
          "name": "stdout",
          "text": [
            "NealMagee\n",
            "This is the power of concatenation!\n"
          ]
        }
      ]
    },
    {
      "cell_type": "markdown",
      "source": [
        "# 4. Math Operations\n",
        "\n",
        "Using the following numeric variables, write Python code that fulfills the requested operations. Be sure your code outputs the correct results.\n",
        "\n",
        "```python\n",
        "var1 = 9\n",
        "var2 = 12\n",
        "var3 = 48\n",
        "var4 = 4\n",
        "```\n",
        "\n",
        "1. Divide var3 by var2\n",
        "2. Multiply var1 by var4\n",
        "3. Write a Python expression that gives a result of `16`."
      ],
      "metadata": {
        "id": "DkVtHJBoYW34"
      }
    },
    {
      "cell_type": "code",
      "source": [
        "# Put answers below\n",
        "\n",
        "# populate my variables\n",
        "var1 = 9\n",
        "var2 = 12\n",
        "var3 = 48\n",
        "var4 = 4\n",
        "\n",
        "# Print them out so they aren't lost\n",
        "# 1\n",
        "print(var3/var2)\n",
        "divval = var3 / var2\n",
        "print(int(divval))\n",
        "# 2\n",
        "print(var1 * var4)\n",
        "# 3\n",
        "print(var2 + var4)"
      ],
      "metadata": {
        "id": "db5UdbrVZSiJ",
        "outputId": "4632d7a8-3e1c-4463-b557-eeec00177c7a",
        "colab": {
          "base_uri": "https://localhost:8080/"
        }
      },
      "execution_count": 1,
      "outputs": [
        {
          "output_type": "stream",
          "name": "stdout",
          "text": [
            "4.0\n",
            "4\n",
            "36\n",
            "16\n"
          ]
        }
      ]
    }
  ]
}