{
  "nbformat": 4,
  "nbformat_minor": 0,
  "metadata": {
    "colab": {
      "provenance": [],
      "include_colab_link": true
    },
    "kernelspec": {
      "name": "python3",
      "display_name": "Python 3"
    },
    "language_info": {
      "name": "python"
    }
  },
  "cells": [
    {
      "cell_type": "markdown",
      "metadata": {
        "id": "view-in-github",
        "colab_type": "text"
      },
      "source": [
        "<a href=\"https://colab.research.google.com/github/qfx4yk/ds1002-qfx4yk/blob/main/homework/week-8.ipynb\" target=\"_parent\"><img src=\"https://colab.research.google.com/assets/colab-badge.svg\" alt=\"Open In Colab\"/></a>"
      ]
    },
    {
      "cell_type": "markdown",
      "source": [
        "## While-Loops\n",
        "\n",
        "Perform the following steps in code:\n",
        "1. Define a variable and populate it with `0`.\n",
        "2. Create a while statement that evaluates whether that variable is less than or equal to `20`.\n",
        "3. Within the while loop evaluate if the variable value is even or odd.\n",
        "4. Within the while loop, if the variable value is even, print it. If not, do not print it.\n",
        "5. Within the while loop, finally add `1` to the variable before it repeats."
      ],
      "metadata": {
        "id": "But1V5T5qWJG"
      }
    },
    {
      "cell_type": "code",
      "source": [
        "var1 = 0\n",
        "while var1 <= 20:\n",
        "  var1 += 1\n",
        "  if var1 % 2 == 1:\n",
        "    continue\n",
        "  elif var1 % 2 == 0:\n",
        "    print(var1, \"is even!\")"
      ],
      "metadata": {
        "id": "GyQTkbqUq6SQ",
        "outputId": "68652cd3-ae1e-4aaa-a506-021b39d6041b",
        "colab": {
          "base_uri": "https://localhost:8080/"
        }
      },
      "execution_count": 12,
      "outputs": [
        {
          "output_type": "stream",
          "name": "stdout",
          "text": [
            "2 is even!\n",
            "4 is even!\n",
            "6 is even!\n",
            "8 is even!\n",
            "10 is even!\n",
            "12 is even!\n",
            "14 is even!\n",
            "16 is even!\n",
            "18 is even!\n",
            "20 is even!\n"
          ]
        }
      ]
    },
    {
      "cell_type": "markdown",
      "source": [
        "## For-Loops with Lists"
      ],
      "metadata": {
        "id": "ghRg1MRwoXvD"
      }
    },
    {
      "cell_type": "code",
      "source": [
        "mylist = [9, 15, 23, 4, 92, 47, 33, 17, -4, 18, 38, -242]"
      ],
      "metadata": {
        "id": "G0PaWRBuoZdQ"
      },
      "execution_count": 9,
      "outputs": []
    },
    {
      "cell_type": "code",
      "source": [
        "# Write a command to print out all the values of this list EXCEPT for any negative values. Omit them from the printing.\n",
        "for number in mylist:\n",
        "  if number//-1 == abs(number):\n",
        "    continue\n",
        "  else:\n",
        "    print(number)"
      ],
      "metadata": {
        "id": "hzoe9vw3phWs",
        "outputId": "70092609-22d9-4f96-c781-b5d2cbc43916",
        "colab": {
          "base_uri": "https://localhost:8080/"
        }
      },
      "execution_count": 10,
      "outputs": [
        {
          "output_type": "stream",
          "name": "stdout",
          "text": [
            "9\n",
            "15\n",
            "23\n",
            "4\n",
            "92\n",
            "47\n",
            "33\n",
            "17\n",
            "18\n",
            "38\n"
          ]
        }
      ]
    },
    {
      "cell_type": "code",
      "source": [
        "# Repeat the command from above, but this time get the absolute value of any negative values in the list and print those with the other items.\n",
        "for number in mylist:\n",
        "  if number//-1 == abs(number):\n",
        "    print(abs(number))\n",
        "  else:\n",
        "    print(number)"
      ],
      "metadata": {
        "id": "IE1-XLNrpnvy",
        "outputId": "585eeb22-51d2-4b42-e8d0-55188f308f00",
        "colab": {
          "base_uri": "https://localhost:8080/"
        }
      },
      "execution_count": 11,
      "outputs": [
        {
          "output_type": "stream",
          "name": "stdout",
          "text": [
            "9\n",
            "15\n",
            "23\n",
            "4\n",
            "92\n",
            "47\n",
            "33\n",
            "17\n",
            "4\n",
            "18\n",
            "38\n",
            "242\n"
          ]
        }
      ]
    },
    {
      "cell_type": "code",
      "source": [
        "# Similar to above, write a command to print out items in the list but omit any values greater than 20 and less than 40.\n",
        "for number in mylist:\n",
        "  if 20 < number < 40:\n",
        "    continue\n",
        "  else:\n",
        "    print(number)"
      ],
      "metadata": {
        "id": "rC38pZowp4LX",
        "outputId": "a72f0a0f-c239-4d07-a991-8f31f54539fd",
        "colab": {
          "base_uri": "https://localhost:8080/"
        }
      },
      "execution_count": 13,
      "outputs": [
        {
          "output_type": "stream",
          "name": "stdout",
          "text": [
            "9\n",
            "15\n",
            "4\n",
            "92\n",
            "47\n",
            "17\n",
            "-4\n",
            "18\n",
            "-242\n"
          ]
        }
      ]
    },
    {
      "cell_type": "markdown",
      "source": [
        "## For-Loops with Dictionaries"
      ],
      "metadata": {
        "id": "BD1Wg4oSSEdz"
      }
    },
    {
      "cell_type": "code",
      "source": [
        "capitals = {'United States':'Washington DC',\n",
        "          'Italy':'Rome',\n",
        "          'England':'London',\n",
        "          'Thailand':'Bangkok',\n",
        "          'Brazil':'Brasilia'}"
      ],
      "metadata": {
        "id": "9DpHR_WzSGA8"
      },
      "execution_count": 15,
      "outputs": []
    },
    {
      "cell_type": "code",
      "source": [
        "# Write a command to print out all the keys of this dict\n",
        "for capital in capitals:\n",
        "  print(capital)"
      ],
      "metadata": {
        "id": "Iy_i6RE3S1ta",
        "outputId": "84ca4c86-e871-49bf-cb5b-ed2f74937d6e",
        "colab": {
          "base_uri": "https://localhost:8080/"
        }
      },
      "execution_count": 36,
      "outputs": [
        {
          "output_type": "stream",
          "name": "stdout",
          "text": [
            "United States\n",
            "Italy\n",
            "England\n",
            "Thailand\n",
            "Brazil\n"
          ]
        }
      ]
    },
    {
      "cell_type": "code",
      "source": [
        "# Write a command to print out all the values of this dict\n",
        "for capital in capitals:\n",
        "  print(capitals[capital])"
      ],
      "metadata": {
        "id": "eYNBRQAsS95v",
        "outputId": "b0a19bd5-d771-4bcb-8b0a-8098f34aa201",
        "colab": {
          "base_uri": "https://localhost:8080/"
        }
      },
      "execution_count": 34,
      "outputs": [
        {
          "output_type": "stream",
          "name": "stdout",
          "text": [
            "Washington DC\n",
            "Rome\n",
            "London\n",
            "Bangkok\n",
            "Brasilia\n"
          ]
        }
      ]
    },
    {
      "cell_type": "code",
      "source": [
        "# Write a command to print all the keys and values for this dict\n",
        "print(\"Countries and their Capitals:\")\n",
        "print(\" \")\n",
        "for key, value in capitals.items():\n",
        "  print(key,\"-->\",value)\n",
        "  print(\" \")"
      ],
      "metadata": {
        "id": "b1KYFdDxSH7X",
        "outputId": "34c6945c-944c-49f0-db28-8a98e31d8f99",
        "colab": {
          "base_uri": "https://localhost:8080/"
        }
      },
      "execution_count": 37,
      "outputs": [
        {
          "output_type": "stream",
          "name": "stdout",
          "text": [
            "Countries and their Capitals:\n",
            " \n",
            "United States --> Washington DC\n",
            " \n",
            "Italy --> Rome\n",
            " \n",
            "England --> London\n",
            " \n",
            "Thailand --> Bangkok\n",
            " \n",
            "Brazil --> Brasilia\n",
            " \n"
          ]
        }
      ]
    },
    {
      "cell_type": "code",
      "source": [
        "# Write a command to print only the first three values and NOTHING more.\n",
        "for key, value in capitals.items():\n",
        "  if (value == \"Washington DC\") or (value == \"Rome\") or (value == \"London\"):\n",
        "    print(value)\n",
        "  else:\n",
        "    continue"
      ],
      "metadata": {
        "id": "pun10Fq2oonQ",
        "outputId": "ae3d3166-958e-4399-e4a7-cf07e6e65f26",
        "colab": {
          "base_uri": "https://localhost:8080/"
        }
      },
      "execution_count": 41,
      "outputs": [
        {
          "output_type": "stream",
          "name": "stdout",
          "text": [
            "Washington DC\n",
            "Rome\n",
            "London\n"
          ]
        }
      ]
    },
    {
      "cell_type": "markdown",
      "source": [
        "# **\"Mini\" Extra Project**"
      ],
      "metadata": {
        "id": "GwhFDSYIJqsL"
      }
    },
    {
      "cell_type": "code",
      "source": [
        "score = input(\"Type your chemistry test score as a percentage: \")\n",
        "score1 = int(score)\n",
        "points_returned = (100-score1)/2\n",
        "curved_score = score1 + points_returned\n",
        "print(\"You will receive\", points_returned, \"points back after test corrections.\")\n",
        "print(\"Your curved score is\", curved_score)"
      ],
      "metadata": {
        "id": "5Ls9I6hlB2U9",
        "outputId": "5e89e2ae-e583-4b7f-c33e-522620160f5e",
        "colab": {
          "base_uri": "https://localhost:8080/"
        }
      },
      "execution_count": 71,
      "outputs": [
        {
          "output_type": "stream",
          "name": "stdout",
          "text": [
            "Type your chemistry test score as a percentage: 90\n",
            "You will receive 5.0 points back after test corrections.\n",
            "Your curved score is 95.0\n"
          ]
        }
      ]
    }
  ]
}