{
  "nbformat": 4,
  "nbformat_minor": 0,
  "metadata": {
    "colab": {
      "provenance": [],
      "include_colab_link": true
    },
    "kernelspec": {
      "name": "python3",
      "display_name": "Python 3"
    },
    "language_info": {
      "name": "python"
    }
  },
  "cells": [
    {
      "cell_type": "markdown",
      "metadata": {
        "id": "view-in-github",
        "colab_type": "text"
      },
      "source": [
        "<a href=\"https://colab.research.google.com/github/qfx4yk/ds1002-qfx4yk/blob/main/homework/week-9.ipynb\" target=\"_parent\"><img src=\"https://colab.research.google.com/assets/colab-badge.svg\" alt=\"Open In Colab\"/></a>"
      ]
    },
    {
      "cell_type": "markdown",
      "source": [
        "# Homework - Week 9\n",
        "\n",
        "Complete the following blocks as specified in the directions. Run each cell to return the desired output. Save your notebook back to your GitHub repository and submit the GitHub URL to your notebook for review."
      ],
      "metadata": {
        "id": "phbaQTT5gy8A"
      }
    },
    {
      "cell_type": "markdown",
      "source": [
        "## Functions\n",
        "\n",
        "In the cell below define a function that takes one parameter (in the form of a list) called `names` and returns a simple greeting for each name, such as\n",
        "\n",
        "    \"Hello Natasha, it's so nice to meet you\"\n",
        "    \"Hello Sid, it's so nice to meet you\"\n",
        "\n",
        "Define the function and run it, and in another cell below call the function populated with a var of a list of names."
      ],
      "metadata": {
        "id": "38Pg39pMrDua"
      }
    },
    {
      "cell_type": "code",
      "source": [
        "def greet_name(names):\n",
        "    '''\n",
        "    PURPOSE: Given a list of names, return a simple greeting for each name\n",
        "\n",
        "    INPUTS\n",
        "    names --> list of names\n",
        "\n",
        "    OUTPUT\n",
        "    one sentence greeting for each name in the list of names\n",
        "    '''\n",
        "    for name in names:\n",
        "      print(\"Greetings\",name,\", it's nice to meet you.\")"
      ],
      "metadata": {
        "id": "kdFLCHtOg53p"
      },
      "execution_count": 16,
      "outputs": []
    },
    {
      "cell_type": "code",
      "source": [
        "names = [\"Aparna\", \"Natasha\", \"Sid\", \"Bunny\", \"Maya\"]\n",
        "greet_name(names)"
      ],
      "metadata": {
        "id": "JlNPe_XUsmog",
        "outputId": "af62255a-e978-4afb-ed5a-6fc36cdd5da0",
        "colab": {
          "base_uri": "https://localhost:8080/"
        }
      },
      "execution_count": 18,
      "outputs": [
        {
          "output_type": "stream",
          "name": "stdout",
          "text": [
            "Greetings Aparna , it's nice to meet you.\n",
            "Greetings Natasha , it's nice to meet you.\n",
            "Greetings Sid , it's nice to meet you.\n",
            "Greetings Bunny , it's nice to meet you.\n",
            "Greetings Maya , it's nice to meet you.\n"
          ]
        }
      ]
    },
    {
      "cell_type": "markdown",
      "source": [
        "Using the following list, pass it into a function you define that will evaluate the list and return a count of how many items is in it. Be creative.\n",
        "\n",
        "```\n",
        "mylist = [\"Toronto\",\"Buffalo\",\"Syracuse\",\"Albany\",\"Schenectady\",\"Brooklyn\",\"Rome\",\"Ithaca\"]\n",
        "```"
      ],
      "metadata": {
        "id": "mXqNACpkrdUZ"
      }
    },
    {
      "cell_type": "code",
      "source": [
        "mylist = [\"Toronto\",\"Buffalo\",\"Syracuse\",\"Albany\",\"Schenectady\",\"Brooklyn\",\"Rome\",\"Ithaca\"]\n",
        "\n",
        "def count_list_items(mylist):\n",
        "  '''\n",
        "  PURPOSE: Given a list, return a count for how many items is in it\n",
        "\n",
        "  INPUTS\n",
        "  mylist --> list of items\n",
        "\n",
        "  OUTPUT\n",
        "  one sentence greeting for each name in the list of names\n",
        "  '''\n",
        "  return len(mylist)\n",
        "\n",
        "count_list_items(mylist)"
      ],
      "metadata": {
        "id": "mvxOzRSisg0a",
        "outputId": "a22deed8-8a19-44b4-b456-598d554faf84",
        "colab": {
          "base_uri": "https://localhost:8080/"
        }
      },
      "execution_count": 23,
      "outputs": [
        {
          "output_type": "execute_result",
          "data": {
            "text/plain": [
              "8"
            ]
          },
          "metadata": {},
          "execution_count": 23
        }
      ]
    },
    {
      "cell_type": "markdown",
      "source": [
        "## Input Validation\n",
        "\n",
        "Write a function below that defines two input parameters as `bool` and returns a `bool`.\n",
        "In the cell below that, populate two variables with two different bools (True and False)\n",
        "and pass them into a call of your function."
      ],
      "metadata": {
        "id": "YU7FXSCXsFab"
      }
    },
    {
      "cell_type": "code",
      "source": [
        "def give_me_a_bool(var1: bool, var2: bool) -> bool:\n",
        "  '''\n",
        "  PURPOSE: Given two input bool parameters, evaluate whether both are true\n",
        "\n",
        "  INPUTS\n",
        "  var1 --> bool\n",
        "  var2 --> bool\n",
        "\n",
        "  OUTPUT\n",
        "  boolean that evaluates whether the statement (var1 and var2) is True or False\n",
        "  '''\n",
        "  if (type(var1) == bool) and (type(var2) == bool):\n",
        "    return var1 and var2\n",
        "  else:\n",
        "    print(\"Wrong data type. Please pass in booleans.\")"
      ],
      "metadata": {
        "id": "DGMJZjlysfHU"
      },
      "execution_count": 33,
      "outputs": []
    },
    {
      "cell_type": "code",
      "source": [
        "var1 = 5==4\n",
        "var2 = True\n",
        "give_me_a_bool(var1, var2)"
      ],
      "metadata": {
        "id": "-lytwI_PIk6y",
        "outputId": "0b8ea763-6032-42f4-e19f-84eeeb45dd21",
        "colab": {
          "base_uri": "https://localhost:8080/"
        }
      },
      "execution_count": 31,
      "outputs": [
        {
          "output_type": "execute_result",
          "data": {
            "text/plain": [
              "False"
            ]
          },
          "metadata": {},
          "execution_count": 31
        }
      ]
    },
    {
      "cell_type": "markdown",
      "source": [
        "## Global Variables\n",
        "\n",
        "Define a global variable and populate it with a data type (int, str, bool, float, etc.)"
      ],
      "metadata": {
        "id": "xXZTr5fdsd5M"
      }
    },
    {
      "cell_type": "code",
      "source": [
        "global_var = \"Earth\""
      ],
      "metadata": {
        "id": "HN8CFLVRs6_L"
      },
      "execution_count": 36,
      "outputs": []
    },
    {
      "cell_type": "markdown",
      "source": [
        "Now create a function that prints out the global variable. Call the function and display the value of the var."
      ],
      "metadata": {
        "id": "G1Auc6l1s8F6"
      }
    },
    {
      "cell_type": "code",
      "source": [
        "def print_global_var():\n",
        "  '''\n",
        "  PURPOSE: Print a defined global variable\n",
        "\n",
        "  INPUTS\n",
        "  no inputs\n",
        "\n",
        "  OUTPUT\n",
        "  displayed value of the defined global variable\n",
        "  '''\n",
        "  print(global_var)\n",
        "\n",
        "print_global_var()"
      ],
      "metadata": {
        "id": "Q6O0Ep_wtBWJ",
        "outputId": "49db51e5-4a53-4399-9ef8-34319da8d649",
        "colab": {
          "base_uri": "https://localhost:8080/"
        }
      },
      "execution_count": 37,
      "outputs": [
        {
          "output_type": "stream",
          "name": "stdout",
          "text": [
            "Earth\n"
          ]
        }
      ]
    },
    {
      "cell_type": "markdown",
      "source": [
        "Now create a function that creates its own global var and populates it.\n",
        "Call the function and then print out the global var from outside of the function."
      ],
      "metadata": {
        "id": "IN2TRQI8tCC4"
      }
    },
    {
      "cell_type": "code",
      "source": [
        "def create_global_var():\n",
        "  '''\n",
        "  PURPOSE: Create and print a global variable\n",
        "\n",
        "  INPUTS\n",
        "  no inputs\n",
        "\n",
        "  OUTPUT\n",
        "  displayed value of the defined global variable\n",
        "  '''\n",
        "  global zz\n",
        "  zz = 10\n",
        "\n",
        "create_global_var()\n",
        "print(zz)"
      ],
      "metadata": {
        "id": "Oz4rnmfTtKen",
        "outputId": "8fde7ae6-3c55-491a-ef50-be28438dbd9c",
        "colab": {
          "base_uri": "https://localhost:8080/"
        }
      },
      "execution_count": 35,
      "outputs": [
        {
          "output_type": "stream",
          "name": "stdout",
          "text": [
            "10\n"
          ]
        }
      ]
    },
    {
      "cell_type": "markdown",
      "source": [
        "Finally, write a function that updates the value of the global var you defined 3 cells above.\n",
        "\n",
        "1. Within the function, print out the global var you defined 3 cells above.\n",
        "2. Update the global var to have a new value.\n",
        "3. Within the function, print the new value of the global var.\n",
        "\n",
        "Call the function and once more print out the value of the global var from outside of the function."
      ],
      "metadata": {
        "id": "jv0dtym0tLZn"
      }
    },
    {
      "cell_type": "code",
      "source": [
        "def update_global_var():\n",
        "  '''\n",
        "  PURPOSE: Update a defined global variable\n",
        "\n",
        "  INPUTS\n",
        "  no inputs\n",
        "\n",
        "  OUTPUT\n",
        "  displayed value of the updated global variable\n",
        "  '''\n",
        "  global global_var\n",
        "  print(\"Old value:\",global_var)\n",
        "  global_var = \"Mars\"\n",
        "  print(\"New value:\",global_var)\n",
        "\n",
        "update_global_var()\n",
        "print(global_var)"
      ],
      "metadata": {
        "id": "pnX-hfKouLcG",
        "outputId": "312e4612-237e-4c2b-8674-3c8e17c40e04",
        "colab": {
          "base_uri": "https://localhost:8080/"
        }
      },
      "execution_count": 39,
      "outputs": [
        {
          "output_type": "stream",
          "name": "stdout",
          "text": [
            "Old value: Earth\n",
            "New value: Mars\n",
            "Mars\n"
          ]
        }
      ]
    }
  ]
}