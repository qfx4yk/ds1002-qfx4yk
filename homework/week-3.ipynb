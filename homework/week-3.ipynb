{
  "nbformat": 4,
  "nbformat_minor": 0,
  "metadata": {
    "colab": {
      "provenance": [],
      "include_colab_link": true
    },
    "kernelspec": {
      "name": "python3",
      "display_name": "Python 3"
    },
    "language_info": {
      "name": "python"
    }
  },
  "cells": [
    {
      "cell_type": "markdown",
      "metadata": {
        "id": "view-in-github",
        "colab_type": "text"
      },
      "source": [
        "<a href=\"https://colab.research.google.com/github/qfx4yk/ds1002-qfx4yk/blob/main/homework/week-3.ipynb\" target=\"_parent\"><img src=\"https://colab.research.google.com/assets/colab-badge.svg\" alt=\"Open In Colab\"/></a>"
      ]
    },
    {
      "cell_type": "markdown",
      "source": [
        "# Homework - Week 3\n",
        "\n",
        "Complete the following blocks as specified in the directions. Run each cell to return the desired output. Save your notebook back to your GitHub repository and submit the GitHub URL for your notebook for grading."
      ],
      "metadata": {
        "id": "xJ6ZWHKXW4qY"
      }
    },
    {
      "cell_type": "markdown",
      "source": [
        "## 1. Variables\n",
        "\n",
        "Declare and populate three variables below. Be sure your code outputs each variable:\n",
        "\n",
        "1. Containing a string\n",
        "2. Containing a boolean\n",
        "3. Containing an integer"
      ],
      "metadata": {
        "id": "j0mCENI3XK2i"
      }
    },
    {
      "cell_type": "code",
      "execution_count": null,
      "metadata": {
        "id": "mdX0VBQgW1-9",
        "colab": {
          "base_uri": "https://localhost:8080/"
        },
        "outputId": "a1fa0376-ee08-4322-ccfa-af1cb5db4f38"
      },
      "outputs": [
        {
          "output_type": "stream",
          "name": "stdout",
          "text": [
            "data science\n"
          ]
        },
        {
          "output_type": "execute_result",
          "data": {
            "text/plain": [
              "str"
            ]
          },
          "metadata": {},
          "execution_count": 10
        }
      ],
      "source": [
        "# String variable\n",
        "fav_subject = \"data science\"\n",
        "print(fav_subject)\n",
        "type(fav_subject)"
      ]
    },
    {
      "cell_type": "code",
      "source": [
        "# Boolean variable\n",
        "bool_var = 4==5\n",
        "print(bool_var)\n",
        "type(bool_var)"
      ],
      "metadata": {
        "colab": {
          "base_uri": "https://localhost:8080/"
        },
        "id": "4BtyGoQhqcPe",
        "outputId": "c4ed9151-ce53-4237-8697-174bfe7d72f9"
      },
      "execution_count": null,
      "outputs": [
        {
          "output_type": "stream",
          "name": "stdout",
          "text": [
            "False\n"
          ]
        },
        {
          "output_type": "execute_result",
          "data": {
            "text/plain": [
              "bool"
            ]
          },
          "metadata": {},
          "execution_count": 12
        }
      ]
    },
    {
      "cell_type": "code",
      "source": [
        "# Integer variable\n",
        "x = 23*4+8\n",
        "print(x)\n",
        "type(x)"
      ],
      "metadata": {
        "colab": {
          "base_uri": "https://localhost:8080/"
        },
        "id": "cMObP8c_rGi5",
        "outputId": "d710aacd-97ae-4563-9eae-097d47935d33"
      },
      "execution_count": null,
      "outputs": [
        {
          "output_type": "stream",
          "name": "stdout",
          "text": [
            "100\n"
          ]
        },
        {
          "output_type": "execute_result",
          "data": {
            "text/plain": [
              "int"
            ]
          },
          "metadata": {},
          "execution_count": 18
        }
      ]
    },
    {
      "cell_type": "markdown",
      "source": [
        "## 2. String Manipulation\n",
        "\n",
        "Take the following string and, using python commands, show how to fulfill the requested task. Be sure your code outputs the requested data.\n",
        "\n",
        "String: \"Go Hoos, Beat JMU!\"\n",
        "\n",
        "1. Write a command that extracts the first 8 characters of the string.\n",
        "2. Write a command that extracts the last 4 characters of the string."
      ],
      "metadata": {
        "id": "atxtPF2-XXiW"
      }
    },
    {
      "cell_type": "code",
      "source": [
        "# Command that extracts the first 8 characters of the string\n",
        "UVA_string = \"Go Hoos, Beat JMU!\"\n",
        "print(UVA_string[:8])"
      ],
      "metadata": {
        "id": "2szfLXZcYC_7",
        "colab": {
          "base_uri": "https://localhost:8080/"
        },
        "outputId": "f2d3a8ae-14b4-4345-c70a-5157cdcb6430"
      },
      "execution_count": null,
      "outputs": [
        {
          "output_type": "stream",
          "name": "stdout",
          "text": [
            "Go Hoos,\n"
          ]
        }
      ]
    },
    {
      "cell_type": "code",
      "source": [
        "# Command that extracts the last 4 characters of the string\n",
        "print(UVA_string[-4:])"
      ],
      "metadata": {
        "colab": {
          "base_uri": "https://localhost:8080/"
        },
        "id": "1WpPQJGRr-Vl",
        "outputId": "d901f72b-240f-4094-bfc2-0c9de173116f"
      },
      "execution_count": null,
      "outputs": [
        {
          "output_type": "stream",
          "name": "stdout",
          "text": [
            "JMU!\n"
          ]
        }
      ]
    },
    {
      "cell_type": "markdown",
      "source": [
        "# 3. Concatenation\n",
        "\n",
        "1. Declare any two string variables and concatenate them.\n",
        "2. Declare a string parameter and concatenate another hard-coded phrase with it."
      ],
      "metadata": {
        "id": "GeXcT_9sYEdx"
      }
    },
    {
      "cell_type": "code",
      "source": [
        "# Concatenating two strings\n",
        "my_name = \"My name is\"\n",
        "name = \"Aparna Gana\"\n",
        "\n",
        "print(my_name + ' ' + name + '.')"
      ],
      "metadata": {
        "id": "v3fvvKP4ZUvJ",
        "colab": {
          "base_uri": "https://localhost:8080/"
        },
        "outputId": "311baa84-195d-4852-9c24-e4653a5b5d5f"
      },
      "execution_count": null,
      "outputs": [
        {
          "output_type": "stream",
          "name": "stdout",
          "text": [
            "My name is Aparna Gana.\n"
          ]
        }
      ]
    },
    {
      "cell_type": "code",
      "source": [
        "# Declaring a string parameter and concatenating another hard-coded phrase with it\n",
        "string_parameter = str(9)\n",
        "hard_coded_phrase = \"Today is September\"\n",
        "\n",
        "print(string1 + ' ' + date + 'th.')"
      ],
      "metadata": {
        "colab": {
          "base_uri": "https://localhost:8080/"
        },
        "id": "zrrq46QauDP1",
        "outputId": "948a2f2d-1e15-42cd-9c87-39db2b62c275"
      },
      "execution_count": null,
      "outputs": [
        {
          "output_type": "stream",
          "name": "stdout",
          "text": [
            "Today is September 9th.\n"
          ]
        }
      ]
    },
    {
      "cell_type": "markdown",
      "source": [
        "# 4. Math Operations\n",
        "\n",
        "Using the following numeric variables, write Python code that fulfills the requested operations. Be sure your code outputs the correct results.\n",
        "\n",
        "```python\n",
        "var1 = 9\n",
        "var2 = 12\n",
        "var3 = 48\n",
        "var4 = 4\n",
        "```\n",
        "\n",
        "1. Divide var3 by var2\n",
        "2. Multiply var1 by var4\n",
        "3. Write a Python expression that gives a result of `16`."
      ],
      "metadata": {
        "id": "DkVtHJBoYW34"
      }
    },
    {
      "cell_type": "code",
      "source": [
        "# Division\n",
        "var2 = 12\n",
        "var3 = 48\n",
        "int(var3/var2)"
      ],
      "metadata": {
        "id": "db5UdbrVZSiJ",
        "colab": {
          "base_uri": "https://localhost:8080/"
        },
        "outputId": "5a9f87af-1f69-4733-9de6-3eed38ec6554"
      },
      "execution_count": null,
      "outputs": [
        {
          "output_type": "execute_result",
          "data": {
            "text/plain": [
              "4"
            ]
          },
          "metadata": {},
          "execution_count": 32
        }
      ]
    },
    {
      "cell_type": "code",
      "source": [
        "# Multiplication\n",
        "var1 = 9\n",
        "var4 = 4\n",
        "int(var1*var4)"
      ],
      "metadata": {
        "colab": {
          "base_uri": "https://localhost:8080/"
        },
        "id": "S_SQPDRmv2jF",
        "outputId": "3dbae768-f562-44fd-8353-d81ea4c46f8b"
      },
      "execution_count": null,
      "outputs": [
        {
          "output_type": "execute_result",
          "data": {
            "text/plain": [
              "36"
            ]
          },
          "metadata": {},
          "execution_count": 33
        }
      ]
    },
    {
      "cell_type": "code",
      "source": [
        "# Python expression that gives a result of 16\n",
        "var1 = 9\n",
        "var2 = 12\n",
        "var3 = 48\n",
        "var4 = 4\n",
        "\n",
        "desired_result = 16\n",
        "\n",
        "expression = int((var3/var2) + var4 + var1 - 1)\n",
        "print(expression)\n",
        "\n",
        "expression == desired_result"
      ],
      "metadata": {
        "colab": {
          "base_uri": "https://localhost:8080/"
        },
        "id": "7cL-QTzev_5h",
        "outputId": "83f462ec-9908-4be0-bf55-250324ec6d47"
      },
      "execution_count": null,
      "outputs": [
        {
          "output_type": "stream",
          "name": "stdout",
          "text": [
            "16\n"
          ]
        },
        {
          "output_type": "execute_result",
          "data": {
            "text/plain": [
              "True"
            ]
          },
          "metadata": {},
          "execution_count": 37
        }
      ]
    },
    {
      "cell_type": "markdown",
      "source": [
        "# 5. For Loops (Extra Practice For Fun)\n",
        "\n",
        "Context: 10 female teenagers were gathered for a clinical study. Each patient's blood amylase levels were measured. Amylase is an enzyme that helps humans digest carbohydrates. Most of the amylase in the body is made by the pancreas or salivary glands. Having too much or too little amylase in the blood may be a sign of a disorder of the pancreas or salivary glands, or another medical condition. Normal amylase levels range from 40 to 140 units per liter.\n",
        "\n",
        "The 10 patients do not have medical knowledge and thus, do not know how to interpret their results. The purpose of this simple python function is to output a simple statement that will help these patients quickly interpret their results."
      ],
      "metadata": {
        "id": "jGwzXRZm6I3P"
      }
    },
    {
      "cell_type": "code",
      "source": [
        "amylase_levels = [43, 500, 123, 57, 10, 135, 100, 30, 2, 40]\n",
        "\n",
        "def interpret_amylase(amylase_levels):\n",
        "  for a in amylase_levels:\n",
        "    print(\"Your amylase level is: \" + str(a) + \" units per liter\")\n",
        "    if a < 40:\n",
        "      print(\"Too low. Consult a physician.\")\n",
        "    if a > 140:\n",
        "      print(\"Too high. Consult a physician.\")\n",
        "    if 40 <= a <= 140:\n",
        "      print(\"Normal.\")\n",
        "    print(' ')\n",
        "\n",
        "interpret_amylase(amylase_levels)"
      ],
      "metadata": {
        "id": "9y4Hgvgb6kPN",
        "outputId": "9a3f6a96-4195-4167-bd62-d3c017ea45a4",
        "colab": {
          "base_uri": "https://localhost:8080/"
        }
      },
      "execution_count": 9,
      "outputs": [
        {
          "output_type": "stream",
          "name": "stdout",
          "text": [
            "Your amylase level is: 43 units per liter\n",
            "Normal.\n",
            " \n",
            "Your amylase level is: 500 units per liter\n",
            "Too high. Consult a physician.\n",
            " \n",
            "Your amylase level is: 123 units per liter\n",
            "Normal.\n",
            " \n",
            "Your amylase level is: 57 units per liter\n",
            "Normal.\n",
            " \n",
            "Your amylase level is: 10 units per liter\n",
            "Too low. Consult a physician.\n",
            " \n",
            "Your amylase level is: 135 units per liter\n",
            "Normal.\n",
            " \n",
            "Your amylase level is: 100 units per liter\n",
            "Normal.\n",
            " \n",
            "Your amylase level is: 30 units per liter\n",
            "Too low. Consult a physician.\n",
            " \n",
            "Your amylase level is: 2 units per liter\n",
            "Too low. Consult a physician.\n",
            " \n",
            "Your amylase level is: 40 units per liter\n",
            "Normal.\n",
            " \n"
          ]
        }
      ]
    }
  ]
}