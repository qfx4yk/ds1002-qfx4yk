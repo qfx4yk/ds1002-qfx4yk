{
  "nbformat": 4,
  "nbformat_minor": 0,
  "metadata": {
    "colab": {
      "provenance": [],
      "include_colab_link": true
    },
    "kernelspec": {
      "name": "ir",
      "display_name": "R"
    },
    "language_info": {
      "name": "R"
    }
  },
  "cells": [
    {
      "cell_type": "markdown",
      "metadata": {
        "id": "view-in-github",
        "colab_type": "text"
      },
      "source": [
        "<a href=\"https://colab.research.google.com/github/qfx4yk/ds1002-qfx4yk/blob/main/homework/week-15.ipynb\" target=\"_parent\"><img src=\"https://colab.research.google.com/assets/colab-badge.svg\" alt=\"Open In Colab\"/></a>"
      ]
    },
    {
      "cell_type": "markdown",
      "source": [
        "# Homework - Week 15\n",
        "\n",
        "Complete the following blocks as specified in the directions. Run each cell to return the desired output. Save your notebook back to your GitHub repository and submit the GitHub URL to your notebook for review."
      ],
      "metadata": {
        "id": "sZruw3XQogej"
      }
    },
    {
      "cell_type": "markdown",
      "source": [
        "## 1. Create Functions (4 pts)\n",
        "\n",
        "Create two functions in the cells below, according to the prompts given."
      ],
      "metadata": {
        "id": "lkaofBQypx1X"
      }
    },
    {
      "cell_type": "code",
      "source": [
        "# create a function in R that:\n",
        "#   1. takes a single integer as an input parameter\n",
        "#   2. determines whether the integer is even or odd\n",
        "#   3. returns a character statement \"The integer <x> is even\" or \"The integer <x> is odd\" (replace <x> with the actual input provided)\n",
        "\n",
        "even_or_odd <- function(var1) { if (var1 %% 2 == 1) {\n",
        "    odd_statement <- paste(\"The integer\", var1, \"is odd\")\n",
        "    return(odd_statement)\n",
        "  } else if (var1 %% 2 == 0) {\n",
        "    even_statement <- paste(\"The integer\", var1, \"is even\")\n",
        "    return(even_statement)\n",
        "  } else {\n",
        "    error_statement <- paste(\"Please pass in an integer\")\n",
        "    return(error_statement)\n",
        "  }\n",
        "\n",
        "}"
      ],
      "metadata": {
        "id": "1fjq5bkEp6Zv"
      },
      "execution_count": 2,
      "outputs": []
    },
    {
      "cell_type": "code",
      "source": [
        "# execute the function twice using two different input values, displaying even and odd results.\n",
        "\n",
        "even_or_odd(2)\n",
        "even_or_odd(3)\n",
        "even_or_odd(457243142536)\n",
        "even_or_odd(67)\n",
        "even_or_odd(3.4)\n",
        "even_or_odd(7/8)"
      ],
      "metadata": {
        "id": "prsyNoZ3EdRB",
        "outputId": "aac63968-1136-4fc9-a860-830564875316",
        "colab": {
          "base_uri": "https://localhost:8080/",
          "height": 121
        }
      },
      "execution_count": 3,
      "outputs": [
        {
          "output_type": "display_data",
          "data": {
            "text/html": [
              "'The integer 2 is even'"
            ],
            "text/markdown": "'The integer 2 is even'",
            "text/latex": "'The integer 2 is even'",
            "text/plain": [
              "[1] \"The integer 2 is even\""
            ]
          },
          "metadata": {}
        },
        {
          "output_type": "display_data",
          "data": {
            "text/html": [
              "'The integer 3 is odd'"
            ],
            "text/markdown": "'The integer 3 is odd'",
            "text/latex": "'The integer 3 is odd'",
            "text/plain": [
              "[1] \"The integer 3 is odd\""
            ]
          },
          "metadata": {}
        },
        {
          "output_type": "display_data",
          "data": {
            "text/html": [
              "'The integer 457243142536 is even'"
            ],
            "text/markdown": "'The integer 457243142536 is even'",
            "text/latex": "'The integer 457243142536 is even'",
            "text/plain": [
              "[1] \"The integer 457243142536 is even\""
            ]
          },
          "metadata": {}
        },
        {
          "output_type": "display_data",
          "data": {
            "text/html": [
              "'The integer 67 is odd'"
            ],
            "text/markdown": "'The integer 67 is odd'",
            "text/latex": "'The integer 67 is odd'",
            "text/plain": [
              "[1] \"The integer 67 is odd\""
            ]
          },
          "metadata": {}
        },
        {
          "output_type": "display_data",
          "data": {
            "text/html": [
              "'Please pass in an integer'"
            ],
            "text/markdown": "'Please pass in an integer'",
            "text/latex": "'Please pass in an integer'",
            "text/plain": [
              "[1] \"Please pass in an integer\""
            ]
          },
          "metadata": {}
        },
        {
          "output_type": "display_data",
          "data": {
            "text/html": [
              "'Please pass in an integer'"
            ],
            "text/markdown": "'Please pass in an integer'",
            "text/latex": "'Please pass in an integer'",
            "text/plain": [
              "[1] \"Please pass in an integer\""
            ]
          },
          "metadata": {}
        }
      ]
    },
    {
      "cell_type": "code",
      "source": [
        "# create a function in R that:\n",
        "#   1. takes 4 integer input parameters\n",
        "#   2. returns the mean value of the inputs\n",
        "#   3. has default values for the 4 input parameters, in case they are not provided when the function is called.\n",
        "\n",
        "mean_value <- function(a=1,b=2,c=3,d=4) {\n",
        "  values <- c(a,b,c,d)\n",
        "  return(mean(values))\n",
        "}"
      ],
      "metadata": {
        "id": "f3IFD-T6p6Rd"
      },
      "execution_count": 4,
      "outputs": []
    },
    {
      "cell_type": "code",
      "source": [
        "# then execute the function twice: once where you provide the input values, and once where you do not.\n",
        "\n",
        "mean_value(2,3,4,5)\n",
        "mean_value()"
      ],
      "metadata": {
        "id": "dqLFI7x_Hu0s",
        "outputId": "cfa8198b-7f55-4aa4-a2ae-117ad31c36de",
        "colab": {
          "base_uri": "https://localhost:8080/",
          "height": 52
        }
      },
      "execution_count": 5,
      "outputs": [
        {
          "output_type": "display_data",
          "data": {
            "text/html": [
              "3.5"
            ],
            "text/markdown": "3.5",
            "text/latex": "3.5",
            "text/plain": [
              "[1] 3.5"
            ]
          },
          "metadata": {}
        },
        {
          "output_type": "display_data",
          "data": {
            "text/html": [
              "2.5"
            ],
            "text/markdown": "2.5",
            "text/latex": "2.5",
            "text/plain": [
              "[1] 2.5"
            ]
          },
          "metadata": {}
        }
      ]
    },
    {
      "cell_type": "markdown",
      "source": [
        "## 2. Plot Data (4 pts)"
      ],
      "metadata": {
        "id": "F6Rx0GIGrpOB"
      }
    },
    {
      "cell_type": "markdown",
      "source": [
        "In the cell below, write the code required to plot from the `msleep` sample data set.\n",
        "\n",
        "1. Display only animals with body weights of 30 or greater.\n",
        "2. Group the animals by `order`.\n",
        "3. Display the mean `sleep_total` for each group in a bar plot."
      ],
      "metadata": {
        "id": "IDLyOjOJsFCX"
      }
    },
    {
      "cell_type": "code",
      "source": [
        "library(tidyverse)\n",
        "library(ggplot2)\n",
        "install.packages(\"gapminder\")\n",
        "library(gapminder)"
      ],
      "metadata": {
        "id": "LhPW_ZHwMiGE"
      },
      "execution_count": null,
      "outputs": []
    },
    {
      "cell_type": "code",
      "source": [
        "# read in sample data set\n",
        "head(msleep)"
      ],
      "metadata": {
        "id": "0D5Ia-BPsoPZ",
        "outputId": "295e1f87-1c2e-4e87-f3f5-599b5a96bee9",
        "colab": {
          "base_uri": "https://localhost:8080/",
          "height": 286
        }
      },
      "execution_count": 7,
      "outputs": [
        {
          "output_type": "display_data",
          "data": {
            "text/html": [
              "<table class=\"dataframe\">\n",
              "<caption>A tibble: 6 × 11</caption>\n",
              "<thead>\n",
              "\t<tr><th scope=col>name</th><th scope=col>genus</th><th scope=col>vore</th><th scope=col>order</th><th scope=col>conservation</th><th scope=col>sleep_total</th><th scope=col>sleep_rem</th><th scope=col>sleep_cycle</th><th scope=col>awake</th><th scope=col>brainwt</th><th scope=col>bodywt</th></tr>\n",
              "\t<tr><th scope=col>&lt;chr&gt;</th><th scope=col>&lt;chr&gt;</th><th scope=col>&lt;chr&gt;</th><th scope=col>&lt;chr&gt;</th><th scope=col>&lt;chr&gt;</th><th scope=col>&lt;dbl&gt;</th><th scope=col>&lt;dbl&gt;</th><th scope=col>&lt;dbl&gt;</th><th scope=col>&lt;dbl&gt;</th><th scope=col>&lt;dbl&gt;</th><th scope=col>&lt;dbl&gt;</th></tr>\n",
              "</thead>\n",
              "<tbody>\n",
              "\t<tr><td>Cheetah                   </td><td>Acinonyx  </td><td>carni</td><td>Carnivora   </td><td>lc          </td><td>12.1</td><td> NA</td><td>       NA</td><td>11.9</td><td>     NA</td><td> 50.000</td></tr>\n",
              "\t<tr><td>Owl monkey                </td><td>Aotus     </td><td>omni </td><td>Primates    </td><td>NA          </td><td>17.0</td><td>1.8</td><td>       NA</td><td> 7.0</td><td>0.01550</td><td>  0.480</td></tr>\n",
              "\t<tr><td>Mountain beaver           </td><td>Aplodontia</td><td>herbi</td><td>Rodentia    </td><td>nt          </td><td>14.4</td><td>2.4</td><td>       NA</td><td> 9.6</td><td>     NA</td><td>  1.350</td></tr>\n",
              "\t<tr><td>Greater short-tailed shrew</td><td>Blarina   </td><td>omni </td><td>Soricomorpha</td><td>lc          </td><td>14.9</td><td>2.3</td><td>0.1333333</td><td> 9.1</td><td>0.00029</td><td>  0.019</td></tr>\n",
              "\t<tr><td>Cow                       </td><td>Bos       </td><td>herbi</td><td>Artiodactyla</td><td>domesticated</td><td> 4.0</td><td>0.7</td><td>0.6666667</td><td>20.0</td><td>0.42300</td><td>600.000</td></tr>\n",
              "\t<tr><td>Three-toed sloth          </td><td>Bradypus  </td><td>herbi</td><td>Pilosa      </td><td>NA          </td><td>14.4</td><td>2.2</td><td>0.7666667</td><td> 9.6</td><td>     NA</td><td>  3.850</td></tr>\n",
              "</tbody>\n",
              "</table>\n"
            ],
            "text/markdown": "\nA tibble: 6 × 11\n\n| name &lt;chr&gt; | genus &lt;chr&gt; | vore &lt;chr&gt; | order &lt;chr&gt; | conservation &lt;chr&gt; | sleep_total &lt;dbl&gt; | sleep_rem &lt;dbl&gt; | sleep_cycle &lt;dbl&gt; | awake &lt;dbl&gt; | brainwt &lt;dbl&gt; | bodywt &lt;dbl&gt; |\n|---|---|---|---|---|---|---|---|---|---|---|\n| Cheetah                    | Acinonyx   | carni | Carnivora    | lc           | 12.1 |  NA |        NA | 11.9 |      NA |  50.000 |\n| Owl monkey                 | Aotus      | omni  | Primates     | NA           | 17.0 | 1.8 |        NA |  7.0 | 0.01550 |   0.480 |\n| Mountain beaver            | Aplodontia | herbi | Rodentia     | nt           | 14.4 | 2.4 |        NA |  9.6 |      NA |   1.350 |\n| Greater short-tailed shrew | Blarina    | omni  | Soricomorpha | lc           | 14.9 | 2.3 | 0.1333333 |  9.1 | 0.00029 |   0.019 |\n| Cow                        | Bos        | herbi | Artiodactyla | domesticated |  4.0 | 0.7 | 0.6666667 | 20.0 | 0.42300 | 600.000 |\n| Three-toed sloth           | Bradypus   | herbi | Pilosa       | NA           | 14.4 | 2.2 | 0.7666667 |  9.6 |      NA |   3.850 |\n\n",
            "text/latex": "A tibble: 6 × 11\n\\begin{tabular}{lllllllllll}\n name & genus & vore & order & conservation & sleep\\_total & sleep\\_rem & sleep\\_cycle & awake & brainwt & bodywt\\\\\n <chr> & <chr> & <chr> & <chr> & <chr> & <dbl> & <dbl> & <dbl> & <dbl> & <dbl> & <dbl>\\\\\n\\hline\n\t Cheetah                    & Acinonyx   & carni & Carnivora    & lc           & 12.1 &  NA &        NA & 11.9 &      NA &  50.000\\\\\n\t Owl monkey                 & Aotus      & omni  & Primates     & NA           & 17.0 & 1.8 &        NA &  7.0 & 0.01550 &   0.480\\\\\n\t Mountain beaver            & Aplodontia & herbi & Rodentia     & nt           & 14.4 & 2.4 &        NA &  9.6 &      NA &   1.350\\\\\n\t Greater short-tailed shrew & Blarina    & omni  & Soricomorpha & lc           & 14.9 & 2.3 & 0.1333333 &  9.1 & 0.00029 &   0.019\\\\\n\t Cow                        & Bos        & herbi & Artiodactyla & domesticated &  4.0 & 0.7 & 0.6666667 & 20.0 & 0.42300 & 600.000\\\\\n\t Three-toed sloth           & Bradypus   & herbi & Pilosa       & NA           & 14.4 & 2.2 & 0.7666667 &  9.6 &      NA &   3.850\\\\\n\\end{tabular}\n",
            "text/plain": [
              "  name                       genus      vore  order        conservation\n",
              "1 Cheetah                    Acinonyx   carni Carnivora    lc          \n",
              "2 Owl monkey                 Aotus      omni  Primates     NA          \n",
              "3 Mountain beaver            Aplodontia herbi Rodentia     nt          \n",
              "4 Greater short-tailed shrew Blarina    omni  Soricomorpha lc          \n",
              "5 Cow                        Bos        herbi Artiodactyla domesticated\n",
              "6 Three-toed sloth           Bradypus   herbi Pilosa       NA          \n",
              "  sleep_total sleep_rem sleep_cycle awake brainwt bodywt \n",
              "1 12.1         NA              NA   11.9       NA  50.000\n",
              "2 17.0        1.8              NA    7.0  0.01550   0.480\n",
              "3 14.4        2.4              NA    9.6       NA   1.350\n",
              "4 14.9        2.3       0.1333333    9.1  0.00029   0.019\n",
              "5  4.0        0.7       0.6666667   20.0  0.42300 600.000\n",
              "6 14.4        2.2       0.7666667    9.6       NA   3.850"
            ]
          },
          "metadata": {}
        }
      ]
    },
    {
      "cell_type": "code",
      "source": [
        "str(msleep)"
      ],
      "metadata": {
        "id": "rVl0c6Bhl6_X",
        "outputId": "37be79ac-b8d9-4cd2-f868-0a93db04ce6e",
        "colab": {
          "base_uri": "https://localhost:8080/"
        }
      },
      "execution_count": 8,
      "outputs": [
        {
          "output_type": "stream",
          "name": "stdout",
          "text": [
            "tibble [83 × 11] (S3: tbl_df/tbl/data.frame)\n",
            " $ name        : chr [1:83] \"Cheetah\" \"Owl monkey\" \"Mountain beaver\" \"Greater short-tailed shrew\" ...\n",
            " $ genus       : chr [1:83] \"Acinonyx\" \"Aotus\" \"Aplodontia\" \"Blarina\" ...\n",
            " $ vore        : chr [1:83] \"carni\" \"omni\" \"herbi\" \"omni\" ...\n",
            " $ order       : chr [1:83] \"Carnivora\" \"Primates\" \"Rodentia\" \"Soricomorpha\" ...\n",
            " $ conservation: chr [1:83] \"lc\" NA \"nt\" \"lc\" ...\n",
            " $ sleep_total : num [1:83] 12.1 17 14.4 14.9 4 14.4 8.7 7 10.1 3 ...\n",
            " $ sleep_rem   : num [1:83] NA 1.8 2.4 2.3 0.7 2.2 1.4 NA 2.9 NA ...\n",
            " $ sleep_cycle : num [1:83] NA NA NA 0.133 0.667 ...\n",
            " $ awake       : num [1:83] 11.9 7 9.6 9.1 20 9.6 15.3 17 13.9 21 ...\n",
            " $ brainwt     : num [1:83] NA 0.0155 NA 0.00029 0.423 NA NA NA 0.07 0.0982 ...\n",
            " $ bodywt      : num [1:83] 50 0.48 1.35 0.019 600 ...\n"
          ]
        }
      ]
    },
    {
      "cell_type": "code",
      "source": [
        "# display only animals with body weights of 30 or greater\n",
        "# group the animals by order\n",
        "df2 <- msleep %>%\n",
        "  filter(bodywt >= 30) %>%\n",
        "  group_by(order) %>%\n",
        "  summarise(Mean_sleep_total = mean(sleep_total))\n",
        "\n",
        "df2"
      ],
      "metadata": {
        "id": "xps6dGF7NETw",
        "outputId": "f6e54f70-b70a-4fdb-d393-af351fb386fd",
        "colab": {
          "base_uri": "https://localhost:8080/",
          "height": 317
        }
      },
      "execution_count": 9,
      "outputs": [
        {
          "output_type": "display_data",
          "data": {
            "text/html": [
              "<table class=\"dataframe\">\n",
              "<caption>A tibble: 7 × 2</caption>\n",
              "<thead>\n",
              "\t<tr><th scope=col>order</th><th scope=col>Mean_sleep_total</th></tr>\n",
              "\t<tr><th scope=col>&lt;chr&gt;</th><th scope=col>&lt;dbl&gt;</th></tr>\n",
              "</thead>\n",
              "<tbody>\n",
              "\t<tr><td>Artiodactyla  </td><td> 4.820000</td></tr>\n",
              "\t<tr><td>Carnivora     </td><td>10.250000</td></tr>\n",
              "\t<tr><td>Cetacea       </td><td> 4.500000</td></tr>\n",
              "\t<tr><td>Cingulata     </td><td>18.100000</td></tr>\n",
              "\t<tr><td>Perissodactyla</td><td> 3.466667</td></tr>\n",
              "\t<tr><td>Primates      </td><td> 8.850000</td></tr>\n",
              "\t<tr><td>Proboscidea   </td><td> 3.600000</td></tr>\n",
              "</tbody>\n",
              "</table>\n"
            ],
            "text/markdown": "\nA tibble: 7 × 2\n\n| order &lt;chr&gt; | Mean_sleep_total &lt;dbl&gt; |\n|---|---|\n| Artiodactyla   |  4.820000 |\n| Carnivora      | 10.250000 |\n| Cetacea        |  4.500000 |\n| Cingulata      | 18.100000 |\n| Perissodactyla |  3.466667 |\n| Primates       |  8.850000 |\n| Proboscidea    |  3.600000 |\n\n",
            "text/latex": "A tibble: 7 × 2\n\\begin{tabular}{ll}\n order & Mean\\_sleep\\_total\\\\\n <chr> & <dbl>\\\\\n\\hline\n\t Artiodactyla   &  4.820000\\\\\n\t Carnivora      & 10.250000\\\\\n\t Cetacea        &  4.500000\\\\\n\t Cingulata      & 18.100000\\\\\n\t Perissodactyla &  3.466667\\\\\n\t Primates       &  8.850000\\\\\n\t Proboscidea    &  3.600000\\\\\n\\end{tabular}\n",
            "text/plain": [
              "  order          Mean_sleep_total\n",
              "1 Artiodactyla    4.820000       \n",
              "2 Carnivora      10.250000       \n",
              "3 Cetacea         4.500000       \n",
              "4 Cingulata      18.100000       \n",
              "5 Perissodactyla  3.466667       \n",
              "6 Primates        8.850000       \n",
              "7 Proboscidea     3.600000       "
            ]
          },
          "metadata": {}
        }
      ]
    },
    {
      "cell_type": "code",
      "source": [
        "# display the mean sleep_total for each group in a bar plot\n",
        "ggplot(df2, aes(x=order, y=Mean_sleep_total)) +\n",
        "  geom_bar(stat=\"identity\") +\n",
        "  geom_text(aes(y=Mean_sleep_total, label=Mean_sleep_total),\n",
        "    vjust=1.5, position=position_dodge(.9), colour=\"white\") +\n",
        "  ggtitle(\"Mean sleep total grouped by Order, for animals with weight >= 30\")"
      ],
      "metadata": {
        "id": "2epl5jA9lq8z",
        "outputId": "033e7a95-9127-4bce-e943-42212c78702d",
        "colab": {
          "base_uri": "https://localhost:8080/",
          "height": 437
        }
      },
      "execution_count": 10,
      "outputs": [
        {
          "output_type": "display_data",
          "data": {
            "text/plain": [
              "plot without title"
            ],
            "image/png": "[encoded data removed]"
          },
          "metadata": {
            "image/png": {
              "width": 420,
              "height": 420
            }
          }
        }
      ]
    },
    {
      "cell_type": "markdown",
      "source": [
        "## 3. Clean and Analyze Data Using R (4 pts)\n",
        "\n",
        "In the cells below use R to perform the following data cleaning steps on this file:\n",
        "https://raw.githubusercontent.com/nmagee/ds1002/main/data/social-media-users.csv\n",
        "\n",
        "1. Remove any duplicate rows.\n",
        "2. Remove any records where `last_login` or `birthdate` are empty.\n",
        "3. Display only the records with the 10 highest `follower` counts.\n",
        "4. Determine counts of users when grouped by continent."
      ],
      "metadata": {
        "id": "-2ZaFcCCv3o8"
      }
    },
    {
      "cell_type": "code",
      "source": [
        "# read csv file\n",
        "\n",
        "df <- read.csv(\"https://raw.githubusercontent.com/nmagee/ds1002/main/data/social-media-users.csv\")"
      ],
      "metadata": {
        "id": "V4nBsdVsyauQ"
      },
      "execution_count": 11,
      "outputs": []
    },
    {
      "cell_type": "code",
      "source": [
        "# get basic information about df\n",
        "\n",
        "str(df)"
      ],
      "metadata": {
        "id": "LwXD1sNulIT3",
        "outputId": "db713380-6b6e-4907-f7ba-f2ec4ce7cde7",
        "colab": {
          "base_uri": "https://localhost:8080/"
        }
      },
      "execution_count": 12,
      "outputs": [
        {
          "output_type": "stream",
          "name": "stdout",
          "text": [
            "'data.frame':\t1318 obs. of  8 variables:\n",
            " $ username  : chr  \"ckippen0\" \"tgergler1\" \"spomfrett2\" \"rphettis3\" ...\n",
            " $ full_name : chr  \"Clevey Kippen\" \"Tedi Gergler\" \"Steffie Pomfrett\" \"Ruddy Phettis\" ...\n",
            " $ birthdate : chr  \"5/1/1991\" \"10/5/1998\" \"\" \"6/18/1984\" ...\n",
            " $ email     : chr  \"ckippen0@t-online.de\" \"tgergler1@salon.com\" \"spomfrett2@imdb.com\" \"rphettis3@npr.org\" ...\n",
            " $ continent : chr  NA NA NA \"EU\" ...\n",
            " $ followers : int  12362 21360 19530 80047 33544 72161 42669 22516 93923 18554 ...\n",
            " $ last_login: chr  \"5/16/2023\" \"8/20/2020\" \"11/19/2022\" \"9/20/2023\" ...\n",
            " $ interests : chr  \"music\" \"sports\" \"sports\" \"travel\" ...\n"
          ]
        }
      ]
    },
    {
      "cell_type": "code",
      "source": [
        "# display number of duplicate rows\n",
        "\n",
        "nrow(df[duplicated(df), ])"
      ],
      "metadata": {
        "id": "7qa100btlI4Z",
        "outputId": "ccb359be-2e6e-4e37-ed23-9bd78c188079",
        "colab": {
          "base_uri": "https://localhost:8080/",
          "height": 34
        }
      },
      "execution_count": 13,
      "outputs": [
        {
          "output_type": "display_data",
          "data": {
            "text/html": [
              "318"
            ],
            "text/markdown": "318",
            "text/latex": "318",
            "text/plain": [
              "[1] 318"
            ]
          },
          "metadata": {}
        }
      ]
    },
    {
      "cell_type": "code",
      "source": [
        "# remove duplicate rows\n",
        "\n",
        "df2 <- df[!duplicated(df), ]"
      ],
      "metadata": {
        "id": "GmSSgSyxPIO9"
      },
      "execution_count": 14,
      "outputs": []
    },
    {
      "cell_type": "code",
      "source": [
        "# get basic information about df2 to make sure duplicates have been removed\n",
        "\n",
        "str(df2)"
      ],
      "metadata": {
        "id": "MjrZisnxlJUa",
        "outputId": "805aa1e6-8b7c-4530-f799-7970e7b81c1d",
        "colab": {
          "base_uri": "https://localhost:8080/"
        }
      },
      "execution_count": 15,
      "outputs": [
        {
          "output_type": "stream",
          "name": "stdout",
          "text": [
            "'data.frame':\t1000 obs. of  8 variables:\n",
            " $ username  : chr  \"ckippen0\" \"tgergler1\" \"spomfrett2\" \"rphettis3\" ...\n",
            " $ full_name : chr  \"Clevey Kippen\" \"Tedi Gergler\" \"Steffie Pomfrett\" \"Ruddy Phettis\" ...\n",
            " $ birthdate : chr  \"5/1/1991\" \"10/5/1998\" \"\" \"6/18/1984\" ...\n",
            " $ email     : chr  \"ckippen0@t-online.de\" \"tgergler1@salon.com\" \"spomfrett2@imdb.com\" \"rphettis3@npr.org\" ...\n",
            " $ continent : chr  NA NA NA \"EU\" ...\n",
            " $ followers : int  12362 21360 19530 80047 33544 72161 42669 22516 93923 18554 ...\n",
            " $ last_login: chr  \"5/16/2023\" \"8/20/2020\" \"11/19/2022\" \"9/20/2023\" ...\n",
            " $ interests : chr  \"music\" \"sports\" \"sports\" \"travel\" ...\n"
          ]
        }
      ]
    },
    {
      "cell_type": "code",
      "source": [
        "# remove any records where last_login or birthdate are empty\n",
        "\n",
        "df2[df2==\"\"] <- NA\n",
        "df2_no_empty <- df2[complete.cases(df2$last_login, df2$birthdate), ]\n",
        "\n",
        "str(df2_no_empty)"
      ],
      "metadata": {
        "id": "hGI9bJ5iPiD1",
        "outputId": "177f726c-e8f2-424d-ab85-e98d3e3fd9dd",
        "colab": {
          "base_uri": "https://localhost:8080/"
        }
      },
      "execution_count": 16,
      "outputs": [
        {
          "output_type": "stream",
          "name": "stdout",
          "text": [
            "'data.frame':\t650 obs. of  8 variables:\n",
            " $ username  : chr  \"ckippen0\" \"tgergler1\" \"rphettis3\" \"ttotman6\" ...\n",
            " $ full_name : chr  \"Clevey Kippen\" \"Tedi Gergler\" \"Ruddy Phettis\" \"Tamqrah Totman\" ...\n",
            " $ birthdate : chr  \"5/1/1991\" \"10/5/1998\" \"6/18/1984\" \"8/7/1986\" ...\n",
            " $ email     : chr  \"ckippen0@t-online.de\" \"tgergler1@salon.com\" \"rphettis3@npr.org\" \"ttotman6@elpais.com\" ...\n",
            " $ continent : chr  NA NA \"EU\" \"AF\" ...\n",
            " $ followers : int  12362 21360 80047 42669 93923 46304 16786 85070 93981 31745 ...\n",
            " $ last_login: chr  \"5/16/2023\" \"8/20/2020\" \"9/20/2023\" \"3/10/2023\" ...\n",
            " $ interests : chr  \"music\" \"sports\" \"travel\" \"music\" ...\n"
          ]
        }
      ]
    },
    {
      "cell_type": "code",
      "source": [
        "# display only the records with the 10 highest follower counts\n",
        "\n",
        "df3_arranged_followers <- df2_no_empty %>%\n",
        "  arrange(desc(followers))\n",
        "\n",
        "df3_arranged_followers[(1:10),]"
      ],
      "metadata": {
        "id": "k-ESV04wRB-a",
        "outputId": "905dfaf3-34cf-4d8b-91b6-168412ad4b8c",
        "colab": {
          "base_uri": "https://localhost:8080/",
          "height": 411
        }
      },
      "execution_count": 17,
      "outputs": [
        {
          "output_type": "display_data",
          "data": {
            "text/html": [
              "<table class=\"dataframe\">\n",
              "<caption>A data.frame: 10 × 8</caption>\n",
              "<thead>\n",
              "\t<tr><th></th><th scope=col>username</th><th scope=col>full_name</th><th scope=col>birthdate</th><th scope=col>email</th><th scope=col>continent</th><th scope=col>followers</th><th scope=col>last_login</th><th scope=col>interests</th></tr>\n",
              "\t<tr><th></th><th scope=col>&lt;chr&gt;</th><th scope=col>&lt;chr&gt;</th><th scope=col>&lt;chr&gt;</th><th scope=col>&lt;chr&gt;</th><th scope=col>&lt;chr&gt;</th><th scope=col>&lt;int&gt;</th><th scope=col>&lt;chr&gt;</th><th scope=col>&lt;chr&gt;</th></tr>\n",
              "</thead>\n",
              "<tbody>\n",
              "\t<tr><th scope=row>1</th><td>lleckeyb6    </td><td>Lynne Leckey        </td><td>4/19/1998 </td><td>lleckeyb6@tripadvisor.com</td><td>SA</td><td>99977</td><td>3/14/2021 </td><td>sports</td></tr>\n",
              "\t<tr><th scope=row>2</th><td>spharoaha2   </td><td>Staci Pharoah       </td><td>9/2/1985  </td><td>spharoaha2@sfgate.com    </td><td>NA</td><td>99905</td><td>10/26/2023</td><td>sports</td></tr>\n",
              "\t<tr><th scope=row>3</th><td>cduftondy    </td><td>Celisse Dufton      </td><td>8/24/1995 </td><td>cduftondy@ox.ac.uk       </td><td>OC</td><td>99707</td><td>9/26/2021 </td><td>sports</td></tr>\n",
              "\t<tr><th scope=row>4</th><td>dbartalin77  </td><td>Desiree Bartalin    </td><td>8/23/1993 </td><td>dbartalin77@usda.gov     </td><td>AF</td><td>99618</td><td>5/30/2022 </td><td>music </td></tr>\n",
              "\t<tr><th scope=row>5</th><td>grivardmp    </td><td>Gwen Rivard         </td><td>9/12/1982 </td><td>grivardmp@google.com.hk  </td><td>OC</td><td>99526</td><td>4/4/2020  </td><td>music </td></tr>\n",
              "\t<tr><th scope=row>6</th><td>mraggitt9g   </td><td>Morgan Raggitt      </td><td>11/16/1992</td><td>mraggitt9g@home.pl       </td><td>NA</td><td>99508</td><td>11/12/2021</td><td>music </td></tr>\n",
              "\t<tr><th scope=row>7</th><td>wbenese7     </td><td>Wain Benes          </td><td>3/9/1998  </td><td>wbenese7@ebay.com        </td><td>NA</td><td>99400</td><td>10/1/2021 </td><td>travel</td></tr>\n",
              "\t<tr><th scope=row>8</th><td>kmorriceht   </td><td>Kitti Morrice       </td><td>6/3/1995  </td><td>kmorriceht@privacy.gov.au</td><td>SA</td><td>98936</td><td>3/24/2021 </td><td>sports</td></tr>\n",
              "\t<tr><th scope=row>9</th><td>smacdonnell7o</td><td>Shoshanna MacDonnell</td><td>9/12/2002 </td><td>smacdonnell7o@toplist.cz </td><td>AS</td><td>98760</td><td>7/20/2021 </td><td>music </td></tr>\n",
              "\t<tr><th scope=row>10</th><td>dcossum34    </td><td>Dwain Cossum        </td><td>9/9/1990  </td><td>dcossum34@dagondesign.com</td><td>NA</td><td>98743</td><td>6/7/2021  </td><td>sports</td></tr>\n",
              "</tbody>\n",
              "</table>\n"
            ],
            "text/markdown": "\nA data.frame: 10 × 8\n\n| <!--/--> | username &lt;chr&gt; | full_name &lt;chr&gt; | birthdate &lt;chr&gt; | email &lt;chr&gt; | continent &lt;chr&gt; | followers &lt;int&gt; | last_login &lt;chr&gt; | interests &lt;chr&gt; |\n|---|---|---|---|---|---|---|---|---|\n| 1 | lleckeyb6     | Lynne Leckey         | 4/19/1998  | lleckeyb6@tripadvisor.com | SA | 99977 | 3/14/2021  | sports |\n| 2 | spharoaha2    | Staci Pharoah        | 9/2/1985   | spharoaha2@sfgate.com     | NA | 99905 | 10/26/2023 | sports |\n| 3 | cduftondy     | Celisse Dufton       | 8/24/1995  | cduftondy@ox.ac.uk        | OC | 99707 | 9/26/2021  | sports |\n| 4 | dbartalin77   | Desiree Bartalin     | 8/23/1993  | dbartalin77@usda.gov      | AF | 99618 | 5/30/2022  | music  |\n| 5 | grivardmp     | Gwen Rivard          | 9/12/1982  | grivardmp@google.com.hk   | OC | 99526 | 4/4/2020   | music  |\n| 6 | mraggitt9g    | Morgan Raggitt       | 11/16/1992 | mraggitt9g@home.pl        | NA | 99508 | 11/12/2021 | music  |\n| 7 | wbenese7      | Wain Benes           | 3/9/1998   | wbenese7@ebay.com         | NA | 99400 | 10/1/2021  | travel |\n| 8 | kmorriceht    | Kitti Morrice        | 6/3/1995   | kmorriceht@privacy.gov.au | SA | 98936 | 3/24/2021  | sports |\n| 9 | smacdonnell7o | Shoshanna MacDonnell | 9/12/2002  | smacdonnell7o@toplist.cz  | AS | 98760 | 7/20/2021  | music  |\n| 10 | dcossum34     | Dwain Cossum         | 9/9/1990   | dcossum34@dagondesign.com | NA | 98743 | 6/7/2021   | sports |\n\n",
            "text/latex": "A data.frame: 10 × 8\n\\begin{tabular}{r|llllllll}\n  & username & full\\_name & birthdate & email & continent & followers & last\\_login & interests\\\\\n  & <chr> & <chr> & <chr> & <chr> & <chr> & <int> & <chr> & <chr>\\\\\n\\hline\n\t1 & lleckeyb6     & Lynne Leckey         & 4/19/1998  & lleckeyb6@tripadvisor.com & SA & 99977 & 3/14/2021  & sports\\\\\n\t2 & spharoaha2    & Staci Pharoah        & 9/2/1985   & spharoaha2@sfgate.com     & NA & 99905 & 10/26/2023 & sports\\\\\n\t3 & cduftondy     & Celisse Dufton       & 8/24/1995  & cduftondy@ox.ac.uk        & OC & 99707 & 9/26/2021  & sports\\\\\n\t4 & dbartalin77   & Desiree Bartalin     & 8/23/1993  & dbartalin77@usda.gov      & AF & 99618 & 5/30/2022  & music \\\\\n\t5 & grivardmp     & Gwen Rivard          & 9/12/1982  & grivardmp@google.com.hk   & OC & 99526 & 4/4/2020   & music \\\\\n\t6 & mraggitt9g    & Morgan Raggitt       & 11/16/1992 & mraggitt9g@home.pl        & NA & 99508 & 11/12/2021 & music \\\\\n\t7 & wbenese7      & Wain Benes           & 3/9/1998   & wbenese7@ebay.com         & NA & 99400 & 10/1/2021  & travel\\\\\n\t8 & kmorriceht    & Kitti Morrice        & 6/3/1995   & kmorriceht@privacy.gov.au & SA & 98936 & 3/24/2021  & sports\\\\\n\t9 & smacdonnell7o & Shoshanna MacDonnell & 9/12/2002  & smacdonnell7o@toplist.cz  & AS & 98760 & 7/20/2021  & music \\\\\n\t10 & dcossum34     & Dwain Cossum         & 9/9/1990   & dcossum34@dagondesign.com & NA & 98743 & 6/7/2021   & sports\\\\\n\\end{tabular}\n",
            "text/plain": [
              "   username      full_name            birthdate  email                    \n",
              "1  lleckeyb6     Lynne Leckey         4/19/1998  lleckeyb6@tripadvisor.com\n",
              "2  spharoaha2    Staci Pharoah        9/2/1985   spharoaha2@sfgate.com    \n",
              "3  cduftondy     Celisse Dufton       8/24/1995  cduftondy@ox.ac.uk       \n",
              "4  dbartalin77   Desiree Bartalin     8/23/1993  dbartalin77@usda.gov     \n",
              "5  grivardmp     Gwen Rivard          9/12/1982  grivardmp@google.com.hk  \n",
              "6  mraggitt9g    Morgan Raggitt       11/16/1992 mraggitt9g@home.pl       \n",
              "7  wbenese7      Wain Benes           3/9/1998   wbenese7@ebay.com        \n",
              "8  kmorriceht    Kitti Morrice        6/3/1995   kmorriceht@privacy.gov.au\n",
              "9  smacdonnell7o Shoshanna MacDonnell 9/12/2002  smacdonnell7o@toplist.cz \n",
              "10 dcossum34     Dwain Cossum         9/9/1990   dcossum34@dagondesign.com\n",
              "   continent followers last_login interests\n",
              "1  SA        99977     3/14/2021  sports   \n",
              "2  NA        99905     10/26/2023 sports   \n",
              "3  OC        99707     9/26/2021  sports   \n",
              "4  AF        99618     5/30/2022  music    \n",
              "5  OC        99526     4/4/2020   music    \n",
              "6  NA        99508     11/12/2021 music    \n",
              "7  NA        99400     10/1/2021  travel   \n",
              "8  SA        98936     3/24/2021  sports   \n",
              "9  AS        98760     7/20/2021  music    \n",
              "10 NA        98743     6/7/2021   sports   "
            ]
          },
          "metadata": {}
        }
      ]
    },
    {
      "cell_type": "code",
      "source": [
        "# determine counts of users when grouped by continent\n",
        "\n",
        "df4_grouped <- df2_no_empty %>%\n",
        "  group_by(continent) %>%\n",
        "  summarise(User_count = n())\n",
        "\n",
        "df4_grouped"
      ],
      "metadata": {
        "id": "O1BvJTN1RQLZ",
        "outputId": "7234bc4f-af71-44a0-a2df-962e6b28e4a8",
        "colab": {
          "base_uri": "https://localhost:8080/",
          "height": 286
        }
      },
      "execution_count": 18,
      "outputs": [
        {
          "output_type": "display_data",
          "data": {
            "text/html": [
              "<table class=\"dataframe\">\n",
              "<caption>A tibble: 6 × 2</caption>\n",
              "<thead>\n",
              "\t<tr><th scope=col>continent</th><th scope=col>User_count</th></tr>\n",
              "\t<tr><th scope=col>&lt;chr&gt;</th><th scope=col>&lt;int&gt;</th></tr>\n",
              "</thead>\n",
              "<tbody>\n",
              "\t<tr><td>AF</td><td> 70</td></tr>\n",
              "\t<tr><td>AS</td><td>111</td></tr>\n",
              "\t<tr><td>EU</td><td> 77</td></tr>\n",
              "\t<tr><td>OC</td><td> 95</td></tr>\n",
              "\t<tr><td>SA</td><td> 69</td></tr>\n",
              "\t<tr><td>NA</td><td>228</td></tr>\n",
              "</tbody>\n",
              "</table>\n"
            ],
            "text/markdown": "\nA tibble: 6 × 2\n\n| continent &lt;chr&gt; | User_count &lt;int&gt; |\n|---|---|\n| AF |  70 |\n| AS | 111 |\n| EU |  77 |\n| OC |  95 |\n| SA |  69 |\n| NA | 228 |\n\n",
            "text/latex": "A tibble: 6 × 2\n\\begin{tabular}{ll}\n continent & User\\_count\\\\\n <chr> & <int>\\\\\n\\hline\n\t AF &  70\\\\\n\t AS & 111\\\\\n\t EU &  77\\\\\n\t OC &  95\\\\\n\t SA &  69\\\\\n\t NA & 228\\\\\n\\end{tabular}\n",
            "text/plain": [
              "  continent User_count\n",
              "1 AF         70       \n",
              "2 AS        111       \n",
              "3 EU         77       \n",
              "4 OC         95       \n",
              "5 SA         69       \n",
              "6 NA        228       "
            ]
          },
          "metadata": {}
        }
      ]
    },
    {
      "cell_type": "code",
      "source": [
        "# display counts of users in a bar plot\n",
        "ggplot(df4_grouped, aes(x=continent, y=User_count)) +\n",
        "  geom_bar(stat=\"identity\") +\n",
        "  geom_text(aes(y=User_count, label=User_count),\n",
        "    vjust=1.5, position=position_dodge(.9), colour=\"white\") +\n",
        "  ggtitle(\"User count for different continents\")"
      ],
      "metadata": {
        "id": "jPTE3HDolqTB",
        "outputId": "4ec94dba-8cb8-4f3c-955e-3048b342c308",
        "colab": {
          "base_uri": "https://localhost:8080/",
          "height": 437
        }
      },
      "execution_count": 19,
      "outputs": [
        {
          "output_type": "display_data",
          "data": {
            "text/plain": [
              "plot without title"
            ],
            "image/png": "[encoded data removed]"
          },
          "metadata": {
            "image/png": {
              "width": 420,
              "height": 420
            }
          }
        }
      ]
    }
  ]
}