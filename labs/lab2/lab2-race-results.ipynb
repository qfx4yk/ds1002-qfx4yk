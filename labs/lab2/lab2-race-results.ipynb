{
  "nbformat": 4,
  "nbformat_minor": 0,
  "metadata": {
    "colab": {
      "provenance": [],
      "include_colab_link": true
    },
    "kernelspec": {
      "name": "ir",
      "display_name": "R"
    },
    "language_info": {
      "name": "R"
    }
  },
  "cells": [
    {
      "cell_type": "markdown",
      "metadata": {
        "id": "view-in-github",
        "colab_type": "text"
      },
      "source": [
        "<a href=\"https://colab.research.google.com/github/qfx4yk/ds1002-qfx4yk/blob/main/labs/lab2/lab2-race-results.ipynb\" target=\"_parent\"><img src=\"https://colab.research.google.com/assets/colab-badge.svg\" alt=\"Open In Colab\"/></a>"
      ]
    },
    {
      "cell_type": "markdown",
      "source": [
        "# DS1002 Lab 2: Determine Race Results with R\n",
        "\n",
        "In this lab you will work with a dataset, writing R to generate the deliverables specified in the cells below.\n",
        "\n",
        "The dataset for this lab is made up of fictitious results from a road race. Runner information and results is provided in the data.\n",
        "\n",
        "Answer the questions below with the appropriate R code. Point assignments are indicated for each section. There are 10 total points possible for this lab.\n",
        "\n",
        "Useful reference material (check all R modules within the Canvas site for more help)\n",
        "- [R Reference Material](https://canvas.its.virginia.edu/courses/78571/modules#module_219810).\n",
        "- [Plots Samples](https://colab.research.google.com/github/nmagee/ds1002/blob/main/notebooks/25-plots-in-r.ipynb)"
      ],
      "metadata": {
        "id": "2yEePrJ-1G1Z"
      }
    },
    {
      "cell_type": "markdown",
      "source": [
        "## Group Submissions\n",
        "\n",
        "If you are working in a group to complete this lab, you may have no more than 3 members to a group. Group members should be indicated in the cell below -- list both names and UVA computing IDs.\n",
        "\n",
        "Each student should then submit **the same URL** for the lab in Canvas. (If a group has Member1, Member2, and Member3, only one member needs to save the completed work back to GitHub and all members should submit that URL for grading.)"
      ],
      "metadata": {
        "id": "acXFkytd2PWS"
      }
    },
    {
      "cell_type": "code",
      "source": [
        "# Name: Aparna Gana                    Computing ID: qfx4yk"
      ],
      "metadata": {
        "id": "4N8_o3tG232h"
      },
      "execution_count": null,
      "outputs": []
    },
    {
      "cell_type": "markdown",
      "source": [
        "## 1. Load Libraries & Data (1 pt)\n",
        "\n",
        "https://raw.githubusercontent.com/nmagee/ds1002/main/data/road-race.csv\n",
        "\n",
        "Import any necessary libraries and load the remote CSV file below into a data frame."
      ],
      "metadata": {
        "id": "w0VxTDNf1k2O"
      }
    },
    {
      "cell_type": "code",
      "source": [
        "library(tidyverse)\n",
        "library(ggplot2)\n",
        "install.packages(\"gapminder\")\n",
        "library(gapminder)"
      ],
      "metadata": {
        "id": "FOHnv9Imadhe",
        "outputId": "67549993-6a7a-413c-9cb4-a677f52f2749",
        "colab": {
          "base_uri": "https://localhost:8080/"
        }
      },
      "execution_count": 1,
      "outputs": [
        {
          "output_type": "stream",
          "name": "stderr",
          "text": [
            "── \u001b[1mAttaching core tidyverse packages\u001b[22m ──────────────────────── tidyverse 2.0.0 ──\n",
            "\u001b[32m✔\u001b[39m \u001b[34mdplyr    \u001b[39m 1.1.4     \u001b[32m✔\u001b[39m \u001b[34mreadr    \u001b[39m 2.1.4\n",
            "\u001b[32m✔\u001b[39m \u001b[34mforcats  \u001b[39m 1.0.0     \u001b[32m✔\u001b[39m \u001b[34mstringr  \u001b[39m 1.5.1\n",
            "\u001b[32m✔\u001b[39m \u001b[34mggplot2  \u001b[39m 3.4.4     \u001b[32m✔\u001b[39m \u001b[34mtibble   \u001b[39m 3.2.1\n",
            "\u001b[32m✔\u001b[39m \u001b[34mlubridate\u001b[39m 1.9.3     \u001b[32m✔\u001b[39m \u001b[34mtidyr    \u001b[39m 1.3.0\n",
            "\u001b[32m✔\u001b[39m \u001b[34mpurrr    \u001b[39m 1.0.2     \n",
            "── \u001b[1mConflicts\u001b[22m ────────────────────────────────────────── tidyverse_conflicts() ──\n",
            "\u001b[31m✖\u001b[39m \u001b[34mdplyr\u001b[39m::\u001b[32mfilter()\u001b[39m masks \u001b[34mstats\u001b[39m::filter()\n",
            "\u001b[31m✖\u001b[39m \u001b[34mdplyr\u001b[39m::\u001b[32mlag()\u001b[39m    masks \u001b[34mstats\u001b[39m::lag()\n",
            "\u001b[36mℹ\u001b[39m Use the conflicted package (\u001b[3m\u001b[34m<http://conflicted.r-lib.org/>\u001b[39m\u001b[23m) to force all conflicts to become errors\n",
            "Installing package into ‘/usr/local/lib/R/site-library’\n",
            "(as ‘lib’ is unspecified)\n",
            "\n"
          ]
        }
      ]
    },
    {
      "cell_type": "code",
      "execution_count": 2,
      "metadata": {
        "id": "I0B9chFD1GR0",
        "outputId": "90fca53b-1502-4d41-b10f-6cf4351363f9",
        "colab": {
          "base_uri": "https://localhost:8080/",
          "height": 286
        }
      },
      "outputs": [
        {
          "output_type": "display_data",
          "data": {
            "text/html": [
              "<table class=\"dataframe\">\n",
              "<caption>A data.frame: 6 × 5</caption>\n",
              "<thead>\n",
              "\t<tr><th></th><th scope=col>runner_bib</th><th scope=col>runner_name</th><th scope=col>runner_age</th><th scope=col>runner_gender</th><th scope=col>finish_time</th></tr>\n",
              "\t<tr><th></th><th scope=col>&lt;int&gt;</th><th scope=col>&lt;chr&gt;</th><th scope=col>&lt;int&gt;</th><th scope=col>&lt;chr&gt;</th><th scope=col>&lt;chr&gt;</th></tr>\n",
              "</thead>\n",
              "<tbody>\n",
              "\t<tr><th scope=row>1</th><td>1</td><td>Loydie Lopes    </td><td>17</td><td>Male  </td><td>16:01</td></tr>\n",
              "\t<tr><th scope=row>2</th><td>2</td><td>Lorens Crispe   </td><td>33</td><td>Male  </td><td>15:40</td></tr>\n",
              "\t<tr><th scope=row>3</th><td>3</td><td>Shirline Hasser </td><td>22</td><td>Female</td><td>14:20</td></tr>\n",
              "\t<tr><th scope=row>4</th><td>4</td><td>Alleyn Hartshorn</td><td>39</td><td>Male  </td><td>17:06</td></tr>\n",
              "\t<tr><th scope=row>5</th><td>5</td><td>Wang MacColl    </td><td>50</td><td>Male  </td><td>16:49</td></tr>\n",
              "\t<tr><th scope=row>6</th><td>6</td><td>Tonnie Tidder   </td><td>44</td><td>Male  </td><td>15:43</td></tr>\n",
              "</tbody>\n",
              "</table>\n"
            ],
            "text/markdown": "\nA data.frame: 6 × 5\n\n| <!--/--> | runner_bib &lt;int&gt; | runner_name &lt;chr&gt; | runner_age &lt;int&gt; | runner_gender &lt;chr&gt; | finish_time &lt;chr&gt; |\n|---|---|---|---|---|---|\n| 1 | 1 | Loydie Lopes     | 17 | Male   | 16:01 |\n| 2 | 2 | Lorens Crispe    | 33 | Male   | 15:40 |\n| 3 | 3 | Shirline Hasser  | 22 | Female | 14:20 |\n| 4 | 4 | Alleyn Hartshorn | 39 | Male   | 17:06 |\n| 5 | 5 | Wang MacColl     | 50 | Male   | 16:49 |\n| 6 | 6 | Tonnie Tidder    | 44 | Male   | 15:43 |\n\n",
            "text/latex": "A data.frame: 6 × 5\n\\begin{tabular}{r|lllll}\n  & runner\\_bib & runner\\_name & runner\\_age & runner\\_gender & finish\\_time\\\\\n  & <int> & <chr> & <int> & <chr> & <chr>\\\\\n\\hline\n\t1 & 1 & Loydie Lopes     & 17 & Male   & 16:01\\\\\n\t2 & 2 & Lorens Crispe    & 33 & Male   & 15:40\\\\\n\t3 & 3 & Shirline Hasser  & 22 & Female & 14:20\\\\\n\t4 & 4 & Alleyn Hartshorn & 39 & Male   & 17:06\\\\\n\t5 & 5 & Wang MacColl     & 50 & Male   & 16:49\\\\\n\t6 & 6 & Tonnie Tidder    & 44 & Male   & 15:43\\\\\n\\end{tabular}\n",
            "text/plain": [
              "  runner_bib runner_name      runner_age runner_gender finish_time\n",
              "1 1          Loydie Lopes     17         Male          16:01      \n",
              "2 2          Lorens Crispe    33         Male          15:40      \n",
              "3 3          Shirline Hasser  22         Female        14:20      \n",
              "4 4          Alleyn Hartshorn 39         Male          17:06      \n",
              "5 5          Wang MacColl     50         Male          16:49      \n",
              "6 6          Tonnie Tidder    44         Male          15:43      "
            ]
          },
          "metadata": {}
        }
      ],
      "source": [
        "# Loading a CSV file into a data frame\n",
        "road_race <- read.csv(\"https://raw.githubusercontent.com/nmagee/ds1002/main/data/road-race.csv\")\n",
        "head(road_race)"
      ]
    },
    {
      "cell_type": "markdown",
      "source": [
        "## 2. Get Summary Data (1 pt)"
      ],
      "metadata": {
        "id": "H389W9dkobGI"
      }
    },
    {
      "cell_type": "markdown",
      "source": [
        "In code, display how many rows and columns are in the raw dataset."
      ],
      "metadata": {
        "id": "KA0wbjmE-4Q9"
      }
    },
    {
      "cell_type": "code",
      "source": [
        "# Number of rows and columns in raw dataset\n",
        "rows <- paste(\"Rows:\", nrow(road_race))\n",
        "columns <- paste(\"Columns:\", ncol(road_race))\n",
        "rows\n",
        "columns"
      ],
      "metadata": {
        "id": "XhULtu7qox-p",
        "outputId": "00368272-db91-4d61-9e35-04100a6512af",
        "colab": {
          "base_uri": "https://localhost:8080/",
          "height": 52
        }
      },
      "execution_count": 5,
      "outputs": [
        {
          "output_type": "display_data",
          "data": {
            "text/html": [
              "'Rows: 764'"
            ],
            "text/markdown": "'Rows: 764'",
            "text/latex": "'Rows: 764'",
            "text/plain": [
              "[1] \"Rows: 764\""
            ]
          },
          "metadata": {}
        },
        {
          "output_type": "display_data",
          "data": {
            "text/html": [
              "'Columns: 5'"
            ],
            "text/markdown": "'Columns: 5'",
            "text/latex": "'Columns: 5'",
            "text/plain": [
              "[1] \"Columns: 5\""
            ]
          },
          "metadata": {}
        }
      ]
    },
    {
      "cell_type": "code",
      "source": [
        "# Basic information about dataset\n",
        "str(road_race)"
      ],
      "metadata": {
        "id": "mXPIDcZUb-ke",
        "outputId": "18a2bfb8-1fb4-443c-fe06-c2c093da6f8a",
        "colab": {
          "base_uri": "https://localhost:8080/"
        }
      },
      "execution_count": 6,
      "outputs": [
        {
          "output_type": "stream",
          "name": "stdout",
          "text": [
            "'data.frame':\t764 obs. of  5 variables:\n",
            " $ runner_bib   : int  1 2 3 4 5 6 7 8 9 10 ...\n",
            " $ runner_name  : chr  \"Loydie Lopes\" \"Lorens Crispe\" \"Shirline Hasser\" \"Alleyn Hartshorn\" ...\n",
            " $ runner_age   : int  17 33 22 39 50 44 51 44 30 60 ...\n",
            " $ runner_gender: chr  \"Male\" \"Male\" \"Female\" \"Male\" ...\n",
            " $ finish_time  : chr  \"16:01\" \"15:40\" \"14:20\" \"17:06\" ...\n"
          ]
        }
      ]
    },
    {
      "cell_type": "markdown",
      "source": [
        "## 3. Clean and Organize the Data (2 pts)\n",
        "\n",
        "Check for data quality.\n",
        "\n",
        "- Resolve any duplicate rows.\n",
        "- If a runner does not have a finish time, they are DNF and should not be counted in the dataset.\n",
        "\n"
      ],
      "metadata": {
        "id": "abshX7QeooAs"
      }
    },
    {
      "cell_type": "code",
      "source": [
        "# Number of duplicate rows\n",
        "nrow(road_race[duplicated(road_race), ])"
      ],
      "metadata": {
        "id": "Aq3J7yD82uwW",
        "outputId": "1571698f-9f09-4eb9-8796-467565b36286",
        "colab": {
          "base_uri": "https://localhost:8080/",
          "height": 34
        }
      },
      "execution_count": 9,
      "outputs": [
        {
          "output_type": "display_data",
          "data": {
            "text/html": [
              "124"
            ],
            "text/markdown": "124",
            "text/latex": "124",
            "text/plain": [
              "[1] 124"
            ]
          },
          "metadata": {}
        }
      ]
    },
    {
      "cell_type": "code",
      "source": [
        "# Removing duplicate rows\n",
        "road_race_2 <- road_race[!duplicated(road_race), ]\n",
        "nrow(road_race_2)"
      ],
      "metadata": {
        "id": "8_K4sfcjcUuA",
        "outputId": "dd37ef9a-156a-47c2-ee81-13b8bcb01dcd",
        "colab": {
          "base_uri": "https://localhost:8080/",
          "height": 34
        }
      },
      "execution_count": 11,
      "outputs": [
        {
          "output_type": "display_data",
          "data": {
            "text/html": [
              "640"
            ],
            "text/markdown": "640",
            "text/latex": "640",
            "text/plain": [
              "[1] 640"
            ]
          },
          "metadata": {}
        }
      ]
    },
    {
      "cell_type": "code",
      "source": [
        "# Defining runners without a finish time as NA and removing those rows\n",
        "road_race_2[road_race_2 == \"\"] <- NA\n",
        "road_race_cleaned <- road_race_2[complete.cases(road_race_2), ]\n",
        "nrow(road_race_cleaned)"
      ],
      "metadata": {
        "id": "KD4wrcSIc6J2",
        "outputId": "aa187610-f961-4756-dedf-30074e43527b",
        "colab": {
          "base_uri": "https://localhost:8080/",
          "height": 34
        }
      },
      "execution_count": 21,
      "outputs": [
        {
          "output_type": "display_data",
          "data": {
            "text/html": [
              "594"
            ],
            "text/markdown": "594",
            "text/latex": "594",
            "text/plain": [
              "[1] 594"
            ]
          },
          "metadata": {}
        }
      ]
    },
    {
      "cell_type": "markdown",
      "source": [
        "Now display the first 10 rows of the cleaned dataset."
      ],
      "metadata": {
        "id": "Ccwu8bUx_Azj"
      }
    },
    {
      "cell_type": "code",
      "source": [
        "# First 10 rows of cleaned dataset\n",
        "road_race_cleaned[1:9,]"
      ],
      "metadata": {
        "id": "1iVIskCs_Ewe",
        "outputId": "7bbb6e3a-caad-41fb-ef57-2ffe913be8a6",
        "colab": {
          "base_uri": "https://localhost:8080/",
          "height": 380
        }
      },
      "execution_count": 20,
      "outputs": [
        {
          "output_type": "display_data",
          "data": {
            "text/html": [
              "<table class=\"dataframe\">\n",
              "<caption>A data.frame: 9 × 5</caption>\n",
              "<thead>\n",
              "\t<tr><th></th><th scope=col>runner_bib</th><th scope=col>runner_name</th><th scope=col>runner_age</th><th scope=col>runner_gender</th><th scope=col>finish_time</th></tr>\n",
              "\t<tr><th></th><th scope=col>&lt;int&gt;</th><th scope=col>&lt;chr&gt;</th><th scope=col>&lt;int&gt;</th><th scope=col>&lt;chr&gt;</th><th scope=col>&lt;chr&gt;</th></tr>\n",
              "</thead>\n",
              "<tbody>\n",
              "\t<tr><th scope=row>1</th><td> 1</td><td>Loydie Lopes    </td><td>17</td><td>Male  </td><td>16:01</td></tr>\n",
              "\t<tr><th scope=row>2</th><td> 2</td><td>Lorens Crispe   </td><td>33</td><td>Male  </td><td>15:40</td></tr>\n",
              "\t<tr><th scope=row>3</th><td> 3</td><td>Shirline Hasser </td><td>22</td><td>Female</td><td>14:20</td></tr>\n",
              "\t<tr><th scope=row>4</th><td> 4</td><td>Alleyn Hartshorn</td><td>39</td><td>Male  </td><td>17:06</td></tr>\n",
              "\t<tr><th scope=row>5</th><td> 5</td><td>Wang MacColl    </td><td>50</td><td>Male  </td><td>16:49</td></tr>\n",
              "\t<tr><th scope=row>6</th><td> 6</td><td>Tonnie Tidder   </td><td>44</td><td>Male  </td><td>15:43</td></tr>\n",
              "\t<tr><th scope=row>8</th><td> 8</td><td>Basil Moxsom    </td><td>44</td><td>Male  </td><td>15:16</td></tr>\n",
              "\t<tr><th scope=row>9</th><td> 9</td><td>Lark Bragge     </td><td>30</td><td>Female</td><td>15:59</td></tr>\n",
              "\t<tr><th scope=row>10</th><td>10</td><td>Kent Wakely     </td><td>60</td><td>Male  </td><td>14:29</td></tr>\n",
              "</tbody>\n",
              "</table>\n"
            ],
            "text/markdown": "\nA data.frame: 9 × 5\n\n| <!--/--> | runner_bib &lt;int&gt; | runner_name &lt;chr&gt; | runner_age &lt;int&gt; | runner_gender &lt;chr&gt; | finish_time &lt;chr&gt; |\n|---|---|---|---|---|---|\n| 1 |  1 | Loydie Lopes     | 17 | Male   | 16:01 |\n| 2 |  2 | Lorens Crispe    | 33 | Male   | 15:40 |\n| 3 |  3 | Shirline Hasser  | 22 | Female | 14:20 |\n| 4 |  4 | Alleyn Hartshorn | 39 | Male   | 17:06 |\n| 5 |  5 | Wang MacColl     | 50 | Male   | 16:49 |\n| 6 |  6 | Tonnie Tidder    | 44 | Male   | 15:43 |\n| 8 |  8 | Basil Moxsom     | 44 | Male   | 15:16 |\n| 9 |  9 | Lark Bragge      | 30 | Female | 15:59 |\n| 10 | 10 | Kent Wakely      | 60 | Male   | 14:29 |\n\n",
            "text/latex": "A data.frame: 9 × 5\n\\begin{tabular}{r|lllll}\n  & runner\\_bib & runner\\_name & runner\\_age & runner\\_gender & finish\\_time\\\\\n  & <int> & <chr> & <int> & <chr> & <chr>\\\\\n\\hline\n\t1 &  1 & Loydie Lopes     & 17 & Male   & 16:01\\\\\n\t2 &  2 & Lorens Crispe    & 33 & Male   & 15:40\\\\\n\t3 &  3 & Shirline Hasser  & 22 & Female & 14:20\\\\\n\t4 &  4 & Alleyn Hartshorn & 39 & Male   & 17:06\\\\\n\t5 &  5 & Wang MacColl     & 50 & Male   & 16:49\\\\\n\t6 &  6 & Tonnie Tidder    & 44 & Male   & 15:43\\\\\n\t8 &  8 & Basil Moxsom     & 44 & Male   & 15:16\\\\\n\t9 &  9 & Lark Bragge      & 30 & Female & 15:59\\\\\n\t10 & 10 & Kent Wakely      & 60 & Male   & 14:29\\\\\n\\end{tabular}\n",
            "text/plain": [
              "   runner_bib runner_name      runner_age runner_gender finish_time\n",
              "1   1         Loydie Lopes     17         Male          16:01      \n",
              "2   2         Lorens Crispe    33         Male          15:40      \n",
              "3   3         Shirline Hasser  22         Female        14:20      \n",
              "4   4         Alleyn Hartshorn 39         Male          17:06      \n",
              "5   5         Wang MacColl     50         Male          16:49      \n",
              "6   6         Tonnie Tidder    44         Male          15:43      \n",
              "8   8         Basil Moxsom     44         Male          15:16      \n",
              "9   9         Lark Bragge      30         Female        15:59      \n",
              "10 10         Kent Wakely      60         Male          14:29      "
            ]
          },
          "metadata": {}
        }
      ]
    },
    {
      "cell_type": "markdown",
      "source": [
        "## 4. Calculate Elapsed Time (3 pts)"
      ],
      "metadata": {
        "id": "3-4dd8nsr_zF"
      }
    },
    {
      "cell_type": "markdown",
      "source": [
        "Using R, add a new column named `[\"finish_minutes\"]` to the dataframe that calculates the number of minutes it took for the runner to complete the race. Ideally this is a column consisting of plain integers.\n",
        "\n",
        "The starting gun was fired at precisely 12:00pm that day.\n",
        "\n",
        "Note: This is calculated using a built-in function of R, `difftime()` which takes 3 parameters:\n",
        "\n",
        "- End time\n",
        "- Start time\n",
        "- Units\n",
        "\n",
        "The result is an output that figures the difference between the two: `3 days`, `14 years`, `112 mins`, etc.\n",
        "\n",
        "The syntax for that function is below. Take care to use the proper order of parameters. The `as.POSIXct` casting makes it possible to read a long datetime in the `YYYY-MM-DDTHH:MM` format, a common `datetime` value. The `format` parameter specifies the pattern you are trying to read.\n",
        "\n",
        "```\n",
        "df$new-column <- (difftime( as.POSIXct(df$end-column, format=\"%Y-%m-%dT%H:%M\"),\n",
        "                            as.POSIXct(df$start-column, format=\"%Y-%m-%dT%H:%M\"),\n",
        "                            units=\"min\"))\n",
        "```"
      ],
      "metadata": {
        "id": "HrGLlM83vH0c"
      }
    },
    {
      "cell_type": "code",
      "source": [
        "road_race_cleaned$start_time <- \"12:00\""
      ],
      "metadata": {
        "id": "2gPjZlJkhtgI"
      },
      "execution_count": 27,
      "outputs": []
    },
    {
      "cell_type": "code",
      "source": [
        "# Adding the new column \"finish_minutes\" to the dataframe\n",
        "road_race_cleaned$finish_minutes <- (difftime(as.POSIXct(road_race_cleaned$finish_time, format=\"%H:%M\"),\n",
        "                            as.POSIXct(road_race_cleaned$start_time, format=\"%H:%M\"),\n",
        "                            units=\"min\"))"
      ],
      "metadata": {
        "id": "5HKqg1bfAXbl"
      },
      "execution_count": 35,
      "outputs": []
    },
    {
      "cell_type": "code",
      "source": [
        "head(road_race_cleaned)"
      ],
      "metadata": {
        "id": "3XIbUZJ1hVqi",
        "outputId": "0901e7d2-2033-4bc3-a11e-1bb9c4f95859",
        "colab": {
          "base_uri": "https://localhost:8080/",
          "height": 286
        }
      },
      "execution_count": 34,
      "outputs": [
        {
          "output_type": "display_data",
          "data": {
            "text/html": [
              "<table class=\"dataframe\">\n",
              "<caption>A data.frame: 6 × 7</caption>\n",
              "<thead>\n",
              "\t<tr><th></th><th scope=col>runner_bib</th><th scope=col>runner_name</th><th scope=col>runner_age</th><th scope=col>runner_gender</th><th scope=col>finish_time</th><th scope=col>finish_minutes</th><th scope=col>start_time</th></tr>\n",
              "\t<tr><th></th><th scope=col>&lt;int&gt;</th><th scope=col>&lt;chr&gt;</th><th scope=col>&lt;int&gt;</th><th scope=col>&lt;chr&gt;</th><th scope=col>&lt;chr&gt;</th><th scope=col>&lt;drtn&gt;</th><th scope=col>&lt;chr&gt;</th></tr>\n",
              "</thead>\n",
              "<tbody>\n",
              "\t<tr><th scope=row>1</th><td>1</td><td>Loydie Lopes    </td><td>17</td><td>Male  </td><td>16:01</td><td>241 mins</td><td>12:00</td></tr>\n",
              "\t<tr><th scope=row>2</th><td>2</td><td>Lorens Crispe   </td><td>33</td><td>Male  </td><td>15:40</td><td>220 mins</td><td>12:00</td></tr>\n",
              "\t<tr><th scope=row>3</th><td>3</td><td>Shirline Hasser </td><td>22</td><td>Female</td><td>14:20</td><td>140 mins</td><td>12:00</td></tr>\n",
              "\t<tr><th scope=row>4</th><td>4</td><td>Alleyn Hartshorn</td><td>39</td><td>Male  </td><td>17:06</td><td>306 mins</td><td>12:00</td></tr>\n",
              "\t<tr><th scope=row>5</th><td>5</td><td>Wang MacColl    </td><td>50</td><td>Male  </td><td>16:49</td><td>289 mins</td><td>12:00</td></tr>\n",
              "\t<tr><th scope=row>6</th><td>6</td><td>Tonnie Tidder   </td><td>44</td><td>Male  </td><td>15:43</td><td>223 mins</td><td>12:00</td></tr>\n",
              "</tbody>\n",
              "</table>\n"
            ],
            "text/markdown": "\nA data.frame: 6 × 7\n\n| <!--/--> | runner_bib &lt;int&gt; | runner_name &lt;chr&gt; | runner_age &lt;int&gt; | runner_gender &lt;chr&gt; | finish_time &lt;chr&gt; | finish_minutes &lt;drtn&gt; | start_time &lt;chr&gt; |\n|---|---|---|---|---|---|---|---|\n| 1 | 1 | Loydie Lopes     | 17 | Male   | 16:01 | 241 mins | 12:00 |\n| 2 | 2 | Lorens Crispe    | 33 | Male   | 15:40 | 220 mins | 12:00 |\n| 3 | 3 | Shirline Hasser  | 22 | Female | 14:20 | 140 mins | 12:00 |\n| 4 | 4 | Alleyn Hartshorn | 39 | Male   | 17:06 | 306 mins | 12:00 |\n| 5 | 5 | Wang MacColl     | 50 | Male   | 16:49 | 289 mins | 12:00 |\n| 6 | 6 | Tonnie Tidder    | 44 | Male   | 15:43 | 223 mins | 12:00 |\n\n",
            "text/latex": "A data.frame: 6 × 7\n\\begin{tabular}{r|lllllll}\n  & runner\\_bib & runner\\_name & runner\\_age & runner\\_gender & finish\\_time & finish\\_minutes & start\\_time\\\\\n  & <int> & <chr> & <int> & <chr> & <chr> & <drtn> & <chr>\\\\\n\\hline\n\t1 & 1 & Loydie Lopes     & 17 & Male   & 16:01 & 241 mins & 12:00\\\\\n\t2 & 2 & Lorens Crispe    & 33 & Male   & 15:40 & 220 mins & 12:00\\\\\n\t3 & 3 & Shirline Hasser  & 22 & Female & 14:20 & 140 mins & 12:00\\\\\n\t4 & 4 & Alleyn Hartshorn & 39 & Male   & 17:06 & 306 mins & 12:00\\\\\n\t5 & 5 & Wang MacColl     & 50 & Male   & 16:49 & 289 mins & 12:00\\\\\n\t6 & 6 & Tonnie Tidder    & 44 & Male   & 15:43 & 223 mins & 12:00\\\\\n\\end{tabular}\n",
            "text/plain": [
              "  runner_bib runner_name      runner_age runner_gender finish_time\n",
              "1 1          Loydie Lopes     17         Male          16:01      \n",
              "2 2          Lorens Crispe    33         Male          15:40      \n",
              "3 3          Shirline Hasser  22         Female        14:20      \n",
              "4 4          Alleyn Hartshorn 39         Male          17:06      \n",
              "5 5          Wang MacColl     50         Male          16:49      \n",
              "6 6          Tonnie Tidder    44         Male          15:43      \n",
              "  finish_minutes start_time\n",
              "1 241 mins       12:00     \n",
              "2 220 mins       12:00     \n",
              "3 140 mins       12:00     \n",
              "4 306 mins       12:00     \n",
              "5 289 mins       12:00     \n",
              "6 223 mins       12:00     "
            ]
          },
          "metadata": {}
        }
      ]
    },
    {
      "cell_type": "markdown",
      "source": [
        "## 5. Identify Winners by Gender (2 pts)"
      ],
      "metadata": {
        "id": "KKg8d9RDyeDa"
      }
    },
    {
      "cell_type": "markdown",
      "source": [
        "Based on the minutes it took each runner to complete the race, identify the top three places for each gender.\n",
        "\n",
        "There are several ways to do this, some of which require less code than others. You will only be graded for producing the correct output, not on how elegant/advanced your programming is."
      ],
      "metadata": {
        "id": "5kKBo3_sykGD"
      }
    },
    {
      "cell_type": "code",
      "source": [
        "# Split road_race_cleaned into separate data frames based on gender type\n",
        "road_race_split <- road_race_cleaned %>%\n",
        "  split(road_race_cleaned$runner_gender)"
      ],
      "metadata": {
        "id": "xRlliRMY2_-c"
      },
      "execution_count": 58,
      "outputs": []
    },
    {
      "cell_type": "code",
      "source": [
        "road_race_grouped <- road_race_cleaned %>%\n",
        "  group_by(runner_gender) %>%\n",
        "  arrange(desc(finish_minutes))\n",
        "\n",
        "road_race_grouped$"
      ],
      "metadata": {
        "id": "U-sgvWfKupUk"
      },
      "execution_count": 68,
      "outputs": []
    },
    {
      "cell_type": "code",
      "source": [
        "#\n",
        "\n",
        "#road_race_split$`Non-binary` %>%\n",
        "  #arrange(desc(finish_minutes))\n",
        "\n",
        "#str(road_race_split)\n",
        "\n",
        "road_race_split$Bigender[1:3,]"
      ],
      "metadata": {
        "id": "_QsXSt8AounZ",
        "outputId": "a3f50287-e37a-4f4d-e0be-d7ebb2d7638c",
        "colab": {
          "base_uri": "https://localhost:8080/",
          "height": 192
        }
      },
      "execution_count": 70,
      "outputs": [
        {
          "output_type": "display_data",
          "data": {
            "text/html": [
              "<table class=\"dataframe\">\n",
              "<caption>A data.frame: 3 × 7</caption>\n",
              "<thead>\n",
              "\t<tr><th></th><th scope=col>runner_bib</th><th scope=col>runner_name</th><th scope=col>runner_age</th><th scope=col>runner_gender</th><th scope=col>finish_time</th><th scope=col>finish_minutes</th><th scope=col>start_time</th></tr>\n",
              "\t<tr><th></th><th scope=col>&lt;int&gt;</th><th scope=col>&lt;chr&gt;</th><th scope=col>&lt;int&gt;</th><th scope=col>&lt;chr&gt;</th><th scope=col>&lt;chr&gt;</th><th scope=col>&lt;drtn&gt;</th><th scope=col>&lt;chr&gt;</th></tr>\n",
              "</thead>\n",
              "<tbody>\n",
              "\t<tr><th scope=row>49</th><td> 49</td><td>Lily Brigman </td><td>48</td><td>Bigender</td><td>15:28</td><td>208 mins</td><td>12:00</td></tr>\n",
              "\t<tr><th scope=row>139</th><td>139</td><td>Bob Brane    </td><td>30</td><td>Bigender</td><td>17:01</td><td>301 mins</td><td>12:00</td></tr>\n",
              "\t<tr><th scope=row>162</th><td>162</td><td>Ariel Holyard</td><td>42</td><td>Bigender</td><td>17:01</td><td>301 mins</td><td>12:00</td></tr>\n",
              "</tbody>\n",
              "</table>\n"
            ],
            "text/markdown": "\nA data.frame: 3 × 7\n\n| <!--/--> | runner_bib &lt;int&gt; | runner_name &lt;chr&gt; | runner_age &lt;int&gt; | runner_gender &lt;chr&gt; | finish_time &lt;chr&gt; | finish_minutes &lt;drtn&gt; | start_time &lt;chr&gt; |\n|---|---|---|---|---|---|---|---|\n| 49 |  49 | Lily Brigman  | 48 | Bigender | 15:28 | 208 mins | 12:00 |\n| 139 | 139 | Bob Brane     | 30 | Bigender | 17:01 | 301 mins | 12:00 |\n| 162 | 162 | Ariel Holyard | 42 | Bigender | 17:01 | 301 mins | 12:00 |\n\n",
            "text/latex": "A data.frame: 3 × 7\n\\begin{tabular}{r|lllllll}\n  & runner\\_bib & runner\\_name & runner\\_age & runner\\_gender & finish\\_time & finish\\_minutes & start\\_time\\\\\n  & <int> & <chr> & <int> & <chr> & <chr> & <drtn> & <chr>\\\\\n\\hline\n\t49 &  49 & Lily Brigman  & 48 & Bigender & 15:28 & 208 mins & 12:00\\\\\n\t139 & 139 & Bob Brane     & 30 & Bigender & 17:01 & 301 mins & 12:00\\\\\n\t162 & 162 & Ariel Holyard & 42 & Bigender & 17:01 & 301 mins & 12:00\\\\\n\\end{tabular}\n",
            "text/plain": [
              "    runner_bib runner_name   runner_age runner_gender finish_time\n",
              "49   49        Lily Brigman  48         Bigender      15:28      \n",
              "139 139        Bob Brane     30         Bigender      17:01      \n",
              "162 162        Ariel Holyard 42         Bigender      17:01      \n",
              "    finish_minutes start_time\n",
              "49  208 mins       12:00     \n",
              "139 301 mins       12:00     \n",
              "162 301 mins       12:00     "
            ]
          },
          "metadata": {}
        }
      ]
    },
    {
      "cell_type": "markdown",
      "source": [
        "## 6. Plot the Data (3 pts)"
      ],
      "metadata": {
        "id": "2B9dxJbno0s0"
      }
    },
    {
      "cell_type": "markdown",
      "source": [
        "Finally, using `ggplot2` create two plots of the data -- density plots of race finishers.\n",
        "\n",
        "- In the first plot use `finish_minutes` as the x axis.\n",
        "- In the second plot use `runner_age` as the x axis.\n",
        "- Use `runner_gender` as the fill.\n",
        "- We suggest using a `geom_density(alpha=0.2)` or therabouts to see layers through one another.\n",
        "- Use the `gridExtra` library's `grid.arrange()` method to plot them both.\n",
        "\n",
        "You will note that since this is artificial data you will be able to see the gender layers clearly enough but they will not be statistically meaningful."
      ],
      "metadata": {
        "id": "LwMrL6-AplCH"
      }
    },
    {
      "cell_type": "code",
      "source": [
        "#\n"
      ],
      "metadata": {
        "id": "9vDIw9YeERNx"
      },
      "execution_count": null,
      "outputs": []
    }
  ]
}